{
 "cells": [
  {
   "cell_type": "code",
   "execution_count": 1,
   "metadata": {
    "ExecuteTime": {
     "end_time": "2018-12-04T09:43:29.506710Z",
     "start_time": "2018-12-04T09:43:28.495119Z"
    }
   },
   "outputs": [],
   "source": [
    "import pandas as pd\n",
    "import numpy as np\n",
    "import re\n",
    "import math\n",
    "import pickle\n",
    "import scipy\n",
    "import matplotlib.pyplot as plt\n",
    "\n",
    "from sklearn import metrics\n",
    "from preprocessing import *\n",
    "from sklearn.ensemble import RandomForestRegressor as RFR\n",
    "from sklearn.model_selection import GridSearchCV\n",
    "from scipy.cluster import hierarchy as hc"
   ]
  },
  {
   "cell_type": "code",
   "execution_count": 2,
   "metadata": {
    "ExecuteTime": {
     "end_time": "2018-12-04T09:43:29.541574Z",
     "start_time": "2018-12-04T09:43:29.518999Z"
    }
   },
   "outputs": [],
   "source": [
    "X_train, y_train = pickle.load(open('train_final.p','rb'))\n",
    "X_valid, y_valid = pickle.load(open('valid_final.p','rb'))\n",
    "X_test, y_test = pickle.load(open('test_final.p','rb'))"
   ]
  },
  {
   "cell_type": "code",
   "execution_count": 3,
   "metadata": {
    "ExecuteTime": {
     "end_time": "2018-12-04T09:43:30.931853Z",
     "start_time": "2018-12-04T09:43:30.880667Z"
    }
   },
   "outputs": [],
   "source": [
    "train_drop = pd.Series(y_train)[pd.Series(np.exp(y_train)) > 1e6].index\n",
    "valid_drop = pd.Series(y_valid)[pd.Series(np.exp(y_valid)) > 1e6].index"
   ]
  },
  {
   "cell_type": "code",
   "execution_count": 4,
   "metadata": {
    "ExecuteTime": {
     "end_time": "2018-12-04T09:43:34.148302Z",
     "start_time": "2018-12-04T09:43:34.145944Z"
    }
   },
   "outputs": [],
   "source": [
    "valid_drop = valid_drop + len(X_train)"
   ]
  },
  {
   "cell_type": "code",
   "execution_count": 5,
   "metadata": {
    "ExecuteTime": {
     "end_time": "2018-12-04T09:43:34.769716Z",
     "start_time": "2018-12-04T09:43:34.588792Z"
    }
   },
   "outputs": [
    {
     "ename": "ValueError",
     "evalue": "labels [  357   500   939  1663  1849  1944  1996  2289  2469  2776  2881  3727\n  3877  3942  4132  4136  4538  4827  4996  5060  5219  5458  5862  6471\n  6918  7441  7479  8050  8356  8559  9611 11080 11899 12570 13201 13422\n 13586 13753 14979 15167 15780 16467 16654 16711 17076 18091 18360 18841\n 18924 18925 19651 20342 20667 20973 21789 22117 22603 22635 23370 23686\n 23788 23800 23844 24881 24897 24919 24988 25053 25763 25898 27454 27497\n 27605 27618 27712 28028 28067 28962 29431 30628 30788 30937 31441 32071\n 32122 32631 33037 33973 34137 34465 35434 35551 35566 35966 36406 36512\n 36730 37228 37709 37864 38997 39082] not contained in axis",
     "output_type": "error",
     "traceback": [
      "\u001b[0;31m---------------------------------------------------------------------------\u001b[0m",
      "\u001b[0;31mValueError\u001b[0m                                Traceback (most recent call last)",
      "\u001b[0;32m<ipython-input-5-6b5d14368e1a>\u001b[0m in \u001b[0;36m<module>\u001b[0;34m()\u001b[0m\n\u001b[0;32m----> 1\u001b[0;31m \u001b[0mX_train\u001b[0m \u001b[0;34m=\u001b[0m \u001b[0mX_train\u001b[0m\u001b[0;34m.\u001b[0m\u001b[0mdrop\u001b[0m\u001b[0;34m(\u001b[0m\u001b[0mtrain_drop\u001b[0m\u001b[0;34m)\u001b[0m\u001b[0;34m\u001b[0m\u001b[0m\n\u001b[0m\u001b[1;32m      2\u001b[0m \u001b[0mX_valid\u001b[0m \u001b[0;34m=\u001b[0m \u001b[0mX_valid\u001b[0m\u001b[0;34m.\u001b[0m\u001b[0mdrop\u001b[0m\u001b[0;34m(\u001b[0m\u001b[0mvalid_drop\u001b[0m\u001b[0;34m)\u001b[0m\u001b[0;34m\u001b[0m\u001b[0m\n",
      "\u001b[0;32m~/anaconda3/lib/python3.6/site-packages/pandas/core/generic.py\u001b[0m in \u001b[0;36mdrop\u001b[0;34m(self, labels, axis, index, columns, level, inplace, errors)\u001b[0m\n\u001b[1;32m   2528\u001b[0m         \u001b[0;32mfor\u001b[0m \u001b[0maxis\u001b[0m\u001b[0;34m,\u001b[0m \u001b[0mlabels\u001b[0m \u001b[0;32min\u001b[0m \u001b[0maxes\u001b[0m\u001b[0;34m.\u001b[0m\u001b[0mitems\u001b[0m\u001b[0;34m(\u001b[0m\u001b[0;34m)\u001b[0m\u001b[0;34m:\u001b[0m\u001b[0;34m\u001b[0m\u001b[0m\n\u001b[1;32m   2529\u001b[0m             \u001b[0;32mif\u001b[0m \u001b[0mlabels\u001b[0m \u001b[0;32mis\u001b[0m \u001b[0;32mnot\u001b[0m \u001b[0;32mNone\u001b[0m\u001b[0;34m:\u001b[0m\u001b[0;34m\u001b[0m\u001b[0m\n\u001b[0;32m-> 2530\u001b[0;31m                 \u001b[0mobj\u001b[0m \u001b[0;34m=\u001b[0m \u001b[0mobj\u001b[0m\u001b[0;34m.\u001b[0m\u001b[0m_drop_axis\u001b[0m\u001b[0;34m(\u001b[0m\u001b[0mlabels\u001b[0m\u001b[0;34m,\u001b[0m \u001b[0maxis\u001b[0m\u001b[0;34m,\u001b[0m \u001b[0mlevel\u001b[0m\u001b[0;34m=\u001b[0m\u001b[0mlevel\u001b[0m\u001b[0;34m,\u001b[0m \u001b[0merrors\u001b[0m\u001b[0;34m=\u001b[0m\u001b[0merrors\u001b[0m\u001b[0;34m)\u001b[0m\u001b[0;34m\u001b[0m\u001b[0m\n\u001b[0m\u001b[1;32m   2531\u001b[0m \u001b[0;34m\u001b[0m\u001b[0m\n\u001b[1;32m   2532\u001b[0m         \u001b[0;32mif\u001b[0m \u001b[0minplace\u001b[0m\u001b[0;34m:\u001b[0m\u001b[0;34m\u001b[0m\u001b[0m\n",
      "\u001b[0;32m~/anaconda3/lib/python3.6/site-packages/pandas/core/generic.py\u001b[0m in \u001b[0;36m_drop_axis\u001b[0;34m(self, labels, axis, level, errors)\u001b[0m\n\u001b[1;32m   2560\u001b[0m                 \u001b[0mnew_axis\u001b[0m \u001b[0;34m=\u001b[0m \u001b[0maxis\u001b[0m\u001b[0;34m.\u001b[0m\u001b[0mdrop\u001b[0m\u001b[0;34m(\u001b[0m\u001b[0mlabels\u001b[0m\u001b[0;34m,\u001b[0m \u001b[0mlevel\u001b[0m\u001b[0;34m=\u001b[0m\u001b[0mlevel\u001b[0m\u001b[0;34m,\u001b[0m \u001b[0merrors\u001b[0m\u001b[0;34m=\u001b[0m\u001b[0merrors\u001b[0m\u001b[0;34m)\u001b[0m\u001b[0;34m\u001b[0m\u001b[0m\n\u001b[1;32m   2561\u001b[0m             \u001b[0;32melse\u001b[0m\u001b[0;34m:\u001b[0m\u001b[0;34m\u001b[0m\u001b[0m\n\u001b[0;32m-> 2562\u001b[0;31m                 \u001b[0mnew_axis\u001b[0m \u001b[0;34m=\u001b[0m \u001b[0maxis\u001b[0m\u001b[0;34m.\u001b[0m\u001b[0mdrop\u001b[0m\u001b[0;34m(\u001b[0m\u001b[0mlabels\u001b[0m\u001b[0;34m,\u001b[0m \u001b[0merrors\u001b[0m\u001b[0;34m=\u001b[0m\u001b[0merrors\u001b[0m\u001b[0;34m)\u001b[0m\u001b[0;34m\u001b[0m\u001b[0m\n\u001b[0m\u001b[1;32m   2563\u001b[0m             \u001b[0mdropped\u001b[0m \u001b[0;34m=\u001b[0m \u001b[0mself\u001b[0m\u001b[0;34m.\u001b[0m\u001b[0mreindex\u001b[0m\u001b[0;34m(\u001b[0m\u001b[0;34m**\u001b[0m\u001b[0;34m{\u001b[0m\u001b[0maxis_name\u001b[0m\u001b[0;34m:\u001b[0m \u001b[0mnew_axis\u001b[0m\u001b[0;34m}\u001b[0m\u001b[0;34m)\u001b[0m\u001b[0;34m\u001b[0m\u001b[0m\n\u001b[1;32m   2564\u001b[0m             \u001b[0;32mtry\u001b[0m\u001b[0;34m:\u001b[0m\u001b[0;34m\u001b[0m\u001b[0m\n",
      "\u001b[0;32m~/anaconda3/lib/python3.6/site-packages/pandas/core/indexes/base.py\u001b[0m in \u001b[0;36mdrop\u001b[0;34m(self, labels, errors)\u001b[0m\n\u001b[1;32m   3742\u001b[0m             \u001b[0;32mif\u001b[0m \u001b[0merrors\u001b[0m \u001b[0;34m!=\u001b[0m \u001b[0;34m'ignore'\u001b[0m\u001b[0;34m:\u001b[0m\u001b[0;34m\u001b[0m\u001b[0m\n\u001b[1;32m   3743\u001b[0m                 raise ValueError('labels %s not contained in axis' %\n\u001b[0;32m-> 3744\u001b[0;31m                                  labels[mask])\n\u001b[0m\u001b[1;32m   3745\u001b[0m             \u001b[0mindexer\u001b[0m \u001b[0;34m=\u001b[0m \u001b[0mindexer\u001b[0m\u001b[0;34m[\u001b[0m\u001b[0;34m~\u001b[0m\u001b[0mmask\u001b[0m\u001b[0;34m]\u001b[0m\u001b[0;34m\u001b[0m\u001b[0m\n\u001b[1;32m   3746\u001b[0m         \u001b[0;32mreturn\u001b[0m \u001b[0mself\u001b[0m\u001b[0;34m.\u001b[0m\u001b[0mdelete\u001b[0m\u001b[0;34m(\u001b[0m\u001b[0mindexer\u001b[0m\u001b[0;34m)\u001b[0m\u001b[0;34m\u001b[0m\u001b[0m\n",
      "\u001b[0;31mValueError\u001b[0m: labels [  357   500   939  1663  1849  1944  1996  2289  2469  2776  2881  3727\n  3877  3942  4132  4136  4538  4827  4996  5060  5219  5458  5862  6471\n  6918  7441  7479  8050  8356  8559  9611 11080 11899 12570 13201 13422\n 13586 13753 14979 15167 15780 16467 16654 16711 17076 18091 18360 18841\n 18924 18925 19651 20342 20667 20973 21789 22117 22603 22635 23370 23686\n 23788 23800 23844 24881 24897 24919 24988 25053 25763 25898 27454 27497\n 27605 27618 27712 28028 28067 28962 29431 30628 30788 30937 31441 32071\n 32122 32631 33037 33973 34137 34465 35434 35551 35566 35966 36406 36512\n 36730 37228 37709 37864 38997 39082] not contained in axis"
     ]
    }
   ],
   "source": [
    "X_train = X_train.drop(train_drop)\n",
    "X_valid = X_valid.drop(valid_drop)"
   ]
  },
  {
   "cell_type": "code",
   "execution_count": 6,
   "metadata": {
    "ExecuteTime": {
     "end_time": "2018-12-04T09:43:35.117157Z",
     "start_time": "2018-12-04T09:43:35.112019Z"
    }
   },
   "outputs": [],
   "source": [
    "y_train = np.exp(y_train)[np.exp(y_train) < 1e6]\n",
    "y_valid = np.exp(y_valid)[np.exp(y_valid) < 1e6]"
   ]
  },
  {
   "cell_type": "markdown",
   "metadata": {},
   "source": [
    "**Baseline Model**"
   ]
  },
  {
   "cell_type": "code",
   "execution_count": 3,
   "metadata": {},
   "outputs": [
    {
     "name": "stderr",
     "output_type": "stream",
     "text": [
      "C:\\Users\\ZBook\\Anaconda3\\lib\\site-packages\\sklearn\\ensemble\\forest.py:724: UserWarning: Some inputs do not have OOB scores. This probably means too few trees were used to compute any reliable oob estimates.\n",
      "  warn(\"Some inputs do not have OOB scores. \"\n"
     ]
    },
    {
     "name": "stdout",
     "output_type": "stream",
     "text": [
      "Wall time: 1.34 s\n",
      "[0.07957391797671443, 0.19483674130044862, 0.9722017654763445, 0.8358920028497475, -5.819524027257855]\n"
     ]
    }
   ],
   "source": [
    "m = RFR(n_jobs=-1, oob_score=True)\n",
    "%time m.fit(X_train, y_train)\n",
    "print_score(m, X_train, y_train, X_valid, y_valid)"
   ]
  },
  {
   "cell_type": "markdown",
   "metadata": {},
   "source": [
    "**Nr Estimators**"
   ]
  },
  {
   "cell_type": "code",
   "execution_count": 6,
   "metadata": {},
   "outputs": [
    {
     "name": "stderr",
     "output_type": "stream",
     "text": [
      "C:\\Users\\ZBook\\Anaconda3\\lib\\site-packages\\sklearn\\ensemble\\forest.py:724: UserWarning: Some inputs do not have OOB scores. This probably means too few trees were used to compute any reliable oob estimates.\n",
      "  warn(\"Some inputs do not have OOB scores. \"\n"
     ]
    },
    {
     "name": "stdout",
     "output_type": "stream",
     "text": [
      "Wall time: 1.41 s\n"
     ]
    },
    {
     "name": "stderr",
     "output_type": "stream",
     "text": [
      "C:\\Users\\ZBook\\Anaconda3\\lib\\site-packages\\sklearn\\ensemble\\forest.py:724: UserWarning: Some inputs do not have OOB scores. This probably means too few trees were used to compute any reliable oob estimates.\n",
      "  warn(\"Some inputs do not have OOB scores. \"\n"
     ]
    },
    {
     "name": "stdout",
     "output_type": "stream",
     "text": [
      "Wall time: 2.47 s\n",
      "Wall time: 4.49 s\n",
      "Wall time: 8.58 s\n",
      "Wall time: 16.1 s\n",
      "[0.07901908718915401, 0.19343940014584804, 0.9725880615655239, 0.8382374798892507, -6.4177130408979535]\n",
      "[0.07170318879152918, 0.1880198889632722, 0.977428902804899, 0.8471745742316062, 0.7162053344330437]\n",
      "[0.06716158870175294, 0.18536571107358443, 0.9801976080481758, 0.8514588322935012, 0.8576271997334592]\n",
      "[0.06572708222926499, 0.18366312881183702, 0.9810344938516704, 0.8541749991342362, 0.8633295167687445]\n",
      "[0.06444655000694528, 0.183396794484964, 0.9817662885605667, 0.854597621177003, 0.8660650102367928]\n"
     ]
    }
   ],
   "source": [
    "# n_estimators\n",
    "\n",
    "m1 = RFR(n_estimators=10, n_jobs=-1, oob_score=True)\n",
    "m2 = RFR(n_estimators=20, n_jobs=-1, oob_score=True)\n",
    "m3 = RFR(n_estimators=40, n_jobs=-1, oob_score=True)\n",
    "m4 = RFR(n_estimators=80, n_jobs=-1, oob_score=True)\n",
    "m5 = RFR(n_estimators=160, n_jobs=-1, oob_score=True)\n",
    "%time m1.fit(X_train, y_train)\n",
    "%time m2.fit(X_train, y_train)\n",
    "%time m3.fit(X_train, y_train)\n",
    "%time m4.fit(X_train, y_train)\n",
    "%time m5.fit(X_train, y_train)\n",
    "print_score(m1, X_train, y_train, X_valid, y_valid)\n",
    "print_score(m2, X_train, y_train, X_valid, y_valid)\n",
    "print_score(m3, X_train, y_train, X_valid, y_valid)\n",
    "print_score(m4, X_train, y_train, X_valid, y_valid)\n",
    "print_score(m5, X_train, y_train, X_valid, y_valid)"
   ]
  },
  {
   "cell_type": "code",
   "execution_count": 7,
   "metadata": {},
   "outputs": [
    {
     "name": "stdout",
     "output_type": "stream",
     "text": [
      "Wall time: 32 s\n",
      "[0.0639608188664054, 0.1826052404607553, 0.9820401063280342, 0.8558500472260352, 0.8684801654338223]\n"
     ]
    }
   ],
   "source": [
    "m6 = RFR(n_estimators=320, n_jobs=-1, oob_score=True)\n",
    "%time m6.fit(X_train, y_train)\n",
    "print_score(m6, X_train, y_train, X_valid, y_valid)"
   ]
  },
  {
   "cell_type": "code",
   "execution_count": 8,
   "metadata": {},
   "outputs": [
    {
     "name": "stdout",
     "output_type": "stream",
     "text": [
      "Wall time: 1min 5s\n",
      "[0.06364861734227353, 0.18243977514835344, 0.9822150078302306, 0.8561111679956779, 0.8689737843877382]\n"
     ]
    }
   ],
   "source": [
    "m6 = RFR(n_estimators=640, n_jobs=-1, oob_score=True)\n",
    "%time m6.fit(X_train, y_train)\n",
    "print_score(m6, X_train, y_train, X_valid, y_valid)"
   ]
  },
  {
   "cell_type": "markdown",
   "metadata": {},
   "source": [
    "**Analysis:** Accuracy is still improving, albeit at a very slow pace, and the models are taking much longer to train."
   ]
  },
  {
   "cell_type": "markdown",
   "metadata": {},
   "source": [
    "**Min Samples Leaf**"
   ]
  },
  {
   "cell_type": "code",
   "execution_count": 9,
   "metadata": {},
   "outputs": [
    {
     "name": "stdout",
     "output_type": "stream",
     "text": [
      "Wall time: 6.54 s\n",
      "Wall time: 5.95 s\n",
      "Wall time: 5.93 s\n",
      "Wall time: 4.76 s\n",
      "[0.09218711194527808, 0.1845609413422369, 0.9626907817018164, 0.8527458226318654, 0.8619469299775945]\n",
      "[0.1138034674374827, 0.1863899265415573, 0.9431426361605815, 0.8498128054088684, 0.857501847853817]\n",
      "[0.14307132616951754, 0.19112590508139957, 0.9101369951912988, 0.8420836342346627, 0.8476678384346147]\n",
      "[0.17602227076625027, 0.20089239801948203, 0.8639774321291971, 0.8255322997467264, 0.8267547804804712]\n"
     ]
    }
   ],
   "source": [
    "# min_samples_leaf\n",
    "\n",
    "m1 = RFR(n_estimators=80, min_samples_leaf=3, n_jobs=-1, oob_score=True)\n",
    "m2 = RFR(n_estimators=80, min_samples_leaf=5, n_jobs=-1, oob_score=True)\n",
    "m3 = RFR(n_estimators=80, min_samples_leaf=10, n_jobs=-1, oob_score=True)\n",
    "m4 = RFR(n_estimators=80, min_samples_leaf=25, n_jobs=-1, oob_score=True)\n",
    "%time m1.fit(X_train, y_train)\n",
    "%time m2.fit(X_train, y_train)\n",
    "%time m3.fit(X_train, y_train)\n",
    "%time m4.fit(X_train, y_train)\n",
    "print_score(m1, X_train, y_train, X_valid, y_valid)\n",
    "print_score(m2, X_train, y_train, X_valid, y_valid)\n",
    "print_score(m3, X_train, y_train, X_valid, y_valid)\n",
    "print_score(m4, X_train, y_train, X_valid, y_valid)"
   ]
  },
  {
   "cell_type": "markdown",
   "metadata": {},
   "source": [
    "**Analysis:** min_leaf_samples=1 outperformed all of these models"
   ]
  },
  {
   "cell_type": "markdown",
   "metadata": {},
   "source": [
    "**Max Features**"
   ]
  },
  {
   "cell_type": "code",
   "execution_count": 10,
   "metadata": {},
   "outputs": [
    {
     "name": "stdout",
     "output_type": "stream",
     "text": [
      "Wall time: 2.15 s\n",
      "Wall time: 4.46 s\n",
      "Wall time: 2.66 s\n",
      "Wall time: 2.9 s\n",
      "[0.0695445133269155, 0.19529197183602365, 0.9787674832535055, 0.8351242395798574, 0.8456054059915503]\n",
      "[0.06456078864983092, 0.180812366884292, 0.9817015887242374, 0.8586667671257495, 0.8666889146141559]\n",
      "[0.06472258222281474, 0.18116768409468056, 0.9816097597646558, 0.8581107490488591, 0.8662478591553904]\n",
      "[0.06459852633968699, 0.18098781363496733, 0.9816801905472795, 0.8583923557322382, 0.8670104779819017]\n"
     ]
    }
   ],
   "source": [
    "# max_feaures\n",
    "\n",
    "m1 = RFR(n_estimators=80, min_samples_leaf=1, max_features=1, n_jobs=-1, oob_score=True)\n",
    "m2 = RFR(n_estimators=80, min_samples_leaf=1, max_features=0.5, n_jobs=-1, oob_score=True)\n",
    "m3 = RFR(n_estimators=80, min_samples_leaf=1, max_features='sqrt', n_jobs=-1, oob_score=True)\n",
    "m4 = RFR(n_estimators=80, min_samples_leaf=1, max_features='log2', n_jobs=-1, oob_score=True)\n",
    "%time m1.fit(X_train, y_train)\n",
    "%time m2.fit(X_train, y_train)\n",
    "%time m3.fit(X_train, y_train)\n",
    "%time m4.fit(X_train, y_train)\n",
    "print_score(m1, X_train, y_train, X_valid, y_valid)\n",
    "print_score(m2, X_train, y_train, X_valid, y_valid)\n",
    "print_score(m3, X_train, y_train, X_valid, y_valid)\n",
    "print_score(m4, X_train, y_train, X_valid, y_valid)"
   ]
  },
  {
   "cell_type": "markdown",
   "metadata": {},
   "source": [
    "**Analysis:** max_features=0.5 once again outperformed the other settings."
   ]
  },
  {
   "cell_type": "markdown",
   "metadata": {},
   "source": [
    "**Final Tuning**"
   ]
  },
  {
   "cell_type": "code",
   "execution_count": 50,
   "metadata": {},
   "outputs": [
    {
     "name": "stdout",
     "output_type": "stream",
     "text": [
      "Wall time: 18 s\n",
      "[20451.816375202914, 57124.26029563867, 0.9787829392698628, 0.835759534410878, 0.8441206117078258]\n"
     ]
    }
   ],
   "source": [
    "# untransformed\n",
    "\n",
    "m1 = RFR(n_estimators=320, min_samples_leaf=1, max_features=0.5, n_jobs=-1, oob_score=True)\n",
    "# m2 = RFR(n_estimators=640, min_samples_leaf=1, max_features=0.5, n_jobs=-1, oob_score=True)\n",
    "# m3 = RFR(n_estimators=1280, min_samples_leaf=1, max_features=0.5, n_jobs=-1, oob_score=True)\n",
    "# m4 = RFR(n_estimators=80, min_samples_leaf=1, max_features='log2', n_jobs=-1, oob_score=True)\n",
    "%time m1.fit(X_train, y_train)\n",
    "# %time m2.fit(X_train, y_train)\n",
    "# %time m3.fit(X_train, y_train)\n",
    "# %time m4.fit(X_train, y_train)\n",
    "print_score(m1, X_train, y_train, X_valid, y_valid)\n",
    "# print_score(m2, X_train, y_train, X_valid, y_valid)\n",
    "# print_score(m3, X_train, y_train, X_valid, y_valid)\n",
    "# print_score(m4, X_train, y_train, X_valid, y_valid)"
   ]
  },
  {
   "cell_type": "code",
   "execution_count": 56,
   "metadata": {},
   "outputs": [
    {
     "name": "stdout",
     "output_type": "stream",
     "text": [
      "Wall time: 18.3 s\n",
      "[0.06192240737476096, 0.17616947320789794, 0.9819982288003669, 0.8563977826632683, 0.8674250745144898]\n"
     ]
    }
   ],
   "source": [
    "# transformed\n",
    "\n",
    "m1 = RFR(n_estimators=320, min_samples_leaf=1, max_features=0.5, n_jobs=-1, oob_score=True)\n",
    "# m2 = RFR(n_estimators=640, min_samples_leaf=1, max_features=0.5, n_jobs=-1, oob_score=True)\n",
    "# m3 = RFR(n_estimators=1280, min_samples_leaf=1, max_features=0.5, n_jobs=-1, oob_score=True)\n",
    "# m4 = RFR(n_estimators=80, min_samples_leaf=1, max_features='log2', n_jobs=-1, oob_score=True)\n",
    "%time m1.fit(X_train, y_train)\n",
    "# %time m2.fit(X_train, y_train)\n",
    "# %time m3.fit(X_train, y_train)\n",
    "# %time m4.fit(X_train, y_train)\n",
    "print_score(m1, X_train, y_train, X_valid, y_valid)\n",
    "# print_score(m2, X_train, y_train, X_valid, y_valid)\n",
    "# print_score(m3, X_train, y_train, X_valid, y_valid)\n",
    "# print_score(m4, X_train, y_train, X_valid, y_valid)"
   ]
  },
  {
   "cell_type": "code",
   "execution_count": 55,
   "metadata": {},
   "outputs": [],
   "source": [
    "y_train = np.log(y_train)\n",
    "y_valid = np.log(y_valid)"
   ]
  },
  {
   "cell_type": "code",
   "execution_count": 51,
   "metadata": {},
   "outputs": [],
   "source": [
    "errors = abs(m1.predict(X_valid) - y_valid)"
   ]
  },
  {
   "cell_type": "code",
   "execution_count": 58,
   "metadata": {},
   "outputs": [],
   "source": [
    "errors = abs(np.exp(m1.predict(X_valid)) - np.exp(y_valid))"
   ]
  },
  {
   "cell_type": "code",
   "execution_count": 52,
   "metadata": {},
   "outputs": [
    {
     "data": {
      "text/plain": [
       "36579.53886091559"
      ]
     },
     "execution_count": 52,
     "metadata": {},
     "output_type": "execute_result"
    }
   ],
   "source": [
    "errors.mean()"
   ]
  },
  {
   "cell_type": "code",
   "execution_count": 59,
   "metadata": {},
   "outputs": [
    {
     "data": {
      "text/plain": [
       "36311.200973133506"
      ]
     },
     "execution_count": 59,
     "metadata": {},
     "output_type": "execute_result"
    }
   ],
   "source": [
    "errors.mean()"
   ]
  },
  {
   "cell_type": "code",
   "execution_count": 66,
   "metadata": {},
   "outputs": [
    {
     "data": {
      "text/plain": [
       "269992.33119251917"
      ]
     },
     "execution_count": 66,
     "metadata": {},
     "output_type": "execute_result"
    }
   ],
   "source": [
    "np.exp(y_valid).mean()"
   ]
  },
  {
   "cell_type": "code",
   "execution_count": 64,
   "metadata": {},
   "outputs": [
    {
     "data": {
      "text/plain": [
       "0.13518518518518519"
      ]
     },
     "execution_count": 64,
     "metadata": {},
     "output_type": "execute_result"
    }
   ],
   "source": [
    "36500 / 270000"
   ]
  },
  {
   "cell_type": "code",
   "execution_count": 54,
   "metadata": {},
   "outputs": [
    {
     "data": {
      "text/plain": [
       "[<matplotlib.lines.Line2D at 0x1cca9d985c0>]"
      ]
     },
     "execution_count": 54,
     "metadata": {},
     "output_type": "execute_result"
    },
    {
     "data": {
      "image/png": "[encoded data removed]",
      "text/plain": [
       "<Figure size 432x288 with 1 Axes>"
      ]
     },
     "metadata": {},
     "output_type": "display_data"
    }
   ],
   "source": [
    "# untransformed\n",
    "plt.scatter(y_valid, m1.predict(X_valid))\n",
    "plt.plot(np.arange(1.1e6),np.arange(1.1e6))"
   ]
  },
  {
   "cell_type": "code",
   "execution_count": 78,
   "metadata": {},
   "outputs": [
    {
     "ename": "AttributeError",
     "evalue": "'numpy.ndarray' object has no attribute 'median'",
     "output_type": "error",
     "traceback": [
      "\u001b[1;31m---------------------------------------------------------------------------\u001b[0m",
      "\u001b[1;31mAttributeError\u001b[0m                            Traceback (most recent call last)",
      "\u001b[1;32m<ipython-input-78-ec1bc12ca148>\u001b[0m in \u001b[0;36m<module>\u001b[1;34m()\u001b[0m\n\u001b[1;32m----> 1\u001b[1;33m \u001b[0merrors\u001b[0m\u001b[1;33m[\u001b[0m\u001b[1;33m:\u001b[0m\u001b[0mlen\u001b[0m\u001b[1;33m(\u001b[0m\u001b[0merrors\u001b[0m\u001b[1;33m)\u001b[0m\u001b[1;33m*\u001b[0m\u001b[1;36m100\u001b[0m\u001b[1;33m//\u001b[0m\u001b[1;36m95\u001b[0m\u001b[1;33m]\u001b[0m\u001b[1;33m.\u001b[0m\u001b[0mmedian\u001b[0m\u001b[1;33m(\u001b[0m\u001b[1;33m)\u001b[0m\u001b[1;33m\u001b[0m\u001b[0m\n\u001b[0m",
      "\u001b[1;31mAttributeError\u001b[0m: 'numpy.ndarray' object has no attribute 'median'"
     ]
    }
   ],
   "source": [
    "errors[:len(errors)*100//95]"
   ]
  },
  {
   "cell_type": "code",
   "execution_count": 57,
   "metadata": {},
   "outputs": [
    {
     "data": {
      "text/plain": [
       "[<matplotlib.lines.Line2D at 0x1ccd2591a20>]"
      ]
     },
     "execution_count": 57,
     "metadata": {},
     "output_type": "execute_result"
    },
    {
     "data": {
      "image/png": "[encoded data removed]",
      "text/plain": [
       "<Figure size 432x288 with 1 Axes>"
      ]
     },
     "metadata": {},
     "output_type": "display_data"
    }
   ],
   "source": [
    "# transformed\n",
    "plt.scatter(np.exp(y_valid), np.exp(m1.predict(X_valid)))\n",
    "plt.plot(np.arange(1.1e6),np.arange(1.1e6))"
   ]
  },
  {
   "cell_type": "code",
   "execution_count": 61,
   "metadata": {},
   "outputs": [
    {
     "data": {
      "text/plain": [
       "array([265606.35645537, 225850.39095486, 216035.70747456, ...,\n",
       "       153587.58746606, 181842.10789085, 261849.71917319])"
      ]
     },
     "execution_count": 61,
     "metadata": {},
     "output_type": "execute_result"
    }
   ],
   "source": [
    "np.exp(m1.predict(X_valid))"
   ]
  },
  {
   "cell_type": "code",
   "execution_count": 29,
   "metadata": {},
   "outputs": [
    {
     "data": {
      "text/plain": [
       "211"
      ]
     },
     "execution_count": 29,
     "metadata": {},
     "output_type": "execute_result"
    }
   ],
   "source": [
    "(np.exp(y_train) > 1e6).sum()"
   ]
  },
  {
   "cell_type": "code",
   "execution_count": 30,
   "metadata": {},
   "outputs": [
    {
     "data": {
      "text/plain": [
       "110"
      ]
     },
     "execution_count": 30,
     "metadata": {},
     "output_type": "execute_result"
    }
   ],
   "source": [
    "(np.exp(y_valid) > 1e6).sum()"
   ]
  },
  {
   "cell_type": "code",
   "execution_count": 31,
   "metadata": {},
   "outputs": [
    {
     "data": {
      "text/plain": [
       "173"
      ]
     },
     "execution_count": 31,
     "metadata": {},
     "output_type": "execute_result"
    }
   ],
   "source": [
    "(np.exp(y_test) > 1e6).sum()"
   ]
  },
  {
   "cell_type": "code",
   "execution_count": 26,
   "metadata": {},
   "outputs": [
    {
     "data": {
      "text/plain": [
       "19573"
      ]
     },
     "execution_count": 26,
     "metadata": {},
     "output_type": "execute_result"
    }
   ],
   "source": [
    "len(y_valid)"
   ]
  },
  {
   "cell_type": "code",
   "execution_count": 27,
   "metadata": {},
   "outputs": [
    {
     "data": {
      "text/plain": [
       "0.5619986716395033"
      ]
     },
     "execution_count": 27,
     "metadata": {},
     "output_type": "execute_result"
    }
   ],
   "source": [
    "110/19573 * 100"
   ]
  }
 ],
 "metadata": {
  "kernelspec": {
   "display_name": "Python 3",
   "language": "python",
   "name": "python3"
  },
  "language_info": {
   "codemirror_mode": {
    "name": "ipython",
    "version": 3
   },
   "file_extension": ".py",
   "mimetype": "text/x-python",
   "name": "python",
   "nbconvert_exporter": "python",
   "pygments_lexer": "ipython3",
   "version": "3.6.4"
  },
  "latex_envs": {
   "LaTeX_envs_menu_present": true,
   "autoclose": false,
   "autocomplete": true,
   "bibliofile": "biblio.bib",
   "cite_by": "apalike",
   "current_citInitial": 1,
   "eqLabelWithNumbers": true,
   "eqNumInitial": 1,
   "hotkeys": {
    "equation": "Ctrl-E",
    "itemize": "Ctrl-I"
   },
   "labels_anchors": false,
   "latex_user_defs": false,
   "report_style_numbering": false,
   "user_envs_cfg": false
  },
  "toc": {
   "nav_menu": {},
   "number_sections": false,
   "sideBar": true,
   "skip_h1_title": false,
   "toc_cell": false,
   "toc_position": {},
   "toc_section_display": "block",
   "toc_window_display": false
  },
  "varInspector": {
   "cols": {
    "lenName": 16,
    "lenType": 16,
    "lenVar": 40
   },
   "kernels_config": {
    "python": {
     "delete_cmd_postfix": "",
     "delete_cmd_prefix": "del ",
     "library": "var_list.py",
     "varRefreshCmd": "print(var_dic_list())"
    },
    "r": {
     "delete_cmd_postfix": ") ",
     "delete_cmd_prefix": "rm(",
     "library": "var_list.r",
     "varRefreshCmd": "cat(var_dic_list()) "
    }
   },
   "types_to_exclude": [
    "module",
    "function",
    "builtin_function_or_method",
    "instance",
    "_Feature"
   ],
   "window_display": false
  }
 },
 "nbformat": 4,
 "nbformat_minor": 2
}
