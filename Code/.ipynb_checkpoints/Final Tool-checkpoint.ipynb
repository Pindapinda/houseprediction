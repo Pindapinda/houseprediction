{
 "cells": [
  {
   "cell_type": "code",
   "execution_count": 1,
   "metadata": {
    "ExecuteTime": {
     "end_time": "2018-12-05T07:10:59.710953Z",
     "start_time": "2018-12-05T07:10:58.940771Z"
    }
   },
   "outputs": [
    {
     "name": "stderr",
     "output_type": "stream",
     "text": [
      "Failed to import duecredit due to No module named 'duecredit'\n"
     ]
    }
   ],
   "source": [
    "import pandas as pd\n",
    "import numpy as np\n",
    "import pickle\n",
    "\n",
    "from preprocessing import *\n",
    "from scipy import spatial\n",
    "from sklearn.ensemble import RandomForestRegressor as RFR\n",
    "import forestci as fci"
   ]
  },
  {
   "cell_type": "markdown",
   "metadata": {},
   "source": [
    "# Data\n",
    "The data contains only columns that we determined to be relevant for the randomforestregressor as well as a couple of potential comparable features, each of these are specified below.\n",
    "\n",
    "Since the model had some disappointing results for logarithmic price, we also see how well it performs on regular price"
   ]
  },
  {
   "cell_type": "code",
   "execution_count": 23,
   "metadata": {
    "ExecuteTime": {
     "end_time": "2018-12-05T07:14:37.396777Z",
     "start_time": "2018-12-05T07:14:37.380022Z"
    }
   },
   "outputs": [],
   "source": [
    "df = pickle.load(open('../Data/reduced_df.p','rb'))\n",
    "df = df.rename(columns={'V1.x': 'Postcode5'})\n",
    "df2 = df.copy(deep=True)\n",
    "df2['endprice'] = np.exp(df['endprice'])"
   ]
  },
  {
   "cell_type": "code",
   "execution_count": 6,
   "metadata": {
    "ExecuteTime": {
     "end_time": "2018-12-05T07:12:20.713283Z",
     "start_time": "2018-12-05T07:12:20.687888Z"
    }
   },
   "outputs": [
    {
     "name": "stdout",
     "output_type": "stream",
     "text": [
      "<class 'pandas.core.frame.DataFrame'>\n",
      "Int64Index: 66239 entries, 57585 to 43850\n",
      "Data columns (total 16 columns):\n",
      "livingspace                             66239 non-null float64\n",
      "Gemiddelde woningwaarde:x 1 000 euro    66239 non-null float64\n",
      "housetype                               66239 non-null category\n",
      "Postcode5                               66239 non-null int64\n",
      "lotsurface                              66239 non-null float64\n",
      "yearofconstruction                      66239 non-null float64\n",
      "longitude                               66239 non-null float64\n",
      "latitude                                66239 non-null float64\n",
      "housesubtype                            66239 non-null category\n",
      "rooms                                   66239 non-null float64\n",
      "bathroom.badkamer                       66239 non-null int64\n",
      "feature.zwembad                         66239 non-null bool\n",
      "bathroom.aparte toilet                  66239 non-null float64\n",
      "balcony.balkon                          66239 non-null bool\n",
      "feature.sauna                           66239 non-null bool\n",
      "endprice                                66239 non-null float64\n",
      "dtypes: bool(3), category(2), float64(9), int64(2)\n",
      "memory usage: 6.4 MB\n"
     ]
    }
   ],
   "source": [
    "df.info()"
   ]
  },
  {
   "cell_type": "markdown",
   "metadata": {},
   "source": [
    "# Relevant Features\n",
    "These are the 10 features that are most relevant for the random forest regressor as determined in previous notebooks. The user can enter these features manually, but for the purpose of this test, we pick them from the data."
   ]
  },
  {
   "cell_type": "code",
   "execution_count": 7,
   "metadata": {
    "ExecuteTime": {
     "end_time": "2018-12-05T07:12:22.407372Z",
     "start_time": "2018-12-05T07:12:22.398905Z"
    }
   },
   "outputs": [],
   "source": [
    "RF = ['livingspace', 'Gemiddelde woningwaarde:x 1 000 euro', 'housetype', 'Postcode5',\n",
    "      'lotsurface', 'yearofconstruction', 'longitude', 'latitude', 'housesubtype', 'rooms']"
   ]
  },
  {
   "cell_type": "markdown",
   "metadata": {},
   "source": [
    "For the purpose of this notebook, we only look at 1 potential upgradable feature, namely the presence of a seperate toilet in the bathroom."
   ]
  },
  {
   "cell_type": "code",
   "execution_count": 8,
   "metadata": {
    "ExecuteTime": {
     "end_time": "2018-12-05T07:12:23.467517Z",
     "start_time": "2018-12-05T07:12:23.461724Z"
    }
   },
   "outputs": [],
   "source": [
    "PUF = ['bathroom.aparte toilet']"
   ]
  },
  {
   "cell_type": "markdown",
   "metadata": {},
   "source": [
    "Finally of course, we need the endprice as a target feature, to train our model and check our performance"
   ]
  },
  {
   "cell_type": "code",
   "execution_count": 9,
   "metadata": {
    "ExecuteTime": {
     "end_time": "2018-12-05T07:12:24.632265Z",
     "start_time": "2018-12-05T07:12:24.627071Z"
    }
   },
   "outputs": [],
   "source": [
    "TF = ['endprice']"
   ]
  },
  {
   "cell_type": "markdown",
   "metadata": {},
   "source": [
    "We only keep the relevant features in our dataframe"
   ]
  },
  {
   "cell_type": "code",
   "execution_count": 11,
   "metadata": {
    "ExecuteTime": {
     "end_time": "2018-12-05T07:12:44.485818Z",
     "start_time": "2018-12-05T07:12:44.473540Z"
    }
   },
   "outputs": [],
   "source": [
    "df = df[RF+PUF+TF]\n",
    "df2 = df[RF+PUF+TF]"
   ]
  },
  {
   "cell_type": "markdown",
   "metadata": {
    "ExecuteTime": {
     "end_time": "2018-12-04T19:43:13.515256Z",
     "start_time": "2018-12-04T19:43:13.508314Z"
    }
   },
   "source": [
    "## Calculating values from user input\n",
    "One of the most important features for our predictive algorithm is de average value of houses in the neighbourhood. The user might not be aware of this value, but fortunately, we can predict it quite accurately by finding the house with the closest longitude, latitude and Postcode5 and simply taking their value instead."
   ]
  },
  {
   "cell_type": "code",
   "execution_count": 14,
   "metadata": {
    "ExecuteTime": {
     "end_time": "2018-12-05T07:12:55.003380Z",
     "start_time": "2018-12-05T07:12:54.998301Z"
    }
   },
   "outputs": [],
   "source": [
    "CF = ['longitude', 'latitude', 'Postcode5']\n",
    "\n",
    "def calculate_avg_housevalue(long, lat, post, data=df):\n",
    "    tree = spatial.KDTree(data[CF].values)\n",
    "    _, index = tree.query(np.array([long, lat, post]))\n",
    "    return data.iloc[index]['Gemiddelde woningwaarde:x 1 000 euro']"
   ]
  },
  {
   "cell_type": "markdown",
   "metadata": {},
   "source": [
    "# The model\n",
    "We use a a random forest regression which was also used in previous notebooks to find the most important features."
   ]
  },
  {
   "cell_type": "code",
   "execution_count": 20,
   "metadata": {
    "ExecuteTime": {
     "end_time": "2018-12-05T07:13:58.481818Z",
     "start_time": "2018-12-05T07:13:58.466519Z"
    }
   },
   "outputs": [],
   "source": [
    "m = RFR(n_estimators=500, min_samples_leaf=3, max_features=0.5, n_jobs=-1, oob_score=True)\n",
    "m2 = RFR(n_estimators=500, min_samples_leaf=3, max_features=0.5, n_jobs=-1, oob_score=True)"
   ]
  },
  {
   "cell_type": "code",
   "execution_count": 16,
   "metadata": {
    "ExecuteTime": {
     "end_time": "2018-12-05T07:13:05.172775Z",
     "start_time": "2018-12-05T07:13:05.079341Z"
    }
   },
   "outputs": [],
   "source": [
    "X, y, _ = proc_df(df, 'endprice')\n",
    "\n",
    "n_trn = len(X) // 2\n",
    "n_valid = n_trn + (len(X) // 2) - 100\n",
    "X_train, X_valid, X_test = split_vals_test(X, n_trn, n_valid)\n",
    "y_train, y_valid, y_test = split_vals_test(y, n_trn, n_valid)"
   ]
  },
  {
   "cell_type": "code",
   "execution_count": 17,
   "metadata": {
    "ExecuteTime": {
     "end_time": "2018-12-05T07:13:16.699731Z",
     "start_time": "2018-12-05T07:13:05.342836Z"
    }
   },
   "outputs": [
    {
     "name": "stdout",
     "output_type": "stream",
     "text": [
      "[0.10236443300165127, 0.19644268035462187, 0.952838679255162, 0.8358577581207968, 0.8674103630259098]\n"
     ]
    }
   ],
   "source": [
    "m.fit(X_train, y_train)\n",
    "print_score(m, X_train, y_train, X_valid, y_valid)"
   ]
  },
  {
   "cell_type": "code",
   "execution_count": 18,
   "metadata": {
    "ExecuteTime": {
     "end_time": "2018-12-05T07:13:21.353543Z",
     "start_time": "2018-12-05T07:13:21.312073Z"
    }
   },
   "outputs": [],
   "source": [
    "X2, y2, _ = proc_df(df2, 'endprice')\n",
    "\n",
    "n_trn2 = len(X2) // 2\n",
    "n_valid2 = n_trn2 + (len(X2) // 2) - 100\n",
    "X_train2, X_valid2, X_test2 = split_vals_test(X2, n_trn2, n_valid2)\n",
    "y_train2, y_valid2, y_test2 = split_vals_test(y2, n_trn2, n_valid2)"
   ]
  },
  {
   "cell_type": "code",
   "execution_count": 19,
   "metadata": {
    "ExecuteTime": {
     "end_time": "2018-12-05T07:13:33.671968Z",
     "start_time": "2018-12-05T07:13:22.195240Z"
    }
   },
   "outputs": [
    {
     "name": "stdout",
     "output_type": "stream",
     "text": [
      "[0.10235963920338738, 0.19640841574229861, 0.9528430963472534, 0.8359150143114131, 0.8673557990912257]\n"
     ]
    }
   ],
   "source": [
    "m2.fit(X_train2, y_train2)\n",
    "print_score(m2, X_train2, y_train2, X_valid2, y_valid2)"
   ]
  },
  {
   "cell_type": "markdown",
   "metadata": {},
   "source": [
    "# Predicting\n",
    "Given the initial 10 values of our house + the number of seperate toilets in bathrooms, we make a prediction of the end price with the current number of toilets and with one extra toilet.\n",
    "\n",
    "Our validation set has 76 houses with 0 toilets and 25 houses with 1 toilet."
   ]
  },
  {
   "cell_type": "code",
   "execution_count": 13,
   "metadata": {
    "ExecuteTime": {
     "end_time": "2018-12-04T21:46:06.434966Z",
     "start_time": "2018-12-04T21:46:06.416632Z"
    }
   },
   "outputs": [
    {
     "data": {
      "text/plain": [
       "0.0    76\n",
       "1.0    25\n",
       "Name: bathroom.aparte toilet, dtype: int64"
      ]
     },
     "execution_count": 13,
     "metadata": {},
     "output_type": "execute_result"
    }
   ],
   "source": [
    "X_test['bathroom.aparte toilet'].value_counts()"
   ]
  },
  {
   "cell_type": "markdown",
   "metadata": {},
   "source": [
    "Below code demonstrates what would happen for a single house (e.g. one entered by the user)\n",
    "\n",
    "First we look at our prediction for the house with the actual number of toilets it has (0)"
   ]
  },
  {
   "cell_type": "code",
   "execution_count": 14,
   "metadata": {
    "ExecuteTime": {
     "end_time": "2018-12-04T21:46:06.471056Z",
     "start_time": "2018-12-04T21:46:06.440191Z"
    }
   },
   "outputs": [],
   "source": [
    "user_house = X_test.iloc[0]\n",
    "test = X_valid.append(user_house).copy()"
   ]
  },
  {
   "cell_type": "code",
   "execution_count": 15,
   "metadata": {
    "ExecuteTime": {
     "end_time": "2018-12-04T21:46:46.619309Z",
     "start_time": "2018-12-04T21:46:06.477632Z"
    }
   },
   "outputs": [],
   "source": [
    "pred_log_price = m.predict(np.array([user_house]))[0]\n",
    "log_price = y_test[0]\n",
    "error_margin = fci.random_forest_error(m, X_train, test)[-1]"
   ]
  },
  {
   "cell_type": "code",
   "execution_count": 16,
   "metadata": {
    "ExecuteTime": {
     "end_time": "2018-12-04T21:46:46.626452Z",
     "start_time": "2018-12-04T21:46:46.620753Z"
    }
   },
   "outputs": [
    {
     "name": "stdout",
     "output_type": "stream",
     "text": [
      "0.18525688557275355\n",
      "13.300286513922472\n"
     ]
    }
   ],
   "source": [
    "print(np.mean(error_margin))\n",
    "print(pred_log_price)"
   ]
  },
  {
   "cell_type": "code",
   "execution_count": 17,
   "metadata": {
    "ExecuteTime": {
     "end_time": "2018-12-04T21:46:46.637346Z",
     "start_time": "2018-12-04T21:46:46.627792Z"
    }
   },
   "outputs": [
    {
     "data": {
      "text/plain": [
       "1.197127741813447"
      ]
     },
     "execution_count": 17,
     "metadata": {},
     "output_type": "execute_result"
    }
   ],
   "source": [
    "np.exp(pred_log_price-log_price)"
   ]
  },
  {
   "cell_type": "code",
   "execution_count": 18,
   "metadata": {
    "ExecuteTime": {
     "end_time": "2018-12-04T21:46:46.644099Z",
     "start_time": "2018-12-04T21:46:46.640094Z"
    }
   },
   "outputs": [
    {
     "data": {
      "text/plain": [
       "499000.0000000004"
      ]
     },
     "execution_count": 18,
     "metadata": {},
     "output_type": "execute_result"
    }
   ],
   "source": [
    "np.exp(log_price)"
   ]
  },
  {
   "cell_type": "code",
   "execution_count": 19,
   "metadata": {
    "ExecuteTime": {
     "end_time": "2018-12-04T21:46:46.649635Z",
     "start_time": "2018-12-04T21:46:46.645586Z"
    }
   },
   "outputs": [
    {
     "data": {
      "text/plain": [
       "597366.7431649105"
      ]
     },
     "execution_count": 19,
     "metadata": {},
     "output_type": "execute_result"
    }
   ],
   "source": [
    "np.exp(pred_log_price)"
   ]
  },
  {
   "cell_type": "markdown",
   "metadata": {
    "ExecuteTime": {
     "end_time": "2018-12-04T20:52:53.459341Z",
     "start_time": "2018-12-04T20:52:53.455325Z"
    }
   },
   "source": [
    "We now expect our prediction to be somewhere between pred_price + error_margin and pred_price - error_margin. Note that these error margins correspond to single sigma so a ~65% confidence interval, for a ~95% confidence interval, we would need to do the error_margins times 2."
   ]
  },
  {
   "cell_type": "code",
   "execution_count": 20,
   "metadata": {
    "ExecuteTime": {
     "end_time": "2018-12-04T21:46:46.654155Z",
     "start_time": "2018-12-04T21:46:46.650998Z"
    }
   },
   "outputs": [
    {
     "name": "stdout",
     "output_type": "stream",
     "text": [
      "Lower bound:  496346.5386318834\n",
      "Actual price:  499000.0000000004\n",
      "Upper bound:  718947.3443756774\n"
     ]
    }
   ],
   "source": [
    "print(\"Lower bound: \", np.exp(pred_log_price-error_margin))\n",
    "print(\"Actual price: \", np.exp(log_price))\n",
    "print(\"Upper bound: \", np.exp(pred_log_price+error_margin))"
   ]
  },
  {
   "cell_type": "markdown",
   "metadata": {},
   "source": [
    "Next we look at our predicion if it the user house had an extra toilet (1)"
   ]
  },
  {
   "cell_type": "code",
   "execution_count": 21,
   "metadata": {
    "ExecuteTime": {
     "end_time": "2018-12-04T21:46:46.661888Z",
     "start_time": "2018-12-04T21:46:46.655981Z"
    }
   },
   "outputs": [],
   "source": [
    "user_house_et = user_house.copy()\n",
    "user_house_et['bathroom.aparte toilet'] += 1\n",
    "test_et = X_test.append(user_house_et).copy()"
   ]
  },
  {
   "cell_type": "code",
   "execution_count": 22,
   "metadata": {
    "ExecuteTime": {
     "end_time": "2018-12-04T21:46:48.281640Z",
     "start_time": "2018-12-04T21:46:46.663257Z"
    }
   },
   "outputs": [],
   "source": [
    "pred_log_price = m.predict(np.array([user_house_et]))[0]\n",
    "error_margin = fci.random_forest_error(m, X_train, test_et)[-1]"
   ]
  },
  {
   "cell_type": "code",
   "execution_count": 23,
   "metadata": {
    "ExecuteTime": {
     "end_time": "2018-12-04T21:46:48.289485Z",
     "start_time": "2018-12-04T21:46:48.283038Z"
    }
   },
   "outputs": [
    {
     "data": {
      "text/plain": [
       "13.208052644825097"
      ]
     },
     "execution_count": 23,
     "metadata": {},
     "output_type": "execute_result"
    }
   ],
   "source": [
    "pred_log_price-error_margin"
   ]
  },
  {
   "cell_type": "code",
   "execution_count": 24,
   "metadata": {
    "ExecuteTime": {
     "end_time": "2018-12-04T21:46:48.295688Z",
     "start_time": "2018-12-04T21:46:48.291171Z"
    }
   },
   "outputs": [
    {
     "name": "stdout",
     "output_type": "stream",
     "text": [
      "Lower bound:  544733.8712907014\n",
      "Predicted price:  603085.6258470296\n",
      "Upper bound:  667688.0055971507\n"
     ]
    }
   ],
   "source": [
    "print(\"Lower bound: \", np.exp(pred_log_price-error_margin))\n",
    "print(\"Predicted price: \", np.exp(pred_log_price))\n",
    "print(\"Upper bound: \", np.exp(pred_log_price+error_margin))"
   ]
  }
 ],
 "metadata": {
  "kernelspec": {
   "display_name": "Python 3",
   "language": "python",
   "name": "python3"
  },
  "language_info": {
   "codemirror_mode": {
    "name": "ipython",
    "version": 3
   },
   "file_extension": ".py",
   "mimetype": "text/x-python",
   "name": "python",
   "nbconvert_exporter": "python",
   "pygments_lexer": "ipython3",
   "version": "3.6.4"
  },
  "latex_envs": {
   "LaTeX_envs_menu_present": true,
   "autoclose": false,
   "autocomplete": true,
   "bibliofile": "biblio.bib",
   "cite_by": "apalike",
   "current_citInitial": 1,
   "eqLabelWithNumbers": true,
   "eqNumInitial": 1,
   "hotkeys": {
    "equation": "Ctrl-E",
    "itemize": "Ctrl-I"
   },
   "labels_anchors": false,
   "latex_user_defs": false,
   "report_style_numbering": false,
   "user_envs_cfg": false
  },
  "toc": {
   "nav_menu": {},
   "number_sections": false,
   "sideBar": true,
   "skip_h1_title": false,
   "toc_cell": false,
   "toc_position": {},
   "toc_section_display": "block",
   "toc_window_display": false
  },
  "varInspector": {
   "cols": {
    "lenName": 16,
    "lenType": 16,
    "lenVar": 40
   },
   "kernels_config": {
    "python": {
     "delete_cmd_postfix": "",
     "delete_cmd_prefix": "del ",
     "library": "var_list.py",
     "varRefreshCmd": "print(var_dic_list())"
    },
    "r": {
     "delete_cmd_postfix": ") ",
     "delete_cmd_prefix": "rm(",
     "library": "var_list.r",
     "varRefreshCmd": "cat(var_dic_list()) "
    }
   },
   "types_to_exclude": [
    "module",
    "function",
    "builtin_function_or_method",
    "instance",
    "_Feature"
   ],
   "window_display": false
  }
 },
 "nbformat": 4,
 "nbformat_minor": 2
}
