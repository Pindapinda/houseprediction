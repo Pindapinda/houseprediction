{
 "cells": [
  {
   "cell_type": "code",
   "execution_count": 1,
   "metadata": {
    "ExecuteTime": {
     "end_time": "2018-12-05T21:31:55.092758Z",
     "start_time": "2018-12-05T21:31:54.565342Z"
    }
   },
   "outputs": [
    {
     "name": "stderr",
     "output_type": "stream",
     "text": [
      "Failed to import duecredit due to No module named 'duecredit'\n"
     ]
    }
   ],
   "source": [
    "import pandas as pd\n",
    "import numpy as np\n",
    "import pickle\n",
    "\n",
    "from preprocessing import *\n",
    "from scipy import spatial\n",
    "from sklearn.ensemble import RandomForestRegressor as RFR\n",
    "import forestci as fci"
   ]
  },
  {
   "cell_type": "markdown",
   "metadata": {},
   "source": [
    "# Data\n",
    "The data contains only columns that we determined to be relevant for the randomforestregressor as well as a couple of potential comparable features, each of these are specified below.\n",
    "\n",
    "Since the model had some disappointing results for logarithmic price, we also see how well it performs on regular price"
   ]
  },
  {
   "cell_type": "code",
   "execution_count": 2,
   "metadata": {
    "ExecuteTime": {
     "end_time": "2018-12-05T21:31:55.135569Z",
     "start_time": "2018-12-05T21:31:55.094541Z"
    }
   },
   "outputs": [],
   "source": [
    "df = pickle.load(open('../Data/reduced_df.p','rb'))\n",
    "df = df.rename(columns={'V1.x': 'Postcode5'})\n",
    "# df['endprice'] = np.exp(df['endprice'])"
   ]
  },
  {
   "cell_type": "code",
   "execution_count": 3,
   "metadata": {
    "ExecuteTime": {
     "end_time": "2018-12-05T21:31:55.167274Z",
     "start_time": "2018-12-05T21:31:55.137055Z"
    }
   },
   "outputs": [
    {
     "name": "stdout",
     "output_type": "stream",
     "text": [
      "<class 'pandas.core.frame.DataFrame'>\n",
      "Int64Index: 66239 entries, 57585 to 43850\n",
      "Data columns (total 17 columns):\n",
      "livingspace                             66239 non-null float64\n",
      "Gemiddelde woningwaarde:x 1 000 euro    66239 non-null float64\n",
      "housetype                               66239 non-null category\n",
      "Postcode5                               66239 non-null int64\n",
      "lotsurface                              66239 non-null float64\n",
      "yearofconstruction                      66239 non-null float64\n",
      "longitude                               66239 non-null float64\n",
      "latitude                                66239 non-null float64\n",
      "housesubtype                            66239 non-null category\n",
      "rooms                                   66239 non-null float64\n",
      "bathroom.badkamer                       66239 non-null int64\n",
      "feature.zwembad                         66239 non-null bool\n",
      "bathroom.aparte toilet                  66239 non-null float64\n",
      "balcony.balkon                          66239 non-null bool\n",
      "feature.sauna                           66239 non-null bool\n",
      "bathroom.toilet                         66239 non-null int64\n",
      "endprice                                66239 non-null float64\n",
      "dtypes: bool(3), category(2), float64(9), int64(3)\n",
      "memory usage: 6.9 MB\n"
     ]
    }
   ],
   "source": [
    "df.info()"
   ]
  },
  {
   "cell_type": "markdown",
   "metadata": {},
   "source": [
    "# Relevant Features\n",
    "These are the 10 features that are most relevant for the random forest regressor as determined in previous notebooks. The user can enter these features manually, but for the purpose of this test, we pick them from the data."
   ]
  },
  {
   "cell_type": "code",
   "execution_count": 4,
   "metadata": {
    "ExecuteTime": {
     "end_time": "2018-12-05T21:31:55.171287Z",
     "start_time": "2018-12-05T21:31:55.169001Z"
    }
   },
   "outputs": [],
   "source": [
    "RF = ['livingspace', 'Gemiddelde woningwaarde:x 1 000 euro', 'housetype', 'Postcode5',\n",
    "      'lotsurface', 'yearofconstruction', 'longitude', 'latitude', 'housesubtype', 'bathroom.toilet']"
   ]
  },
  {
   "cell_type": "markdown",
   "metadata": {},
   "source": [
    "For the purpose of this notebook, we only look at 1 potential upgradable feature, namely the presence of a seperate toilet in the bathroom."
   ]
  },
  {
   "cell_type": "code",
   "execution_count": 5,
   "metadata": {
    "ExecuteTime": {
     "end_time": "2018-12-05T21:31:55.175530Z",
     "start_time": "2018-12-05T21:31:55.172655Z"
    }
   },
   "outputs": [],
   "source": [
    "PUF = ['bathroom.toilet']"
   ]
  },
  {
   "cell_type": "markdown",
   "metadata": {},
   "source": [
    "Finally of course, we need the endprice as a target feature, to train our model and check our performance"
   ]
  },
  {
   "cell_type": "code",
   "execution_count": 6,
   "metadata": {
    "ExecuteTime": {
     "end_time": "2018-12-05T21:31:55.180067Z",
     "start_time": "2018-12-05T21:31:55.176992Z"
    }
   },
   "outputs": [],
   "source": [
    "TF = ['endprice']"
   ]
  },
  {
   "cell_type": "markdown",
   "metadata": {},
   "source": [
    "We only keep the relevant features in our dataframe"
   ]
  },
  {
   "cell_type": "code",
   "execution_count": 7,
   "metadata": {
    "ExecuteTime": {
     "end_time": "2018-12-05T21:31:55.190107Z",
     "start_time": "2018-12-05T21:31:55.181596Z"
    }
   },
   "outputs": [],
   "source": [
    "df = df[RF+PUF+TF]\n",
    "# df = df[RF+TF]"
   ]
  },
  {
   "cell_type": "markdown",
   "metadata": {
    "ExecuteTime": {
     "end_time": "2018-12-04T19:43:13.515256Z",
     "start_time": "2018-12-04T19:43:13.508314Z"
    }
   },
   "source": [
    "## Calculating values from user input\n",
    "One of the most important features for our predictive algorithm is de average value of houses in the neighbourhood. The user might not be aware of this value, but fortunately, we can predict it quite accurately by finding the house with the closest longitude, latitude and Postcode5 and simply taking their value instead."
   ]
  },
  {
   "cell_type": "code",
   "execution_count": 8,
   "metadata": {
    "ExecuteTime": {
     "end_time": "2018-12-05T21:31:55.196682Z",
     "start_time": "2018-12-05T21:31:55.191603Z"
    }
   },
   "outputs": [],
   "source": [
    "CF = ['longitude', 'latitude', 'Postcode5']\n",
    "\n",
    "def calculate_avg_housevalue(long, lat, post, data=df):\n",
    "    tree = spatial.KDTree(data[CF].values)\n",
    "    _, index = tree.query(np.array([long, lat, post]))\n",
    "    return data.iloc[index]['Gemiddelde woningwaarde:x 1 000 euro']"
   ]
  },
  {
   "cell_type": "markdown",
   "metadata": {},
   "source": [
    "# The model\n",
    "We use a a random forest regression which was also used in previous notebooks to find the most important features."
   ]
  },
  {
   "cell_type": "code",
   "execution_count": 9,
   "metadata": {
    "ExecuteTime": {
     "end_time": "2018-12-05T21:31:55.249767Z",
     "start_time": "2018-12-05T21:31:55.246599Z"
    }
   },
   "outputs": [],
   "source": [
    "m = RFR(n_estimators=500, min_samples_leaf=3, max_features=0.5, n_jobs=-1, oob_score=True)\n",
    "m2 = RFR(n_estimators=500, min_samples_leaf=3, max_features=0.5, n_jobs=-1, oob_score=True)"
   ]
  },
  {
   "cell_type": "code",
   "execution_count": 10,
   "metadata": {
    "ExecuteTime": {
     "end_time": "2018-12-05T21:31:55.316332Z",
     "start_time": "2018-12-05T21:31:55.251468Z"
    }
   },
   "outputs": [],
   "source": [
    "X, y, _ = proc_df(df, 'endprice')\n",
    "\n",
    "n_trn = len(X) // 2\n",
    "n_valid = n_trn + (len(X) // 4)\n",
    "X_train, X_valid, X_test = split_vals_test(X, n_trn, n_valid)\n",
    "y_train, y_valid, y_test = split_vals_test(y, n_trn, n_valid)"
   ]
  },
  {
   "cell_type": "code",
   "execution_count": 11,
   "metadata": {
    "ExecuteTime": {
     "end_time": "2018-12-05T21:32:06.193138Z",
     "start_time": "2018-12-05T21:31:55.318143Z"
    }
   },
   "outputs": [
    {
     "name": "stdout",
     "output_type": "stream",
     "text": [
      "[0.10238139694399286, 0.18990595306583435, 0.9528230467118204, 0.8463540876531437, 0.8687128992414367]\n"
     ]
    }
   ],
   "source": [
    "m.fit(X_train, y_train)\n",
    "print_score(m, X_train, y_train, X_valid, y_valid)"
   ]
  },
  {
   "cell_type": "code",
   "execution_count": 12,
   "metadata": {
    "ExecuteTime": {
     "end_time": "2018-12-05T21:32:17.517510Z",
     "start_time": "2018-12-05T21:32:06.194689Z"
    }
   },
   "outputs": [
    {
     "name": "stdout",
     "output_type": "stream",
     "text": [
      "[0.10239173965019915, 0.1897895352276529, 0.9528135144720156, 0.8465424086826835, 0.8686338635450876]\n"
     ]
    }
   ],
   "source": [
    "m.fit(X_train, y_train)\n",
    "print_score(m, X_train, y_train, X_valid, y_valid)"
   ]
  },
  {
   "cell_type": "markdown",
   "metadata": {},
   "source": [
    "# Predicting\n",
    "Given the initial 10 values of our house + the number of seperate toilets in bathbathroom.toilet, we make a prediction of the end price with the current number of toilets and with one extra toilet.\n",
    "\n",
    "Our validation set has 76 houses with 0 toilets and 25 houses with 1 toilet."
   ]
  },
  {
   "cell_type": "code",
   "execution_count": 13,
   "metadata": {
    "ExecuteTime": {
     "end_time": "2018-12-05T21:32:17.620329Z",
     "start_time": "2018-12-05T21:32:17.519313Z"
    }
   },
   "outputs": [
    {
     "ename": "AttributeError",
     "evalue": "'DataFrame' object has no attribute 'value_counts'",
     "output_type": "error",
     "traceback": [
      "\u001b[0;31m---------------------------------------------------------------------------\u001b[0m",
      "\u001b[0;31mAttributeError\u001b[0m                            Traceback (most recent call last)",
      "\u001b[0;32m<ipython-input-13-80877c236542>\u001b[0m in \u001b[0;36m<module>\u001b[0;34m()\u001b[0m\n\u001b[0;32m----> 1\u001b[0;31m \u001b[0mX_test\u001b[0m\u001b[0;34m[\u001b[0m\u001b[0;34m'bathroom.toilet'\u001b[0m\u001b[0;34m]\u001b[0m\u001b[0;34m.\u001b[0m\u001b[0mvalue_counts\u001b[0m\u001b[0;34m(\u001b[0m\u001b[0;34m)\u001b[0m\u001b[0;34m\u001b[0m\u001b[0m\n\u001b[0m",
      "\u001b[0;32m~/anaconda3/lib/python3.6/site-packages/pandas/core/generic.py\u001b[0m in \u001b[0;36m__getattr__\u001b[0;34m(self, name)\u001b[0m\n\u001b[1;32m   3612\u001b[0m             \u001b[0;32mif\u001b[0m \u001b[0mname\u001b[0m \u001b[0;32min\u001b[0m \u001b[0mself\u001b[0m\u001b[0;34m.\u001b[0m\u001b[0m_info_axis\u001b[0m\u001b[0;34m:\u001b[0m\u001b[0;34m\u001b[0m\u001b[0m\n\u001b[1;32m   3613\u001b[0m                 \u001b[0;32mreturn\u001b[0m \u001b[0mself\u001b[0m\u001b[0;34m[\u001b[0m\u001b[0mname\u001b[0m\u001b[0;34m]\u001b[0m\u001b[0;34m\u001b[0m\u001b[0m\n\u001b[0;32m-> 3614\u001b[0;31m             \u001b[0;32mreturn\u001b[0m \u001b[0mobject\u001b[0m\u001b[0;34m.\u001b[0m\u001b[0m__getattribute__\u001b[0m\u001b[0;34m(\u001b[0m\u001b[0mself\u001b[0m\u001b[0;34m,\u001b[0m \u001b[0mname\u001b[0m\u001b[0;34m)\u001b[0m\u001b[0;34m\u001b[0m\u001b[0m\n\u001b[0m\u001b[1;32m   3615\u001b[0m \u001b[0;34m\u001b[0m\u001b[0m\n\u001b[1;32m   3616\u001b[0m     \u001b[0;32mdef\u001b[0m \u001b[0m__setattr__\u001b[0m\u001b[0;34m(\u001b[0m\u001b[0mself\u001b[0m\u001b[0;34m,\u001b[0m \u001b[0mname\u001b[0m\u001b[0;34m,\u001b[0m \u001b[0mvalue\u001b[0m\u001b[0;34m)\u001b[0m\u001b[0;34m:\u001b[0m\u001b[0;34m\u001b[0m\u001b[0m\n",
      "\u001b[0;31mAttributeError\u001b[0m: 'DataFrame' object has no attribute 'value_counts'"
     ]
    }
   ],
   "source": [
    "X_test['bathroom.toilet'].value_counts()"
   ]
  },
  {
   "cell_type": "markdown",
   "metadata": {},
   "source": [
    "Below code demonstrates what would happen for a single house (e.g. one entered by the user)\n",
    "\n",
    "First we look at our prediction for the house with the actual number of toilets it has (0)"
   ]
  },
  {
   "cell_type": "code",
   "execution_count": null,
   "metadata": {
    "ExecuteTime": {
     "end_time": "2018-12-05T21:32:17.621009Z",
     "start_time": "2018-12-05T21:31:55.500Z"
    }
   },
   "outputs": [],
   "source": [
    "pred_log_price = m.predict(X_test)\n",
    "log_price = y_test\n",
    "# error_margin = fci.random_forest_error(m, X_train, test, calibrate=False)[-1]"
   ]
  },
  {
   "cell_type": "markdown",
   "metadata": {
    "ExecuteTime": {
     "end_time": "2018-12-04T20:52:53.459341Z",
     "start_time": "2018-12-04T20:52:53.455325Z"
    }
   },
   "source": [
    "We now expect our prediction to be somewhere between pred_price + error_margin and pred_price - error_margin. Note that these error margins correspond to single sigma so a ~65% confidence interval, for a ~95% confidence interval, we would need to do the error_margins times 2."
   ]
  },
  {
   "cell_type": "markdown",
   "metadata": {
    "ExecuteTime": {
     "end_time": "2018-12-05T15:16:23.132464Z",
     "start_time": "2018-12-05T15:16:23.127768Z"
    }
   },
   "source": [
    "print(\"Lower bound: \", pred_log_price-abs(error_margin))\n",
    "print(\"Actual price: \", log_price)\n",
    "print(\"Predicted price: \", pred_log_price)\n",
    "print(\"Upper bound: \", pred_log_price+abs(error_margin))"
   ]
  },
  {
   "cell_type": "markdown",
   "metadata": {},
   "source": [
    "Next we look at our predicion if it the user house had an extra toilet (1)"
   ]
  },
  {
   "cell_type": "code",
   "execution_count": null,
   "metadata": {
    "ExecuteTime": {
     "end_time": "2018-12-05T21:32:17.621763Z",
     "start_time": "2018-12-05T21:31:55.897Z"
    }
   },
   "outputs": [],
   "source": [
    "X_test2 = X_test.copy()\n",
    "X_test2['bathroom.toilet'] += 1"
   ]
  },
  {
   "cell_type": "code",
   "execution_count": null,
   "metadata": {
    "ExecuteTime": {
     "end_time": "2018-12-05T21:32:17.622565Z",
     "start_time": "2018-12-05T21:31:55.901Z"
    }
   },
   "outputs": [],
   "source": [
    "pred_log_price_2 = m.predict(X_test2)\n",
    "# error_margin_2 = fci.random_forest_error(m, X_train, X_test2)"
   ]
  },
  {
   "cell_type": "markdown",
   "metadata": {
    "ExecuteTime": {
     "end_time": "2018-12-05T15:16:24.738586Z",
     "start_time": "2018-12-05T15:16:24.733905Z"
    }
   },
   "source": [
    "print(\"Lower bound: \", pred_log_price)\n",
    "print(\"Predicted price: \", pred_log_price)\n",
    "print(\"Upper bound: \", pred_log_price)"
   ]
  },
  {
   "cell_type": "code",
   "execution_count": null,
   "metadata": {
    "ExecuteTime": {
     "end_time": "2018-12-05T21:32:17.623200Z",
     "start_time": "2018-12-05T21:31:56.080Z"
    }
   },
   "outputs": [],
   "source": [
    "(np.exp(pred_log_price) - np.exp(pred_log_price_2)).mean()"
   ]
  },
  {
   "cell_type": "code",
   "execution_count": null,
   "metadata": {
    "ExecuteTime": {
     "end_time": "2018-12-05T21:32:17.624170Z",
     "start_time": "2018-12-05T21:31:56.086Z"
    }
   },
   "outputs": [],
   "source": [
    "fi = rf_feat_importance(m, X_train)"
   ]
  },
  {
   "cell_type": "code",
   "execution_count": null,
   "metadata": {
    "ExecuteTime": {
     "end_time": "2018-12-05T21:32:17.625074Z",
     "start_time": "2018-12-05T21:31:56.090Z"
    }
   },
   "outputs": [],
   "source": [
    "fi"
   ]
  },
  {
   "cell_type": "markdown",
   "metadata": {},
   "source": [
    "## Testing the model for the full validation set"
   ]
  },
  {
   "cell_type": "code",
   "execution_count": null,
   "metadata": {
    "ExecuteTime": {
     "end_time": "2018-12-05T21:32:17.625880Z",
     "start_time": "2018-12-05T21:31:56.276Z"
    },
    "scrolled": false
   },
   "outputs": [],
   "source": [
    "df.info()"
   ]
  },
  {
   "cell_type": "code",
   "execution_count": null,
   "metadata": {
    "ExecuteTime": {
     "end_time": "2018-12-05T21:32:17.626887Z",
     "start_time": "2018-12-05T21:31:56.280Z"
    }
   },
   "outputs": [],
   "source": [
    "df.housetype.value_counts()"
   ]
  }
 ],
 "metadata": {
  "kernelspec": {
   "display_name": "Python 3",
   "language": "python",
   "name": "python3"
  },
  "language_info": {
   "codemirror_mode": {
    "name": "ipython",
    "version": 3
   },
   "file_extension": ".py",
   "mimetype": "text/x-python",
   "name": "python",
   "nbconvert_exporter": "python",
   "pygments_lexer": "ipython3",
   "version": "3.6.4"
  },
  "latex_envs": {
   "LaTeX_envs_menu_present": true,
   "autoclose": false,
   "autocomplete": true,
   "bibliofile": "biblio.bib",
   "cite_by": "apalike",
   "current_citInitial": 1,
   "eqLabelWithNumbers": true,
   "eqNumInitial": 1,
   "hotkeys": {
    "equation": "Ctrl-E",
    "itemize": "Ctrl-I"
   },
   "labels_anchors": false,
   "latex_user_defs": false,
   "report_style_numbering": false,
   "user_envs_cfg": false
  },
  "toc": {
   "nav_menu": {},
   "number_sections": false,
   "sideBar": true,
   "skip_h1_title": false,
   "toc_cell": false,
   "toc_position": {},
   "toc_section_display": "block",
   "toc_window_display": false
  },
  "varInspector": {
   "cols": {
    "lenName": 16,
    "lenType": 16,
    "lenVar": 40
   },
   "kernels_config": {
    "python": {
     "delete_cmd_postfix": "",
     "delete_cmd_prefix": "del ",
     "library": "var_list.py",
     "varRefreshCmd": "print(var_dic_list())"
    },
    "r": {
     "delete_cmd_postfix": ") ",
     "delete_cmd_prefix": "rm(",
     "library": "var_list.r",
     "varRefreshCmd": "cat(var_dic_list()) "
    }
   },
   "types_to_exclude": [
    "module",
    "function",
    "builtin_function_or_method",
    "instance",
    "_Feature"
   ],
   "window_display": false
  }
 },
 "nbformat": 4,
 "nbformat_minor": 2
}
