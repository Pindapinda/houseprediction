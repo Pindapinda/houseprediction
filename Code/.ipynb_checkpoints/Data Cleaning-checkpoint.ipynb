{
 "cells": [
  {
   "cell_type": "code",
   "execution_count": 9,
   "metadata": {
    "ExecuteTime": {
     "end_time": "2018-10-18T12:22:21.598817Z",
     "start_time": "2018-10-18T12:22:21.596036Z"
    }
   },
   "outputs": [],
   "source": [
    "import pandas as pd\n",
    "import pickle"
   ]
  },
  {
   "cell_type": "code",
   "execution_count": 8,
   "metadata": {
    "ExecuteTime": {
     "end_time": "2018-10-18T12:21:55.463110Z",
     "start_time": "2018-10-18T12:21:47.766543Z"
    }
   },
   "outputs": [
    {
     "name": "stderr",
     "output_type": "stream",
     "text": [
      "/home/stefan/anaconda3/lib/python3.6/site-packages/IPython/core/interactiveshell.py:2728: DtypeWarning: Columns (7,11,22,24,25,30,33,40,50,67,73) have mixed types. Specify dtype option on import or set low_memory=False.\n",
      "  interactivity=interactivity, compiler=compiler, result=result)\n"
     ]
    }
   ],
   "source": [
    "datapath = \"../Data/\"\n",
    "houses = pd.read_csv(datapath+\"houses.csv\")\n",
    "houses_preprocessed = pd.read_csv(datapath+\"houses-preprocessed.csv\", encoding='ISO-8859-1')\n",
    "houses_preprocessed_buurten = pd.read_csv(datapath+\"houses-preprocessed-buurten.csv\", encoding='ISO-8859-1')"
   ]
  },
  {
   "cell_type": "code",
   "execution_count": 10,
   "metadata": {
    "ExecuteTime": {
     "end_time": "2018-10-18T12:23:06.419082Z",
     "start_time": "2018-10-18T12:23:05.427741Z"
    }
   },
   "outputs": [],
   "source": [
    "houses.to_pickle(\"../Data/houses.pickle\")\n",
    "houses_preprocessed.to_pickle(\"../Data/houses_preprocessed.pickle\")\n",
    "houses_preprocessed_buurten.to_pickle(\"../Data/houses_preprocessed_buurten.pickle\")"
   ]
  },
  {
   "cell_type": "code",
   "execution_count": 11,
   "metadata": {
    "ExecuteTime": {
     "end_time": "2018-10-18T12:23:24.032140Z",
     "start_time": "2018-10-18T12:23:23.993414Z"
    }
   },
   "outputs": [
    {
     "data": {
      "text/html": [
       "<div>\n",
       "<style scoped>\n",
       "    .dataframe tbody tr th:only-of-type {\n",
       "        vertical-align: middle;\n",
       "    }\n",
       "\n",
       "    .dataframe tbody tr th {\n",
       "        vertical-align: top;\n",
       "    }\n",
       "\n",
       "    .dataframe thead th {\n",
       "        text-align: right;\n",
       "    }\n",
       "</style>\n",
       "<table border=\"1\" class=\"dataframe\">\n",
       "  <thead>\n",
       "    <tr style=\"text-align: right;\">\n",
       "      <th></th>\n",
       "      <th>Unnamed: 0</th>\n",
       "      <th>buurt_code</th>\n",
       "      <th>V1.x</th>\n",
       "      <th>startprice</th>\n",
       "      <th>endprice</th>\n",
       "      <th>url</th>\n",
       "      <th>realtor</th>\n",
       "      <th>buurt_naam</th>\n",
       "      <th>wijk_code</th>\n",
       "      <th>bathroom.ligbad</th>\n",
       "      <th>...</th>\n",
       "      <th>H+J Vervoer, informatie en communicatie:aantal</th>\n",
       "      <th>K-L Financiële diensten, onroerend goed:aantal</th>\n",
       "      <th>M-N Zakelijke dienstverlening:aantal</th>\n",
       "      <th>R-U Cultuur, recreatie, overige diensten:aantal</th>\n",
       "      <th>Oppervlakte totaal:ha</th>\n",
       "      <th>Oppervlakte land:ha</th>\n",
       "      <th>Oppervlakte water:ha</th>\n",
       "      <th>Afstand tot oprit hoofdverkeersweg:km</th>\n",
       "      <th>Afstand tot treinstations totaal:km</th>\n",
       "      <th>Afstand tot belangrijk overstapstation:km</th>\n",
       "    </tr>\n",
       "  </thead>\n",
       "  <tbody>\n",
       "    <tr>\n",
       "      <th>0</th>\n",
       "      <td>1</td>\n",
       "      <td>BU00030000</td>\n",
       "      <td>84826</td>\n",
       "      <td>325000.0</td>\n",
       "      <td>297500.0</td>\n",
       "      <td>/koop/verkocht/appingedam/huis-48940995-solwer...</td>\n",
       "      <td>/makelaars/groningen/9239-lamberink-woningmake...</td>\n",
       "      <td>Appingedam-Centrum</td>\n",
       "      <td>WK000300</td>\n",
       "      <td>0</td>\n",
       "      <td>...</td>\n",
       "      <td>5.0</td>\n",
       "      <td>10.0</td>\n",
       "      <td>30.0</td>\n",
       "      <td>25.0</td>\n",
       "      <td>90</td>\n",
       "      <td>84</td>\n",
       "      <td>5</td>\n",
       "      <td>0.5</td>\n",
       "      <td>0.6</td>\n",
       "      <td>25.2</td>\n",
       "    </tr>\n",
       "    <tr>\n",
       "      <th>1</th>\n",
       "      <td>2</td>\n",
       "      <td>BU00030000</td>\n",
       "      <td>84827</td>\n",
       "      <td>149500.0</td>\n",
       "      <td>149500.0</td>\n",
       "      <td>/koop/verkocht/appingedam/huis-48151474-solwer...</td>\n",
       "      <td>/makelaars/appingedam/9130-meijer-en-drenth-ma...</td>\n",
       "      <td>Appingedam-Centrum</td>\n",
       "      <td>WK000300</td>\n",
       "      <td>0</td>\n",
       "      <td>...</td>\n",
       "      <td>5.0</td>\n",
       "      <td>10.0</td>\n",
       "      <td>30.0</td>\n",
       "      <td>25.0</td>\n",
       "      <td>90</td>\n",
       "      <td>84</td>\n",
       "      <td>5</td>\n",
       "      <td>0.5</td>\n",
       "      <td>0.6</td>\n",
       "      <td>25.2</td>\n",
       "    </tr>\n",
       "    <tr>\n",
       "      <th>2</th>\n",
       "      <td>3</td>\n",
       "      <td>BU00030000</td>\n",
       "      <td>84829</td>\n",
       "      <td>234500.0</td>\n",
       "      <td>194500.0</td>\n",
       "      <td>/koop/verkocht/appingedam/huis-48141933-oranje...</td>\n",
       "      <td>/makelaars/appingedam/9130-meijer-en-drenth-ma...</td>\n",
       "      <td>Appingedam-Centrum</td>\n",
       "      <td>WK000300</td>\n",
       "      <td>1</td>\n",
       "      <td>...</td>\n",
       "      <td>5.0</td>\n",
       "      <td>10.0</td>\n",
       "      <td>30.0</td>\n",
       "      <td>25.0</td>\n",
       "      <td>90</td>\n",
       "      <td>84</td>\n",
       "      <td>5</td>\n",
       "      <td>0.5</td>\n",
       "      <td>0.6</td>\n",
       "      <td>25.2</td>\n",
       "    </tr>\n",
       "    <tr>\n",
       "      <th>3</th>\n",
       "      <td>4</td>\n",
       "      <td>BU00030000</td>\n",
       "      <td>84830</td>\n",
       "      <td>125000.0</td>\n",
       "      <td>125000.0</td>\n",
       "      <td>/koop/verkocht/appingedam/huis-49131866-oranje...</td>\n",
       "      <td>/makelaars/appingedam/9130-meijer-en-drenth-ma...</td>\n",
       "      <td>Appingedam-Centrum</td>\n",
       "      <td>WK000300</td>\n",
       "      <td>0</td>\n",
       "      <td>...</td>\n",
       "      <td>5.0</td>\n",
       "      <td>10.0</td>\n",
       "      <td>30.0</td>\n",
       "      <td>25.0</td>\n",
       "      <td>90</td>\n",
       "      <td>84</td>\n",
       "      <td>5</td>\n",
       "      <td>0.5</td>\n",
       "      <td>0.6</td>\n",
       "      <td>25.2</td>\n",
       "    </tr>\n",
       "    <tr>\n",
       "      <th>4</th>\n",
       "      <td>5</td>\n",
       "      <td>BU00030000</td>\n",
       "      <td>84831</td>\n",
       "      <td>225000.0</td>\n",
       "      <td>225000.0</td>\n",
       "      <td>/koop/verkocht/appingedam/huis-49181529-wilhel...</td>\n",
       "      <td>/makelaars/appingedam/9130-meijer-en-drenth-ma...</td>\n",
       "      <td>Appingedam-Centrum</td>\n",
       "      <td>WK000300</td>\n",
       "      <td>0</td>\n",
       "      <td>...</td>\n",
       "      <td>5.0</td>\n",
       "      <td>10.0</td>\n",
       "      <td>30.0</td>\n",
       "      <td>25.0</td>\n",
       "      <td>90</td>\n",
       "      <td>84</td>\n",
       "      <td>5</td>\n",
       "      <td>0.5</td>\n",
       "      <td>0.6</td>\n",
       "      <td>25.2</td>\n",
       "    </tr>\n",
       "  </tbody>\n",
       "</table>\n",
       "<p>5 rows × 212 columns</p>\n",
       "</div>"
      ],
      "text/plain": [
       "   Unnamed: 0  buurt_code   V1.x  startprice  endprice  \\\n",
       "0           1  BU00030000  84826    325000.0  297500.0   \n",
       "1           2  BU00030000  84827    149500.0  149500.0   \n",
       "2           3  BU00030000  84829    234500.0  194500.0   \n",
       "3           4  BU00030000  84830    125000.0  125000.0   \n",
       "4           5  BU00030000  84831    225000.0  225000.0   \n",
       "\n",
       "                                                 url  \\\n",
       "0  /koop/verkocht/appingedam/huis-48940995-solwer...   \n",
       "1  /koop/verkocht/appingedam/huis-48151474-solwer...   \n",
       "2  /koop/verkocht/appingedam/huis-48141933-oranje...   \n",
       "3  /koop/verkocht/appingedam/huis-49131866-oranje...   \n",
       "4  /koop/verkocht/appingedam/huis-49181529-wilhel...   \n",
       "\n",
       "                                             realtor          buurt_naam  \\\n",
       "0  /makelaars/groningen/9239-lamberink-woningmake...  Appingedam-Centrum   \n",
       "1  /makelaars/appingedam/9130-meijer-en-drenth-ma...  Appingedam-Centrum   \n",
       "2  /makelaars/appingedam/9130-meijer-en-drenth-ma...  Appingedam-Centrum   \n",
       "3  /makelaars/appingedam/9130-meijer-en-drenth-ma...  Appingedam-Centrum   \n",
       "4  /makelaars/appingedam/9130-meijer-en-drenth-ma...  Appingedam-Centrum   \n",
       "\n",
       "  wijk_code  bathroom.ligbad                    ...                      \\\n",
       "0  WK000300                0                    ...                       \n",
       "1  WK000300                0                    ...                       \n",
       "2  WK000300                1                    ...                       \n",
       "3  WK000300                0                    ...                       \n",
       "4  WK000300                0                    ...                       \n",
       "\n",
       "   H+J Vervoer, informatie en communicatie:aantal  \\\n",
       "0                                             5.0   \n",
       "1                                             5.0   \n",
       "2                                             5.0   \n",
       "3                                             5.0   \n",
       "4                                             5.0   \n",
       "\n",
       "   K-L Financiële diensten, onroerend goed:aantal  \\\n",
       "0                                            10.0   \n",
       "1                                            10.0   \n",
       "2                                            10.0   \n",
       "3                                            10.0   \n",
       "4                                            10.0   \n",
       "\n",
       "   M-N Zakelijke dienstverlening:aantal  \\\n",
       "0                                  30.0   \n",
       "1                                  30.0   \n",
       "2                                  30.0   \n",
       "3                                  30.0   \n",
       "4                                  30.0   \n",
       "\n",
       "   R-U Cultuur, recreatie, overige diensten:aantal  Oppervlakte totaal:ha  \\\n",
       "0                                             25.0                     90   \n",
       "1                                             25.0                     90   \n",
       "2                                             25.0                     90   \n",
       "3                                             25.0                     90   \n",
       "4                                             25.0                     90   \n",
       "\n",
       "   Oppervlakte land:ha  Oppervlakte water:ha  \\\n",
       "0                   84                     5   \n",
       "1                   84                     5   \n",
       "2                   84                     5   \n",
       "3                   84                     5   \n",
       "4                   84                     5   \n",
       "\n",
       "   Afstand tot oprit hoofdverkeersweg:km  Afstand tot treinstations totaal:km  \\\n",
       "0                                    0.5                                  0.6   \n",
       "1                                    0.5                                  0.6   \n",
       "2                                    0.5                                  0.6   \n",
       "3                                    0.5                                  0.6   \n",
       "4                                    0.5                                  0.6   \n",
       "\n",
       "   Afstand tot belangrijk overstapstation:km  \n",
       "0                                       25.2  \n",
       "1                                       25.2  \n",
       "2                                       25.2  \n",
       "3                                       25.2  \n",
       "4                                       25.2  \n",
       "\n",
       "[5 rows x 212 columns]"
      ]
     },
     "execution_count": 11,
     "metadata": {},
     "output_type": "execute_result"
    }
   ],
   "source": [
    "df = pd.read_pickle(\"../Data/houses_preprocessed_buurten.pickle\")"
   ]
  },
  {
   "cell_type": "code",
   "execution_count": 7,
   "metadata": {
    "ExecuteTime": {
     "end_time": "2018-10-18T12:21:11.585912Z",
     "start_time": "2018-10-18T12:21:11.582137Z"
    }
   },
   "outputs": [
    {
     "data": {
      "text/plain": [
       "Index(['Unnamed: 0', 'startprice', 'endprice', 'url', 'realtor', 'buurt_code',\n",
       "       'buurt_naam', 'wijk_code', 'bathroom.ligbad', 'bathroom.douche',\n",
       "       ...\n",
       "       'housenumber', 'postcodenummerdeel', 'address', 'startdate', 'enddate',\n",
       "       'duration', 'latitude', 'longitude', 'constructionperiod',\n",
       "       'yearofconstruction'],\n",
       "      dtype='object', length=143)"
      ]
     },
     "execution_count": 7,
     "metadata": {},
     "output_type": "execute_result"
    }
   ],
   "source": [
    "houses_preprocessed.columns"
   ]
  },
  {
   "cell_type": "code",
   "execution_count": 73,
   "metadata": {
    "ExecuteTime": {
     "end_time": "2018-10-11T09:44:41.736061Z",
     "start_time": "2018-10-11T09:44:41.634761Z"
    }
   },
   "outputs": [
    {
     "data": {
      "text/plain": [
       "Dudoklaan 7004 LB Doetinchem                        26\n",
       "Moerschans 4208 AA Gorinchem                        19\n",
       "Meikers 7623 Borne                                  15\n",
       "Bouwnummer (Bouwnr. 2) 1349 Almere                  12\n",
       "Oranjeplein 7681 AZ Vroomshoop                      10\n",
       "Het Sas 9613 CJ Meerstad                            10\n",
       "Onze Lieve Vrouwestraat 4735 SL Zegge                8\n",
       "Bouwnummer (Bouwnr. 1) 1349 Almere                   8\n",
       "Crouwellstraat 7004 Doetinchem                       8\n",
       "Easter Omwei 9254 Hurdegaryp                         7\n",
       "Bouwnummer (Bouwnr. 3) 1349 Almere                   7\n",
       "Generaal Spoorlaan 2283 GL Rijswijk                  7\n",
       "Helperpark 9723 ZA Groningen                         6\n",
       "Diepeweg 1211 AE Hilversum                           6\n",
       "Duikerstraat 7004 LC Doetinchem                      6\n",
       "Bouwnummer (Bouwnr. 4) 1349 Almere                   6\n",
       "Oosterhagen 3078 Rotterdam                           5\n",
       "Bouwnummer (Bouwnr. 1) 3072 DB Rotterdam             5\n",
       "De Pleats 9062 HR Oentsjerk                          5\n",
       "Bouwnummer (Bouwnr. 1) 7741 JK Coevorden             4\n",
       "Clarissenhof 5041 RP Tilburg                         4\n",
       "Breezijde 4243 JM Nieuwland                          4\n",
       "Middelhorsterweg 9751 TA Haren Gn                    4\n",
       "Koestraat 5081 BC Hilvarenbeek                       4\n",
       "Bouwnummer (Bouwnr. 2) 3072 DB Rotterdam             4\n",
       "Hutteweg 7071 Ulft                                   4\n",
       "Van Essenlaan 3907 JA Veenendaal                     4\n",
       "P C Boutenssingel 2902 BG Capelle aan den IJssel     4\n",
       "Pimpernel 7443 NA Nijverdal                          4\n",
       "Bouwnummer (Bouwnr. 1) 1521 AH Wormerveer            3\n",
       "                                                    ..\n",
       "Forellendaal 545 2553 JW Den Haag                    1\n",
       "Kortendijk 7 4132 VJ Vianen                          1\n",
       "Kerkwijk (Bouwnr. 12) 6942 Didam                     1\n",
       "Clara Wichmannstraat 101 2984 XJ Ridderkerk          1\n",
       "Coltermanlaan 46 1701 AD Heerhugowaard               1\n",
       "Parcivalring 331 5221 LH Den Bosch                   1\n",
       "Iseoplantsoen 11 1060 PW Amsterdam                   1\n",
       "Marterstraat 50 7559 AJ Hengelo                      1\n",
       "Molenweide 18 2614 LK Delft                          1\n",
       "Kees Verweystraat 28 1328 BP Almere                  1\n",
       "Klimopstraat 59 2565 VG Den Haag                     1\n",
       "Ir G Friedhoffplein 18 F3 2042 BP Zandvoort          1\n",
       "van Eesterenstraat 8 6374 PD Landgraaf               1\n",
       "Coen Botrede 102 2901 CK Capelle aan den IJssel      1\n",
       "Agaatlaan 13 3162 TA Rhoon                           1\n",
       "Hildebrandhove 54 2726 AX Zoetermeer                 1\n",
       "Den Ilp 125 1127 PL Den Ilp                          1\n",
       "Alexanderstraat 28 3253 BA Ouddorp                   1\n",
       "Badhuiskade 301 1031 KV Amsterdam                    1\n",
       "Stadhouderslaan (Bouwnr. 21) 2382 PD Zoeterwoude     1\n",
       "Ruigoord 152 3079 XV Rotterdam                       1\n",
       "Julianastraat 66 3262 SJ Oud-Beijerland              1\n",
       "Kleine Esweg 3 7964 KC Ansen                         1\n",
       "Piet Gijzenbrugstraat 42 hs 1059 XK Amsterdam        1\n",
       "Hoekerkade 7 2725 AE Zoetermeer                      1\n",
       "Voorofscheweg 282 2771 MP Boskoop                    1\n",
       "de Scheepsvork 7 5555 LN Valkenswaard                1\n",
       "Grote Parallelstraat 20 5922 VN Venlo                1\n",
       "Ambachtstraat 7 4051 AH Ochten                       1\n",
       "Sportlaan 258 3135 GZ Vlaardingen                    1\n",
       "Name: adres, Length: 93213, dtype: int64"
      ]
     },
     "execution_count": 73,
     "metadata": {},
     "output_type": "execute_result"
    }
   ],
   "source": [
    "houses['adres'].value_counts()"
   ]
  }
 ],
 "metadata": {
  "kernelspec": {
   "display_name": "Python 3",
   "language": "python",
   "name": "python3"
  },
  "language_info": {
   "codemirror_mode": {
    "name": "ipython",
    "version": 3
   },
   "file_extension": ".py",
   "mimetype": "text/x-python",
   "name": "python",
   "nbconvert_exporter": "python",
   "pygments_lexer": "ipython3",
   "version": "3.6.4"
  },
  "latex_envs": {
   "LaTeX_envs_menu_present": true,
   "autoclose": false,
   "autocomplete": true,
   "bibliofile": "biblio.bib",
   "cite_by": "apalike",
   "current_citInitial": 1,
   "eqLabelWithNumbers": true,
   "eqNumInitial": 1,
   "hotkeys": {
    "equation": "Ctrl-E",
    "itemize": "Ctrl-I"
   },
   "labels_anchors": false,
   "latex_user_defs": false,
   "report_style_numbering": false,
   "user_envs_cfg": false
  },
  "toc": {
   "nav_menu": {},
   "number_sections": false,
   "sideBar": true,
   "skip_h1_title": false,
   "toc_cell": false,
   "toc_position": {},
   "toc_section_display": "block",
   "toc_window_display": false
  },
  "varInspector": {
   "cols": {
    "lenName": 16,
    "lenType": 16,
    "lenVar": 40
   },
   "kernels_config": {
    "python": {
     "delete_cmd_postfix": "",
     "delete_cmd_prefix": "del ",
     "library": "var_list.py",
     "varRefreshCmd": "print(var_dic_list())"
    },
    "r": {
     "delete_cmd_postfix": ") ",
     "delete_cmd_prefix": "rm(",
     "library": "var_list.r",
     "varRefreshCmd": "cat(var_dic_list()) "
    }
   },
   "types_to_exclude": [
    "module",
    "function",
    "builtin_function_or_method",
    "instance",
    "_Feature"
   ],
   "window_display": false
  }
 },
 "nbformat": 4,
 "nbformat_minor": 2
}
