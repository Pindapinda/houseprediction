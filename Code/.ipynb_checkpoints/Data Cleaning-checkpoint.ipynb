{
 "cells": [
  {
   "cell_type": "code",
   "execution_count": 1,
   "metadata": {
    "ExecuteTime": {
     "end_time": "2018-10-23T07:44:45.695091Z",
     "start_time": "2018-10-23T07:44:45.339366Z"
    }
   },
   "outputs": [],
   "source": [
    "import numpy as np\n",
    "import pandas as pd\n",
    "import pickle\n",
    "from sklearn.preprocessing import StandardScaler\n",
    "from sklearn.decomposition import PCA"
   ]
  },
  {
   "cell_type": "code",
   "execution_count": 2,
   "metadata": {
    "ExecuteTime": {
     "end_time": "2018-10-23T07:44:49.808964Z",
     "start_time": "2018-10-23T07:44:45.703966Z"
    }
   },
   "outputs": [
    {
     "name": "stderr",
     "output_type": "stream",
     "text": [
      "C:\\ProgramData\\Anaconda3\\lib\\site-packages\\IPython\\core\\interactiveshell.py:2785: DtypeWarning: Columns (7,11,22,24,25,30,33,40,50,67,73) have mixed types. Specify dtype option on import or set low_memory=False.\n",
      "  interactivity=interactivity, compiler=compiler, result=result)\n"
     ]
    }
   ],
   "source": [
    "datapath = \"../Data/\"\n",
    "houses = pd.read_csv(datapath+\"houses.csv\")\n",
    "houses_preprocessed = pd.read_csv(datapath+\"houses-preprocessed.csv\", encoding='ISO-8859-1')\n",
    "houses_preprocessed_buurten = pd.read_csv(datapath+\"houses-preprocessed-buurten.csv\", encoding='ISO-8859-1')"
   ]
  },
  {
   "cell_type": "code",
   "execution_count": 3,
   "metadata": {
    "ExecuteTime": {
     "end_time": "2018-10-23T07:44:51.112903Z",
     "start_time": "2018-10-23T07:44:50.139437Z"
    }
   },
   "outputs": [],
   "source": [
    "houses.to_pickle(\"../Data/houses.pickle\")\n",
    "houses_preprocessed.to_pickle(\"../Data/houses_preprocessed.pickle\")\n",
    "houses_preprocessed_buurten.to_pickle(\"../Data/houses_preprocessed_buurten.pickle\")"
   ]
  },
  {
   "cell_type": "code",
   "execution_count": 4,
   "metadata": {
    "ExecuteTime": {
     "end_time": "2018-10-23T07:44:51.564591Z",
     "start_time": "2018-10-23T07:44:51.436535Z"
    }
   },
   "outputs": [],
   "source": [
    "df = pd.read_pickle(\"../Data/houses_preprocessed_buurten.pickle\")"
   ]
  },
  {
   "cell_type": "code",
   "execution_count": 5,
   "metadata": {
    "ExecuteTime": {
     "end_time": "2018-10-20T13:32:52.469812Z",
     "start_time": "2018-10-20T13:32:52.452718Z"
    }
   },
   "outputs": [
    {
     "name": "stdout",
     "output_type": "stream",
     "text": [
      "Unnamed: 0\n",
      "buurt_code\n",
      "V1.x\n",
      "startprice\n",
      "endprice\n",
      "url\n",
      "realtor\n",
      "buurt_naam\n",
      "wijk_code\n",
      "bathroom.ligbad\n",
      "bathroom.douche\n",
      "bathroom.toilet\n",
      "bathroom.jacuzzi\n",
      "bathroom.sauna\n",
      "bathroom.zitbad\n",
      "bathroom.stoomcabine\n",
      "feature.mechanischeventilatie\n",
      "feature.tvkabel\n",
      "feature.rookkanaal\n",
      "feature.lift\n",
      "feature.dakraam\n",
      "feature.elektra\n",
      "feature.vliering\n",
      "feature.zonnecollectoren\n",
      "feature.elektrischedeur\n",
      "feature.buitenzonwering\n",
      "feature.schuifpui\n",
      "feature.stromendwater\n",
      "feature.airconditioning\n",
      "feature.verwarming\n",
      "feature.alarminstallatie\n",
      "feature.zwembad\n",
      "feature.sauna\n",
      "feature.glasvezelkabel\n",
      "feature.stoomcabine\n",
      "feature.rolluiken\n",
      "feature.jacuzzi\n",
      "feature.satellietschotel\n",
      "feature.windmolen\n",
      "housetype\n",
      "housesubtype\n",
      "housesubsubtype\n",
      "tuinoppervlakte\n",
      "tuindiepte\n",
      "tuinbreedte\n",
      "voortuinoppervlakte\n",
      "voortuindiepte\n",
      "voortuinbreedte\n",
      "voorlopigenergielabel\n",
      "energielabel\n",
      "orientation.aanvaarwater\n",
      "orientation.aanwater\n",
      "orientation.incentrum\n",
      "orientation.vrijuitzicht\n",
      "orientation.inwoonwijk\n",
      "orientation.beschutteligging\n",
      "orientation.aanrustigeweg\n",
      "orientation.openligging\n",
      "orientation.aandrukkeweg\n",
      "orientation.aanpark\n",
      "orientation.aanbosrand\n",
      "orientation.inbosrijkeomgeving\n",
      "orientation.buitenbebouwdekom\n",
      "orientation.landelijkgelegen\n",
      "gardenorientation\n",
      "gardenaccessiblefromtherear\n",
      "details.monument\n",
      "details.gedeeltelijkgestoffeerd\n",
      "details.gemeubileerd\n",
      "details.dubbelebewoningmogelijk\n",
      "details.beschermdstadsofdorpsgezicht\n",
      "details.monumentaalpand\n",
      "details.gestoffeerd\n",
      "details.kluswoning\n",
      "details.dubbelebewoningaanwezig\n",
      "details.gedeeltelijkverhuurd\n",
      "parking.betaaldparkeren\n",
      "parking.parkeervergunningen\n",
      "parking.parkeergarage\n",
      "parking.openbaarparkeren\n",
      "garage.parkeerkelder\n",
      "garage.parkeerplaats\n",
      "garage.inpandig\n",
      "garage.garagemogelijk\n",
      "garage.garagebox\n",
      "garage.nietaanwezig\n",
      "garage.welmogelijk\n",
      "garage.carport\n",
      "garage.souterrain\n",
      "garage.aangebouwdestenengarage\n",
      "garage.vrijstaandestenengarage\n",
      "garage.vrijstaandehoutengarage\n",
      "garage.garagemetcarport\n",
      "garage.aangebouwdehouten\n",
      "rooftype\n",
      "roofmaterial\n",
      "soortbouw\n",
      "storage\n",
      "insulation.vollediggesoleerd\n",
      "insulation.dakisolatie\n",
      "insulation.muurisolatie\n",
      "insulation.vloerisolatie\n",
      "insulation.dubbelglas\n",
      "insulation.gedeeltelijkdubbelglas\n",
      "insulation.voorzetramen\n",
      "insulation.geenspouw\n",
      "insulation.ecobouw\n",
      "insulation.geenisolatie\n",
      "certificate.kiwaveiligwonenkeurmerk\n",
      "certificate.energieprestatieadvies\n",
      "certificate.politiekeurmerk\n",
      "certificate.giwwaarborgcertificaat\n",
      "certificate.woningborggarantiecertificaat\n",
      "certificate.swkgarantiecertificaat\n",
      "certificate.algemenewoningkeur\n",
      "certificate.brandveiligheid\n",
      "certificate.\n",
      "certificate.ergieprestatieadvies\n",
      "certificate.bouwkundigekeuring\n",
      "certificate.huisgarantie\n",
      "autoplekken\n",
      "balcony.fransbalkon\n",
      "balcony.dakterras\n",
      "balcony.balkon\n",
      "rooms\n",
      "bedrooms\n",
      "bathroom.badkamer\n",
      "bathroom.aparte toilet\n",
      "province\n",
      "municipality\n",
      "postcode\n",
      "livingspace\n",
      "lotsurface\n",
      "volume\n",
      "housenumber\n",
      "postcodenummerdeel\n",
      "address\n",
      "startdate\n",
      "enddate\n",
      "duration\n",
      "latitude\n",
      "longitude\n",
      "constructionperiod\n",
      "yearofconstruction\n",
      "V1.y\n",
      "Onderwerpen:Wijken en buurten\n",
      "Meest voorkomende postcode:code\n",
      "Gemeentenaam:naam\n",
      "Mate van stedelijkheid:code\n",
      "Soort regio:omschrijving\n",
      "Afstand tot huisartsenpraktijk:km\n",
      "Afstand tot grote supermarkt:km\n",
      "Afstand tot kinderdagverblijf:km\n",
      "Afstand tot school:km\n",
      "Scholen binnen 3 km:aantal\n",
      "Personen per soort uitkering; Bijstand:aantal\n",
      "Personen per soort uitkering; AO:aantal\n",
      "Personen per soort uitkering; WW:aantal\n",
      "Personen per soort uitkering; AOW:aantal\n",
      "Aantal inkomensontvangers  :aantal\n",
      "Gemiddeld inkomen per inkomensontvanger :x 1 000 euro\n",
      "Gemiddeld inkomen per inwoner :x 1 000 euro\n",
      "40% personen met laagste inkomen:%\n",
      "20% personen met hoogste inkomen:%\n",
      "Actieven 15-75 jaar:%\n",
      "40% huishoudens met laagste inkomen:%\n",
      "20% huishoudens met hoogste inkomen:%\n",
      "Huishoudens met een laag inkomen:%\n",
      "Huish. onder of rond sociaal minimum:%\n",
      "Woningvoorraad:aantal\n",
      "Gemiddelde woningwaarde:x 1 000 euro\n",
      "Percentage eengezinswoning:%\n",
      "Percentage bewoond:%\n",
      "Koopwoningen:%\n",
      "In bezit woningcorporatie:%\n",
      "In bezit overige verhuurders:%\n",
      "Bouwjaar vanaf 2000:%\n",
      "Westers totaal:aantal\n",
      "Niet-westers totaal:aantal\n",
      "Geboorte totaal:aantal\n",
      "Sterfte totaal:aantal\n",
      "Eenpersoonshuishoudens:aantal\n",
      "Huishoudens zonder kinderen:aantal\n",
      "Huishoudens met kinderen:aantal\n",
      "Gemiddelde huishoudensgrootte:aantal\n",
      "Bevolkingsdichtheid:aantal inwoners per km²\n",
      "Aantal inwoners:aantal\n",
      "Mannen:aantal\n",
      "0 tot 15 jaar:aantal\n",
      "15 tot 25 jaar:aantal\n",
      "25 tot 45 jaar:aantal\n",
      "45 tot 65 jaar:aantal\n",
      "65 jaar of ouder:aantal\n",
      "Ongehuwd:aantal\n",
      "Gehuwd:aantal\n",
      "Gescheiden:aantal\n",
      "Verweduwd:aantal\n",
      "Indelingswijziging wijken en buurten:code\n",
      "Bedrijfsvestigingen totaal:aantal\n",
      "A Landbouw, bosbouw en visserij:aantal\n",
      "B-F Nijverheid en energie:aantal\n",
      "G+I Handel en horeca:aantal\n",
      "H+J Vervoer, informatie en communicatie:aantal\n",
      "K-L Financiële diensten, onroerend goed:aantal\n",
      "M-N Zakelijke dienstverlening:aantal\n",
      "R-U Cultuur, recreatie, overige diensten:aantal\n",
      "Oppervlakte totaal:ha\n",
      "Oppervlakte land:ha\n",
      "Oppervlakte water:ha\n",
      "Afstand tot oprit hoofdverkeersweg:km\n",
      "Afstand tot treinstations totaal:km\n",
      "Afstand tot belangrijk overstapstation:km\n"
     ]
    }
   ],
   "source": [
    "for col in df.columns:\n",
    "    print(col)"
   ]
  },
  {
   "cell_type": "code",
   "execution_count": 6,
   "metadata": {
    "ExecuteTime": {
     "end_time": "2018-10-23T07:44:51.957528Z",
     "start_time": "2018-10-23T07:44:51.949800Z"
    }
   },
   "outputs": [
    {
     "data": {
      "text/plain": [
       "212"
      ]
     },
     "execution_count": 6,
     "metadata": {},
     "output_type": "execute_result"
    }
   ],
   "source": [
    "len(df.columns)"
   ]
  },
  {
   "cell_type": "code",
   "execution_count": 7,
   "metadata": {
    "ExecuteTime": {
     "end_time": "2018-10-20T14:42:19.733817Z",
     "start_time": "2018-10-20T14:42:19.730320Z"
    }
   },
   "outputs": [
    {
     "data": {
      "text/plain": [
       "['0 tot 15 jaar:aantal',\n",
       " '15 tot 25 jaar:aantal',\n",
       " '25 tot 45 jaar:aantal',\n",
       " '45 tot 65 jaar:aantal']"
      ]
     },
     "execution_count": 7,
     "metadata": {},
     "output_type": "execute_result"
    }
   ],
   "source": [
    "a = [col for col in df.columns if 'jaar:aantal' in col]\n",
    "a"
   ]
  },
  {
   "cell_type": "code",
   "execution_count": 8,
   "metadata": {
    "ExecuteTime": {
     "end_time": "2018-10-23T07:57:52.489711Z",
     "start_time": "2018-10-23T07:57:52.485136Z"
    }
   },
   "outputs": [
    {
     "data": {
      "text/plain": [
       "78807"
      ]
     },
     "execution_count": 8,
     "metadata": {},
     "output_type": "execute_result"
    }
   ],
   "source": [
    "len(df)"
   ]
  },
  {
   "cell_type": "code",
   "execution_count": 9,
   "metadata": {
    "ExecuteTime": {
     "end_time": "2018-10-23T07:57:41.088596Z",
     "start_time": "2018-10-23T07:57:41.083066Z"
    },
    "scrolled": true
   },
   "outputs": [
    {
     "data": {
      "text/plain": [
       "0    51899\n",
       "1    26858\n",
       "2       50\n",
       "Name: bathroom.ligbad, dtype: int64"
      ]
     },
     "execution_count": 9,
     "metadata": {},
     "output_type": "execute_result"
    }
   ],
   "source": [
    "df['bathroom.ligbad'].value_counts()"
   ]
  },
  {
   "cell_type": "code",
   "execution_count": 10,
   "metadata": {
    "ExecuteTime": {
     "end_time": "2018-10-19T14:05:15.370482Z",
     "start_time": "2018-10-19T14:05:15.351778Z"
    }
   },
   "outputs": [],
   "source": [
    "droppable = ['Unnamed: 0', 'V1.x', 'V1.y', 'url', 'realtor', 'buurt_naam', 'feature.tvkabel', 'feature.rookkanaal',\n",
    "             'feature.elektra', 'feature.elektrischedeur', 'feature.buitenzonwering', 'feature.stromendwater',\n",
    "             'feature.verwarming', 'feature.windmolen', 'certificate.', 'housenumber', 'postcodenummerdeel', 'address', \n",
    "             'startdate', 'enddate', 'duration', 'Onderwerpen:Wijken en buurten', 'Meest voorkomende postcode:code', \n",
    "             'Soort regio:omschrijving', 'Woningvoorraad:aantal', 'Indelingswijziging wijken en buurten:code', \n",
    "             'Oppervlakte totaal:ha', 'Oppervlakte land:ha', 'Oppervlakte water:ha']\n",
    "\n",
    "droppable_lookat = ['startprice', 'wijk_code', 'municipality', 'postcode', 'latitude', 'longitude', 'Gemeentenaam:naam', \n",
    "                    'Percentage bewoond:%']\n",
    "\n",
    "addable =['feature.mechanischeventilatie', 'feature.dakraam', 'feature.rolluiken', 'insulation.vollediggesoleerd', \n",
    "          'insulation.dakisolatie', 'insulation.muurisolatie', 'insulation.vloerisolatie', 'insulation.dubbelglas', \n",
    "          'insulation.gedeeltelijkdubbelglas']\n",
    "\n",
    "addable_lookat = ['bathroom.ligbad', 'bathroom.douche', 'bathroom.toilet', 'bathroom.jacuzzi', 'bathroom.sauna',\n",
    "                  'bathroom.zitbad', 'bathroom.stoomcabine', 'feature.zonnecollectoren', 'feature.schuifpui',\n",
    "                  'feature.airconditioning', 'feature.alarminstallatie', 'feature.satellietschotel', 'insulation.voorzetramen', \n",
    "                  'insulation.geenspouw', 'insulation.ecobouw', 'insulation.geenisolatie', 'certificate.kiwaveiligwonenkeurmerk', \n",
    "                  'certificate.energieprestatieadvies', 'certificate.politiekeurmerk', 'certificate.giwwaarborgcertificaat', \n",
    "                  'certificate.woningborggarantiecertificaat', 'certificate.swkgarantiecertificaat', \n",
    "                  'certificate.algemenewoningkeur', 'certificate.brandveiligheid', 'certificate.ergieprestatieadvies', \n",
    "                  'certificate.bouwkundigekeuring', 'certificate.huisgarantie']\n",
    "\n",
    "comparing = ['feature.vliering', 'housetype', 'voorlopigenergielabel', 'orientation.aanvaarwater', 'incentrum', 'vrijuitzicht',\n",
    "             'inwoonwijk', 'orientation.vrijuitzicht', 'orientation.inwoonwijk', 'orientation.beschutteligging',\n",
    "             'orientation.aanrustigeweg', 'gardenorientation', 'gardenaccessiblefromtherear', 'details.gestoffeerd', \n",
    "             'garage.parkeerplaats', 'garage.inpandig', 'garage.aangebouwdestenengarage', 'garage.vrijstaandestenengarage', \n",
    "             'balcony.balkon', 'Mate van stedelijkheid:code', 'Aantal inkomensontvangers\\xa0\\xa0:aantal', 'yearofconstruction']\n",
    "\n",
    "comparing_lookat = ['feature.zwembad', 'feature.sauna', 'feature.glasvezelkabel', 'feature.stoomcabine', 'feature.stoomcabine',\n",
    "                    'feature.jacuzzi', 'housesubtype', 'housesubsubtype', 'tuinoppervlakte', 'tuindiepte', 'tuinbreedte', \n",
    "                    'voortuinoppervlakte', 'voortuindiepte', 'voortuinbreedte', 'energielabel',  'orientation.openligging',\n",
    "                    'orientation.aandrukkeweg', 'orientation.aanpark', 'orientation.aanbosrand', \n",
    "                    'orientation.inbosrijkeomgeving', 'orientation.buitenbebouwdekom', 'orientation.landelijkgelegen', \n",
    "                    'details.monument', 'details.gedeeltelijkgestoffeerd', 'details.gemeubileerd', \n",
    "                    'details.dubbelebewoningmogelijk', 'details.beschermdstadsofdorpsgezicht', 'details.monumentaalpand', \n",
    "                    'details.kluswoning', 'details.dubbelebewoningaanwezig', 'details.gedeeltelijkverhuurd', \n",
    "                    'garage.parkeerkelder', 'garage.garagemogelijk', 'garage.garagebox', 'garage.nietaanwezig', \n",
    "                    'garage.welmogelijk', 'garage.carport', 'garage.souterrain', 'rooftype', 'roofmaterial', 'soortbouw', \n",
    "                    'storage', 'autoplekken', 'balcony.fransbalkon', 'balcony.dakterras', 'rooms', 'bedrooms', 'livingspace', \n",
    "                    'lotsurface', 'province', 'volume', 'constructionperiod', 'Afstand tot huisartsenpraktijk:km', \n",
    "                    'Afstand tot grote supermarkt:km', 'Afstand tot grote supermarkt:km', 'Afstand tot kinderdagverblijf:km', \n",
    "                    'Afstand tot school:km', 'Scholen binnen 3 km:aantal', 'Personen per soort uitkering; Bijstand:aantal', \n",
    "                    'Personen per soort uitkering; AO:aantal', 'Personen per soort uitkering; WW:aantal', \n",
    "                    'Personen per soort uitkering; AOW:aantal', 'Gemiddeld inkomen per inkomensontvanger\\xa0:x 1 000 euro', \n",
    "                    'Gemiddeld inkomen per inwoner\\xa0:x 1 000 euro', '40% personen met laagste inkomen:%', \n",
    "                    '20% personen met hoogste inkomen:%', 'Huishoudens met een laag inkomen:%', \n",
    "                    'Huish. onder of rond sociaal minimum:%', 'Woningvoorraad:aantal', 'Gemiddelde woningwaarde:x 1 000 euro', \n",
    "                    'Percentage eengezinswoning:%', 'Koopwoningen:%', 'In bezit woningcorporatie:%', \n",
    "                    'In bezit overige verhuurders:%', 'Bouwjaar vanaf 2000:%', 'Westers totaal:aantal', \n",
    "                    'Niet-westers totaal:aantal', 'Geboorte totaal:aantal', 'Eenpersoonshuishoudens:aantal', \n",
    "                    'Huishoudens zonder kinderen:aantal', 'Huishoudens met kinderen:aantal', \n",
    "                    'Gemiddelde huishoudensgrootte:aantal', 'Bevolkingsdichtheid:aantal inwoners per km²', \n",
    "                    'Aantal inwoners:aantal', 'Mannen:aantal', '0 tot 15 jaar:aantal', '15 tot 25 jaar:aantal', \n",
    "                    '25 tot 45 jaar:aantal', '45 tot 65 jaar:aantal', 'Ongehuwd:aantal', 'Gehuwd:aantal', 'Gescheiden:aantal', \n",
    "                    'A Landbouw, bosbouw en visserij:aantal', 'B-F Nijverheid en energie:aantal', \n",
    "                    'G+I Handel en horeca:aantal', 'H+J Vervoer, informatie en communicatie:aantal', \n",
    "                    'K-L Financiële diensten, onroerend goed:aantal', 'M-N Zakelijke dienstverlening:aantal', \n",
    "                    'R-U Cultuur, recreatie, overige diensten:aantal', 'Afstand tot oprit hoofdverkeersweg:km', \n",
    "                    'Afstand tot treinstations totaal:km', 'Afstand tot belangrijk overstapstation:km']"
   ]
  },
  {
   "cell_type": "markdown",
   "metadata": {},
   "source": [
    "# 1st Step : Clustering different houses\n",
    "The underlying assumption for clustering is that different housing clusters behave differently in terms of price. E.g. the presence of a garden is not expected to be important for a 50 m2 house while it is expected to be important for a 200m2 one. We start by performing PCA on the features which are not string type"
   ]
  },
  {
   "cell_type": "code",
   "execution_count": 62,
   "metadata": {},
   "outputs": [
    {
     "data": {
      "text/plain": [
       "Index(['feature.zwembad', 'feature.sauna', 'feature.glasvezelkabel',\n",
       "       'feature.stoomcabine', 'feature.stoomcabine', 'feature.jacuzzi',\n",
       "       'tuinoppervlakte', 'tuindiepte', 'tuinbreedte', 'voortuinoppervlakte',\n",
       "       'voortuindiepte', 'voortuinbreedte', 'orientation.openligging',\n",
       "       'orientation.aandrukkeweg', 'orientation.aanpark',\n",
       "       'orientation.aanbosrand', 'orientation.inbosrijkeomgeving',\n",
       "       'orientation.buitenbebouwdekom', 'orientation.landelijkgelegen',\n",
       "       'details.monument', 'details.gedeeltelijkgestoffeerd',\n",
       "       'details.gemeubileerd', 'details.dubbelebewoningmogelijk',\n",
       "       'details.beschermdstadsofdorpsgezicht', 'details.monumentaalpand',\n",
       "       'details.kluswoning', 'details.dubbelebewoningaanwezig',\n",
       "       'details.gedeeltelijkverhuurd', 'garage.parkeerkelder',\n",
       "       'garage.garagemogelijk', 'garage.garagebox', 'garage.nietaanwezig',\n",
       "       'garage.welmogelijk', 'garage.carport', 'garage.souterrain',\n",
       "       'autoplekken', 'balcony.fransbalkon', 'balcony.dakterras', 'rooms',\n",
       "       'bedrooms', 'livingspace', 'lotsurface', 'volume',\n",
       "       'Afstand tot huisartsenpraktijk:km', 'Afstand tot grote supermarkt:km',\n",
       "       'Afstand tot grote supermarkt:km', 'Afstand tot kinderdagverblijf:km',\n",
       "       'Afstand tot school:km', 'Scholen binnen 3 km:aantal',\n",
       "       'Personen per soort uitkering; Bijstand:aantal',\n",
       "       'Personen per soort uitkering; AO:aantal',\n",
       "       'Personen per soort uitkering; WW:aantal',\n",
       "       'Personen per soort uitkering; AOW:aantal',\n",
       "       'Gemiddeld inkomen per inkomensontvanger :x 1 000 euro',\n",
       "       'Gemiddeld inkomen per inwoner :x 1 000 euro',\n",
       "       '40% personen met laagste inkomen:%',\n",
       "       '20% personen met hoogste inkomen:%',\n",
       "       'Huishoudens met een laag inkomen:%',\n",
       "       'Huish. onder of rond sociaal minimum:%', 'Woningvoorraad:aantal',\n",
       "       'Gemiddelde woningwaarde:x 1 000 euro', 'Percentage eengezinswoning:%',\n",
       "       'Koopwoningen:%', 'In bezit woningcorporatie:%',\n",
       "       'In bezit overige verhuurders:%', 'Bouwjaar vanaf 2000:%',\n",
       "       'Westers totaal:aantal', 'Niet-westers totaal:aantal',\n",
       "       'Geboorte totaal:aantal', 'Eenpersoonshuishoudens:aantal',\n",
       "       'Huishoudens zonder kinderen:aantal', 'Huishoudens met kinderen:aantal',\n",
       "       'Gemiddelde huishoudensgrootte:aantal',\n",
       "       'Bevolkingsdichtheid:aantal inwoners per km²', 'Aantal inwoners:aantal',\n",
       "       'Mannen:aantal', '0 tot 15 jaar:aantal', '15 tot 25 jaar:aantal',\n",
       "       '25 tot 45 jaar:aantal', '45 tot 65 jaar:aantal', 'Ongehuwd:aantal',\n",
       "       'Gehuwd:aantal', 'Gescheiden:aantal',\n",
       "       'A Landbouw, bosbouw en visserij:aantal',\n",
       "       'B-F Nijverheid en energie:aantal', 'G+I Handel en horeca:aantal',\n",
       "       'H+J Vervoer, informatie en communicatie:aantal',\n",
       "       'K-L Financiële diensten, onroerend goed:aantal',\n",
       "       'M-N Zakelijke dienstverlening:aantal',\n",
       "       'R-U Cultuur, recreatie, overige diensten:aantal',\n",
       "       'Afstand tot oprit hoofdverkeersweg:km',\n",
       "       'Afstand tot treinstations totaal:km',\n",
       "       'Afstand tot belangrijk overstapstation:km'],\n",
       "      dtype='object')"
      ]
     },
     "execution_count": 62,
     "metadata": {},
     "output_type": "execute_result"
    }
   ],
   "source": [
    "# get columns with types which are suitable for pca aka non string columns\n",
    "list_pca = df[comparing_lookat].dtypes[df[comparing_lookat].dtypes!=object].index\n",
    "list_pca"
   ]
  },
  {
   "cell_type": "markdown",
   "metadata": {},
   "source": [
    "PCA does not work with NaN values. For this reason we separate columns wich contain NaN values from those which do not."
   ]
  },
  {
   "cell_type": "code",
   "execution_count": 64,
   "metadata": {},
   "outputs": [
    {
     "data": {
      "text/plain": [
       "Index(['feature.zwembad', 'feature.sauna', 'feature.glasvezelkabel',\n",
       "       'feature.stoomcabine', 'feature.stoomcabine', 'feature.jacuzzi',\n",
       "       'orientation.openligging', 'orientation.aandrukkeweg',\n",
       "       'orientation.aanpark', 'orientation.aanbosrand',\n",
       "       'orientation.inbosrijkeomgeving', 'orientation.buitenbebouwdekom',\n",
       "       'orientation.landelijkgelegen', 'details.monument',\n",
       "       'details.gedeeltelijkgestoffeerd', 'details.gemeubileerd',\n",
       "       'details.dubbelebewoningmogelijk',\n",
       "       'details.beschermdstadsofdorpsgezicht', 'details.monumentaalpand',\n",
       "       'details.kluswoning', 'details.dubbelebewoningaanwezig',\n",
       "       'details.gedeeltelijkverhuurd', 'garage.parkeerkelder',\n",
       "       'garage.garagemogelijk', 'garage.garagebox', 'garage.nietaanwezig',\n",
       "       'garage.welmogelijk', 'garage.carport', 'garage.souterrain',\n",
       "       'balcony.fransbalkon', 'balcony.dakterras', 'Woningvoorraad:aantal',\n",
       "       'Westers totaal:aantal', 'Niet-westers totaal:aantal',\n",
       "       'Geboorte totaal:aantal', 'Eenpersoonshuishoudens:aantal',\n",
       "       'Huishoudens zonder kinderen:aantal', 'Huishoudens met kinderen:aantal',\n",
       "       'Aantal inwoners:aantal', 'Mannen:aantal', '0 tot 15 jaar:aantal',\n",
       "       '15 tot 25 jaar:aantal', '25 tot 45 jaar:aantal',\n",
       "       '45 tot 65 jaar:aantal', 'Ongehuwd:aantal', 'Gehuwd:aantal',\n",
       "       'Gescheiden:aantal'],\n",
       "      dtype='object')"
      ]
     },
     "execution_count": 64,
     "metadata": {},
     "output_type": "execute_result"
    }
   ],
   "source": [
    "list_not_null_pca = list_pca[~df[list_pca].isnull().any()]\n",
    "list_not_null_pca"
   ]
  },
  {
   "cell_type": "code",
   "execution_count": 66,
   "metadata": {},
   "outputs": [
    {
     "name": "stdout",
     "output_type": "stream",
     "text": [
      "[0.94397279 0.03185481 0.01275712]\n",
      "[1368475.66650136  251388.17787014  159086.59617291]\n"
     ]
    }
   ],
   "source": [
    "#Performing Pca on the features which do not contain Nan values\n",
    "#In PCA feature scaling is also important * Here we do not perform feature scaling \n",
    "\n",
    "pca = PCA(n_components=3)\n",
    "pca.fit(df[list_not_null_pca])\n",
    "PCA(copy=True, iterated_power='auto', n_components=2, random_state=None,\n",
    "  svd_solver='auto', tol=0.0, whiten=False)\n",
    "\n",
    "print(pca.explained_variance_ratio_)  \n",
    "print(pca.singular_values_) "
   ]
  },
  {
   "cell_type": "code",
   "execution_count": 65,
   "metadata": {},
   "outputs": [
    {
     "data": {
      "text/plain": [
       "Index(['tuinoppervlakte', 'tuindiepte', 'tuinbreedte', 'voortuinoppervlakte',\n",
       "       'voortuindiepte', 'voortuinbreedte', 'autoplekken', 'rooms', 'bedrooms',\n",
       "       'livingspace', 'lotsurface', 'volume',\n",
       "       'Afstand tot huisartsenpraktijk:km', 'Afstand tot grote supermarkt:km',\n",
       "       'Afstand tot grote supermarkt:km', 'Afstand tot kinderdagverblijf:km',\n",
       "       'Afstand tot school:km', 'Scholen binnen 3 km:aantal',\n",
       "       'Personen per soort uitkering; Bijstand:aantal',\n",
       "       'Personen per soort uitkering; AO:aantal',\n",
       "       'Personen per soort uitkering; WW:aantal',\n",
       "       'Personen per soort uitkering; AOW:aantal',\n",
       "       'Gemiddeld inkomen per inkomensontvanger :x 1 000 euro',\n",
       "       'Gemiddeld inkomen per inwoner :x 1 000 euro',\n",
       "       '40% personen met laagste inkomen:%',\n",
       "       '20% personen met hoogste inkomen:%',\n",
       "       'Huishoudens met een laag inkomen:%',\n",
       "       'Huish. onder of rond sociaal minimum:%',\n",
       "       'Gemiddelde woningwaarde:x 1 000 euro', 'Percentage eengezinswoning:%',\n",
       "       'Koopwoningen:%', 'In bezit woningcorporatie:%',\n",
       "       'In bezit overige verhuurders:%', 'Bouwjaar vanaf 2000:%',\n",
       "       'Gemiddelde huishoudensgrootte:aantal',\n",
       "       'Bevolkingsdichtheid:aantal inwoners per km²',\n",
       "       'A Landbouw, bosbouw en visserij:aantal',\n",
       "       'B-F Nijverheid en energie:aantal', 'G+I Handel en horeca:aantal',\n",
       "       'H+J Vervoer, informatie en communicatie:aantal',\n",
       "       'K-L Financiële diensten, onroerend goed:aantal',\n",
       "       'M-N Zakelijke dienstverlening:aantal',\n",
       "       'R-U Cultuur, recreatie, overige diensten:aantal',\n",
       "       'Afstand tot oprit hoofdverkeersweg:km',\n",
       "       'Afstand tot treinstations totaal:km',\n",
       "       'Afstand tot belangrijk overstapstation:km'],\n",
       "      dtype='object')"
      ]
     },
     "execution_count": 65,
     "metadata": {},
     "output_type": "execute_result"
    }
   ],
   "source": [
    "list_null_pca = list_pca[df[list_pca].isnull().any()]\n",
    "list_null_pca"
   ]
  },
  {
   "cell_type": "markdown",
   "metadata": {},
   "source": [
    "In this step, since pca does not work with Nan Values we want to add a value in each column which symbolizes Nan. This value is selected based on variable type - whether the column is int float or binary - and what the column represents. Here we find only float columns contain NaN values. As a first approach we are going to map the values -1 to all NaN values."
   ]
  },
  {
   "cell_type": "code",
   "execution_count": 67,
   "metadata": {
    "scrolled": true
   },
   "outputs": [
    {
     "data": {
      "text/plain": [
       "tuinoppervlakte                                          float64\n",
       "tuindiepte                                               float64\n",
       "tuinbreedte                                              float64\n",
       "voortuinoppervlakte                                      float64\n",
       "voortuindiepte                                           float64\n",
       "voortuinbreedte                                          float64\n",
       "autoplekken                                              float64\n",
       "rooms                                                    float64\n",
       "bedrooms                                                 float64\n",
       "livingspace                                              float64\n",
       "lotsurface                                               float64\n",
       "volume                                                   float64\n",
       "Afstand tot huisartsenpraktijk:km                        float64\n",
       "Afstand tot grote supermarkt:km                          float64\n",
       "Afstand tot grote supermarkt:km                          float64\n",
       "Afstand tot kinderdagverblijf:km                         float64\n",
       "Afstand tot school:km                                    float64\n",
       "Scholen binnen 3 km:aantal                               float64\n",
       "Personen per soort uitkering; Bijstand:aantal            float64\n",
       "Personen per soort uitkering; AO:aantal                  float64\n",
       "Personen per soort uitkering; WW:aantal                  float64\n",
       "Personen per soort uitkering; AOW:aantal                 float64\n",
       "Gemiddeld inkomen per inkomensontvanger :x 1 000 euro    float64\n",
       "Gemiddeld inkomen per inwoner :x 1 000 euro              float64\n",
       "40% personen met laagste inkomen:%                       float64\n",
       "20% personen met hoogste inkomen:%                       float64\n",
       "Huishoudens met een laag inkomen:%                       float64\n",
       "Huish. onder of rond sociaal minimum:%                   float64\n",
       "Gemiddelde woningwaarde:x 1 000 euro                     float64\n",
       "Percentage eengezinswoning:%                             float64\n",
       "Koopwoningen:%                                           float64\n",
       "In bezit woningcorporatie:%                              float64\n",
       "In bezit overige verhuurders:%                           float64\n",
       "Bouwjaar vanaf 2000:%                                    float64\n",
       "Gemiddelde huishoudensgrootte:aantal                     float64\n",
       "Bevolkingsdichtheid:aantal inwoners per km²              float64\n",
       "A Landbouw, bosbouw en visserij:aantal                   float64\n",
       "B-F Nijverheid en energie:aantal                         float64\n",
       "G+I Handel en horeca:aantal                              float64\n",
       "H+J Vervoer, informatie en communicatie:aantal           float64\n",
       "K-L Financiële diensten, onroerend goed:aantal           float64\n",
       "M-N Zakelijke dienstverlening:aantal                     float64\n",
       "R-U Cultuur, recreatie, overige diensten:aantal          float64\n",
       "Afstand tot oprit hoofdverkeersweg:km                    float64\n",
       "Afstand tot treinstations totaal:km                      float64\n",
       "Afstand tot belangrijk overstapstation:km                float64\n",
       "dtype: object"
      ]
     },
     "execution_count": 67,
     "metadata": {},
     "output_type": "execute_result"
    }
   ],
   "source": [
    "df[list_null_pca].dtypes"
   ]
  },
  {
   "cell_type": "code",
   "execution_count": 72,
   "metadata": {},
   "outputs": [
    {
     "data": {
      "text/plain": [
       "False"
      ]
     },
     "execution_count": 72,
     "metadata": {},
     "output_type": "execute_result"
    }
   ],
   "source": [
    "df_pca = df[list_pca].copy()\n",
    "df_pca.fillna(-1,inplace=True)\n",
    "df_pca.isnull().any().any()"
   ]
  },
  {
   "cell_type": "markdown",
   "metadata": {},
   "source": [
    "## Perform feature preprocessing and PCA"
   ]
  },
  {
   "cell_type": "code",
   "execution_count": 75,
   "metadata": {},
   "outputs": [
    {
     "name": "stderr",
     "output_type": "stream",
     "text": [
      "C:\\ProgramData\\Anaconda3\\lib\\site-packages\\sklearn\\preprocessing\\data.py:617: DataConversionWarning: Data with input dtype bool, int64, float64 were all converted to float64 by StandardScaler.\n",
      "  return self.partial_fit(X, y)\n",
      "C:\\ProgramData\\Anaconda3\\lib\\site-packages\\ipykernel\\__main__.py:3: DataConversionWarning: Data with input dtype bool, int64, float64 were all converted to float64 by StandardScaler.\n",
      "  app.launch_new_instance()\n"
     ]
    }
   ],
   "source": [
    "#using standard scaler on the data \n",
    "scaler = StandardScaler()\n",
    "scaler.fit(df_pca)\n",
    "df_scaled = scaler.transform(df_pca)"
   ]
  },
  {
   "cell_type": "code",
   "execution_count": 99,
   "metadata": {},
   "outputs": [
    {
     "name": "stdout",
     "output_type": "stream",
     "text": [
      "[0.23756436 0.07583336 0.04865652 0.03428816 0.03097758]\n"
     ]
    }
   ],
   "source": [
    "#Performing pca on the scaled data \n",
    "pca = PCA(n_components=5)\n",
    "pca.fit(df_scaled)\n",
    "PCA(copy=True, iterated_power='auto', n_components=2, random_state=None,\n",
    "  svd_solver='auto', tol=0.0, whiten=False)\n",
    "\n",
    "print(pca.explained_variance_ratio_)  \n",
    "#print(pca.singular_values_) "
   ]
  },
  {
   "cell_type": "code",
   "execution_count": 100,
   "metadata": {},
   "outputs": [
    {
     "data": {
      "text/plain": [
       "0.4273199700609366"
      ]
     },
     "execution_count": 100,
     "metadata": {},
     "output_type": "execute_result"
    }
   ],
   "source": [
    "pca.explained_variance_ratio_.sum()"
   ]
  },
  {
   "cell_type": "code",
   "execution_count": 101,
   "metadata": {},
   "outputs": [
    {
     "name": "stdout",
     "output_type": "stream",
     "text": [
      "[0.47783548 0.3163971  0.18062552 0.01112315 0.00594465]\n"
     ]
    }
   ],
   "source": [
    "#Performing Pca on the unscaled data \n",
    "pca = PCA(n_components=5)\n",
    "pca.fit(df_pca)\n",
    "PCA(copy=True, iterated_power='auto', n_components=2, random_state=None,\n",
    "  svd_solver='auto', tol=0.0, whiten=False)\n",
    "\n",
    "print(pca.explained_variance_ratio_)  \n",
    "#print(pca.singular_values_) "
   ]
  },
  {
   "cell_type": "code",
   "execution_count": 102,
   "metadata": {},
   "outputs": [
    {
     "data": {
      "text/plain": [
       "0.9919259011152686"
      ]
     },
     "execution_count": 102,
     "metadata": {},
     "output_type": "execute_result"
    }
   ],
   "source": [
    "pca.explained_variance_ratio_.sum()"
   ]
  },
  {
   "cell_type": "markdown",
   "metadata": {},
   "source": [
    "We observe that performing pca on the unscaled data yields much better results than performing pca on the scaled ones. This may be because of the scaler we used, or because we transformed different data types."
   ]
  },
  {
   "cell_type": "markdown",
   "metadata": {},
   "source": [
    "# To - DO\n"
   ]
  },
  {
   "cell_type": "code",
   "execution_count": 82,
   "metadata": {},
   "outputs": [],
   "source": [
    "# weights --> dictionary of feature name to importance\n",
    "# data --> pandas datafram of houses with all relevant features\n",
    "# rcf --> list of all relevant features \n",
    "# puf --> list of all potentially upgradable features -should be a subset of relevant features \n",
    "# thres --> maximum distance a house can have from the target house if it is to be put in a reference set \n",
    "# target_house\n",
    "\n",
    "def weightedL2(a,b,w):\n",
    "#     print(type(a),b)\n",
    "    q = a-b\n",
    "#     print(w)\n",
    "    return np.sqrt((w*q*q).sum())\n",
    "\n",
    "# rcf --> relevent comparable features rcfv--> relevant comparable feature values puf --> potential upgradable features\n",
    "def get_reference_indices(weights, data, thres, target_values):\n",
    "    reference_indices = []\n",
    "    for i, house in enumerate(data):\n",
    "        #print(data)\n",
    "        if weightedL2(target_values, house,weights) <  thres:\n",
    "            reference_indices.append(i)\n",
    "    return reference_indices\n",
    "\n",
    "def get_reference_sets(weights, rcf, puf, data, thres, target_house):\n",
    "    df = data[rcf] # We only look only at the columns that were determined to be relevant for comparison\n",
    "    data_array = df.values\n",
    "    target_values = target_house[rcf].values\n",
    "    reference_sets = {}\n",
    "    for feature in puf:\n",
    "#       set corresponding weight to 0\n",
    "        modified_weights = weights.copy()\n",
    "        modified_weights[feature] = 0\n",
    "        modified_weights_arr = np.array(list(modified_weights.values()))\n",
    "        reference_index = get_reference_indices(modified_weights_arr, data_array, thres, target_values)\n",
    "        reference_sets[feature] = df.iloc[reference_index]\n",
    "    return reference_sets\n"
   ]
  },
  {
   "cell_type": "code",
   "execution_count": 90,
   "metadata": {},
   "outputs": [],
   "source": [
    "a = get_reference_sets({'rooms':1,'bedrooms': 0.5,'livingspace': 2}, ['rooms', 'bedrooms','livingspace'],['rooms', 'bedrooms'],df , 1, df.iloc[0])"
   ]
  },
  {
   "cell_type": "code",
   "execution_count": 91,
   "metadata": {},
   "outputs": [
    {
     "data": {
      "text/html": [
       "<div>\n",
       "<style scoped>\n",
       "    .dataframe tbody tr th:only-of-type {\n",
       "        vertical-align: middle;\n",
       "    }\n",
       "\n",
       "    .dataframe tbody tr th {\n",
       "        vertical-align: top;\n",
       "    }\n",
       "\n",
       "    .dataframe thead th {\n",
       "        text-align: right;\n",
       "    }\n",
       "</style>\n",
       "<table border=\"1\" class=\"dataframe\">\n",
       "  <thead>\n",
       "    <tr style=\"text-align: right;\">\n",
       "      <th></th>\n",
       "      <th>rooms</th>\n",
       "      <th>bedrooms</th>\n",
       "      <th>livingspace</th>\n",
       "    </tr>\n",
       "  </thead>\n",
       "  <tbody>\n",
       "    <tr>\n",
       "      <th>0</th>\n",
       "      <td>12.0</td>\n",
       "      <td>6.0</td>\n",
       "      <td>330.0</td>\n",
       "    </tr>\n",
       "    <tr>\n",
       "      <th>8399</th>\n",
       "      <td>11.0</td>\n",
       "      <td>7.0</td>\n",
       "      <td>330.0</td>\n",
       "    </tr>\n",
       "    <tr>\n",
       "      <th>10919</th>\n",
       "      <td>8.0</td>\n",
       "      <td>5.0</td>\n",
       "      <td>330.0</td>\n",
       "    </tr>\n",
       "    <tr>\n",
       "      <th>28011</th>\n",
       "      <td>9.0</td>\n",
       "      <td>5.0</td>\n",
       "      <td>330.0</td>\n",
       "    </tr>\n",
       "    <tr>\n",
       "      <th>35385</th>\n",
       "      <td>7.0</td>\n",
       "      <td>5.0</td>\n",
       "      <td>330.0</td>\n",
       "    </tr>\n",
       "    <tr>\n",
       "      <th>56349</th>\n",
       "      <td>7.0</td>\n",
       "      <td>5.0</td>\n",
       "      <td>330.0</td>\n",
       "    </tr>\n",
       "    <tr>\n",
       "      <th>57777</th>\n",
       "      <td>12.0</td>\n",
       "      <td>6.0</td>\n",
       "      <td>330.0</td>\n",
       "    </tr>\n",
       "    <tr>\n",
       "      <th>60955</th>\n",
       "      <td>10.0</td>\n",
       "      <td>5.0</td>\n",
       "      <td>330.0</td>\n",
       "    </tr>\n",
       "    <tr>\n",
       "      <th>64739</th>\n",
       "      <td>8.0</td>\n",
       "      <td>5.0</td>\n",
       "      <td>330.0</td>\n",
       "    </tr>\n",
       "    <tr>\n",
       "      <th>66604</th>\n",
       "      <td>10.0</td>\n",
       "      <td>5.0</td>\n",
       "      <td>330.0</td>\n",
       "    </tr>\n",
       "    <tr>\n",
       "      <th>69643</th>\n",
       "      <td>8.0</td>\n",
       "      <td>7.0</td>\n",
       "      <td>330.0</td>\n",
       "    </tr>\n",
       "    <tr>\n",
       "      <th>69832</th>\n",
       "      <td>10.0</td>\n",
       "      <td>6.0</td>\n",
       "      <td>330.0</td>\n",
       "    </tr>\n",
       "  </tbody>\n",
       "</table>\n",
       "</div>"
      ],
      "text/plain": [
       "       rooms  bedrooms  livingspace\n",
       "0       12.0       6.0        330.0\n",
       "8399    11.0       7.0        330.0\n",
       "10919    8.0       5.0        330.0\n",
       "28011    9.0       5.0        330.0\n",
       "35385    7.0       5.0        330.0\n",
       "56349    7.0       5.0        330.0\n",
       "57777   12.0       6.0        330.0\n",
       "60955   10.0       5.0        330.0\n",
       "64739    8.0       5.0        330.0\n",
       "66604   10.0       5.0        330.0\n",
       "69643    8.0       7.0        330.0\n",
       "69832   10.0       6.0        330.0"
      ]
     },
     "execution_count": 91,
     "metadata": {},
     "output_type": "execute_result"
    }
   ],
   "source": [
    "a['rooms']"
   ]
  },
  {
   "cell_type": "code",
   "execution_count": 43,
   "metadata": {},
   "outputs": [
    {
     "data": {
      "text/html": [
       "<div>\n",
       "<style scoped>\n",
       "    .dataframe tbody tr th:only-of-type {\n",
       "        vertical-align: middle;\n",
       "    }\n",
       "\n",
       "    .dataframe tbody tr th {\n",
       "        vertical-align: top;\n",
       "    }\n",
       "\n",
       "    .dataframe thead th {\n",
       "        text-align: right;\n",
       "    }\n",
       "</style>\n",
       "<table border=\"1\" class=\"dataframe\">\n",
       "  <thead>\n",
       "    <tr style=\"text-align: right;\">\n",
       "      <th></th>\n",
       "      <th>Unnamed: 0</th>\n",
       "      <th>buurt_code</th>\n",
       "      <th>V1.x</th>\n",
       "      <th>startprice</th>\n",
       "      <th>endprice</th>\n",
       "      <th>url</th>\n",
       "      <th>realtor</th>\n",
       "      <th>buurt_naam</th>\n",
       "      <th>wijk_code</th>\n",
       "      <th>bathroom.ligbad</th>\n",
       "      <th>...</th>\n",
       "      <th>H+J Vervoer, informatie en communicatie:aantal</th>\n",
       "      <th>K-L Financiële diensten, onroerend goed:aantal</th>\n",
       "      <th>M-N Zakelijke dienstverlening:aantal</th>\n",
       "      <th>R-U Cultuur, recreatie, overige diensten:aantal</th>\n",
       "      <th>Oppervlakte totaal:ha</th>\n",
       "      <th>Oppervlakte land:ha</th>\n",
       "      <th>Oppervlakte water:ha</th>\n",
       "      <th>Afstand tot oprit hoofdverkeersweg:km</th>\n",
       "      <th>Afstand tot treinstations totaal:km</th>\n",
       "      <th>Afstand tot belangrijk overstapstation:km</th>\n",
       "    </tr>\n",
       "  </thead>\n",
       "  <tbody>\n",
       "    <tr>\n",
       "      <th>1</th>\n",
       "      <td>2</td>\n",
       "      <td>BU00030000</td>\n",
       "      <td>84827</td>\n",
       "      <td>149500.0</td>\n",
       "      <td>149500.0</td>\n",
       "      <td>/koop/verkocht/appingedam/huis-48151474-solwer...</td>\n",
       "      <td>/makelaars/appingedam/9130-meijer-en-drenth-ma...</td>\n",
       "      <td>Appingedam-Centrum</td>\n",
       "      <td>WK000300</td>\n",
       "      <td>0</td>\n",
       "      <td>...</td>\n",
       "      <td>5.0</td>\n",
       "      <td>10.0</td>\n",
       "      <td>30.0</td>\n",
       "      <td>25.0</td>\n",
       "      <td>90</td>\n",
       "      <td>84</td>\n",
       "      <td>5</td>\n",
       "      <td>0.5</td>\n",
       "      <td>0.6</td>\n",
       "      <td>25.2</td>\n",
       "    </tr>\n",
       "    <tr>\n",
       "      <th>2</th>\n",
       "      <td>3</td>\n",
       "      <td>BU00030000</td>\n",
       "      <td>84829</td>\n",
       "      <td>234500.0</td>\n",
       "      <td>194500.0</td>\n",
       "      <td>/koop/verkocht/appingedam/huis-48141933-oranje...</td>\n",
       "      <td>/makelaars/appingedam/9130-meijer-en-drenth-ma...</td>\n",
       "      <td>Appingedam-Centrum</td>\n",
       "      <td>WK000300</td>\n",
       "      <td>1</td>\n",
       "      <td>...</td>\n",
       "      <td>5.0</td>\n",
       "      <td>10.0</td>\n",
       "      <td>30.0</td>\n",
       "      <td>25.0</td>\n",
       "      <td>90</td>\n",
       "      <td>84</td>\n",
       "      <td>5</td>\n",
       "      <td>0.5</td>\n",
       "      <td>0.6</td>\n",
       "      <td>25.2</td>\n",
       "    </tr>\n",
       "    <tr>\n",
       "      <th>100</th>\n",
       "      <td>101</td>\n",
       "      <td>BU00070001</td>\n",
       "      <td>83386</td>\n",
       "      <td>189500.0</td>\n",
       "      <td>189500.0</td>\n",
       "      <td>/koop/verkocht/vriescheloo/huis-49766296-dorps...</td>\n",
       "      <td>/makelaars/veendam/9205-alders-makelaars/</td>\n",
       "      <td>Vriescheloo</td>\n",
       "      <td>WK000700</td>\n",
       "      <td>0</td>\n",
       "      <td>...</td>\n",
       "      <td>0.0</td>\n",
       "      <td>5.0</td>\n",
       "      <td>5.0</td>\n",
       "      <td>0.0</td>\n",
       "      <td>134</td>\n",
       "      <td>133</td>\n",
       "      <td>1</td>\n",
       "      <td>2.5</td>\n",
       "      <td>10.9</td>\n",
       "      <td>41.7</td>\n",
       "    </tr>\n",
       "    <tr>\n",
       "      <th>4</th>\n",
       "      <td>5</td>\n",
       "      <td>BU00030000</td>\n",
       "      <td>84831</td>\n",
       "      <td>225000.0</td>\n",
       "      <td>225000.0</td>\n",
       "      <td>/koop/verkocht/appingedam/huis-49181529-wilhel...</td>\n",
       "      <td>/makelaars/appingedam/9130-meijer-en-drenth-ma...</td>\n",
       "      <td>Appingedam-Centrum</td>\n",
       "      <td>WK000300</td>\n",
       "      <td>0</td>\n",
       "      <td>...</td>\n",
       "      <td>5.0</td>\n",
       "      <td>10.0</td>\n",
       "      <td>30.0</td>\n",
       "      <td>25.0</td>\n",
       "      <td>90</td>\n",
       "      <td>84</td>\n",
       "      <td>5</td>\n",
       "      <td>0.5</td>\n",
       "      <td>0.6</td>\n",
       "      <td>25.2</td>\n",
       "    </tr>\n",
       "    <tr>\n",
       "      <th>5</th>\n",
       "      <td>6</td>\n",
       "      <td>BU00030000</td>\n",
       "      <td>84832</td>\n",
       "      <td>112500.0</td>\n",
       "      <td>112500.0</td>\n",
       "      <td>/koop/verkocht/appingedam/huis-40494307-statio...</td>\n",
       "      <td>/makelaars/appingedam/9130-meijer-en-drenth-ma...</td>\n",
       "      <td>Appingedam-Centrum</td>\n",
       "      <td>WK000300</td>\n",
       "      <td>0</td>\n",
       "      <td>...</td>\n",
       "      <td>5.0</td>\n",
       "      <td>10.0</td>\n",
       "      <td>30.0</td>\n",
       "      <td>25.0</td>\n",
       "      <td>90</td>\n",
       "      <td>84</td>\n",
       "      <td>5</td>\n",
       "      <td>0.5</td>\n",
       "      <td>0.6</td>\n",
       "      <td>25.2</td>\n",
       "    </tr>\n",
       "  </tbody>\n",
       "</table>\n",
       "<p>5 rows × 212 columns</p>\n",
       "</div>"
      ],
      "text/plain": [
       "     Unnamed: 0  buurt_code   V1.x  startprice  endprice  \\\n",
       "1             2  BU00030000  84827    149500.0  149500.0   \n",
       "2             3  BU00030000  84829    234500.0  194500.0   \n",
       "100         101  BU00070001  83386    189500.0  189500.0   \n",
       "4             5  BU00030000  84831    225000.0  225000.0   \n",
       "5             6  BU00030000  84832    112500.0  112500.0   \n",
       "\n",
       "                                                   url  \\\n",
       "1    /koop/verkocht/appingedam/huis-48151474-solwer...   \n",
       "2    /koop/verkocht/appingedam/huis-48141933-oranje...   \n",
       "100  /koop/verkocht/vriescheloo/huis-49766296-dorps...   \n",
       "4    /koop/verkocht/appingedam/huis-49181529-wilhel...   \n",
       "5    /koop/verkocht/appingedam/huis-40494307-statio...   \n",
       "\n",
       "                                               realtor          buurt_naam  \\\n",
       "1    /makelaars/appingedam/9130-meijer-en-drenth-ma...  Appingedam-Centrum   \n",
       "2    /makelaars/appingedam/9130-meijer-en-drenth-ma...  Appingedam-Centrum   \n",
       "100          /makelaars/veendam/9205-alders-makelaars/         Vriescheloo   \n",
       "4    /makelaars/appingedam/9130-meijer-en-drenth-ma...  Appingedam-Centrum   \n",
       "5    /makelaars/appingedam/9130-meijer-en-drenth-ma...  Appingedam-Centrum   \n",
       "\n",
       "    wijk_code  bathroom.ligbad                    ...                      \\\n",
       "1    WK000300                0                    ...                       \n",
       "2    WK000300                1                    ...                       \n",
       "100  WK000700                0                    ...                       \n",
       "4    WK000300                0                    ...                       \n",
       "5    WK000300                0                    ...                       \n",
       "\n",
       "     H+J Vervoer, informatie en communicatie:aantal  \\\n",
       "1                                               5.0   \n",
       "2                                               5.0   \n",
       "100                                             0.0   \n",
       "4                                               5.0   \n",
       "5                                               5.0   \n",
       "\n",
       "     K-L Financiële diensten, onroerend goed:aantal  \\\n",
       "1                                              10.0   \n",
       "2                                              10.0   \n",
       "100                                             5.0   \n",
       "4                                              10.0   \n",
       "5                                              10.0   \n",
       "\n",
       "     M-N Zakelijke dienstverlening:aantal  \\\n",
       "1                                    30.0   \n",
       "2                                    30.0   \n",
       "100                                   5.0   \n",
       "4                                    30.0   \n",
       "5                                    30.0   \n",
       "\n",
       "     R-U Cultuur, recreatie, overige diensten:aantal  Oppervlakte totaal:ha  \\\n",
       "1                                               25.0                     90   \n",
       "2                                               25.0                     90   \n",
       "100                                              0.0                    134   \n",
       "4                                               25.0                     90   \n",
       "5                                               25.0                     90   \n",
       "\n",
       "     Oppervlakte land:ha  Oppervlakte water:ha  \\\n",
       "1                     84                     5   \n",
       "2                     84                     5   \n",
       "100                  133                     1   \n",
       "4                     84                     5   \n",
       "5                     84                     5   \n",
       "\n",
       "     Afstand tot oprit hoofdverkeersweg:km  \\\n",
       "1                                      0.5   \n",
       "2                                      0.5   \n",
       "100                                    2.5   \n",
       "4                                      0.5   \n",
       "5                                      0.5   \n",
       "\n",
       "     Afstand tot treinstations totaal:km  \\\n",
       "1                                    0.6   \n",
       "2                                    0.6   \n",
       "100                                 10.9   \n",
       "4                                    0.6   \n",
       "5                                    0.6   \n",
       "\n",
       "     Afstand tot belangrijk overstapstation:km  \n",
       "1                                         25.2  \n",
       "2                                         25.2  \n",
       "100                                       41.7  \n",
       "4                                         25.2  \n",
       "5                                         25.2  \n",
       "\n",
       "[5 rows x 212 columns]"
      ]
     },
     "execution_count": 43,
     "metadata": {},
     "output_type": "execute_result"
    }
   ],
   "source": [
    "df.iloc[[1,2,100,4,5]]"
   ]
  },
  {
   "cell_type": "code",
   "execution_count": null,
   "metadata": {},
   "outputs": [],
   "source": []
  }
 ],
 "metadata": {
  "hide_input": false,
  "kernelspec": {
   "display_name": "Python [default]",
   "language": "python",
   "name": "python3"
  },
  "language_info": {
   "codemirror_mode": {
    "name": "ipython",
    "version": 3
   },
   "file_extension": ".py",
   "mimetype": "text/x-python",
   "name": "python",
   "nbconvert_exporter": "python",
   "pygments_lexer": "ipython3",
   "version": "3.6.5"
  },
  "latex_envs": {
   "LaTeX_envs_menu_present": true,
   "autoclose": false,
   "autocomplete": true,
   "bibliofile": "biblio.bib",
   "cite_by": "apalike",
   "current_citInitial": 1,
   "eqLabelWithNumbers": true,
   "eqNumInitial": 1,
   "hotkeys": {
    "equation": "Ctrl-E",
    "itemize": "Ctrl-I"
   },
   "labels_anchors": false,
   "latex_user_defs": false,
   "report_style_numbering": false,
   "user_envs_cfg": false
  },
  "toc": {
   "nav_menu": {},
   "number_sections": false,
   "sideBar": true,
   "skip_h1_title": false,
   "toc_cell": false,
   "toc_position": {},
   "toc_section_display": "block",
   "toc_window_display": false
  },
  "varInspector": {
   "cols": {
    "lenName": 16,
    "lenType": 16,
    "lenVar": 40
   },
   "kernels_config": {
    "python": {
     "delete_cmd_postfix": "",
     "delete_cmd_prefix": "del ",
     "library": "var_list.py",
     "varRefreshCmd": "print(var_dic_list())"
    },
    "r": {
     "delete_cmd_postfix": ") ",
     "delete_cmd_prefix": "rm(",
     "library": "var_list.r",
     "varRefreshCmd": "cat(var_dic_list()) "
    }
   },
   "types_to_exclude": [
    "module",
    "function",
    "builtin_function_or_method",
    "instance",
    "_Feature"
   ],
   "window_display": false
  },
  "widgets": {
   "application/vnd.jupyter.widget-state+json": {
    "state": {},
    "version_major": 2,
    "version_minor": 0
   }
  }
 },
 "nbformat": 4,
 "nbformat_minor": 2
}
