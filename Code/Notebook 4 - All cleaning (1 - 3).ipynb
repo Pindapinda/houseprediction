{
 "cells": [
  {
   "cell_type": "markdown",
   "metadata": {},
   "source": [
    "**All steps related to data cleaning for assignment 2**"
   ]
  },
  {
   "cell_type": "code",
   "execution_count": 1,
   "metadata": {
    "ExecuteTime": {
     "end_time": "2018-12-02T15:16:08.174737Z",
     "start_time": "2018-12-02T15:16:07.386581Z"
    }
   },
   "outputs": [],
   "source": [
    "import pandas as pd\n",
    "import numpy as np\n",
    "import re\n",
    "import math\n",
    "import pickle\n",
    "import matplotlib.pyplot as plt\n",
    "\n",
    "from sklearn import metrics\n",
    "from preprocessing import *\n",
    "from sklearn.ensemble import RandomForestRegressor as RFR"
   ]
  },
  {
   "cell_type": "markdown",
   "metadata": {},
   "source": [
    "**Import & Sort by sale date**"
   ]
  },
  {
   "cell_type": "code",
   "execution_count": 2,
   "metadata": {
    "ExecuteTime": {
     "end_time": "2018-12-02T15:16:11.111737Z",
     "start_time": "2018-12-02T15:16:08.978454Z"
    }
   },
   "outputs": [],
   "source": [
    "houses = pd.read_csv('../../Data/houses-preprocessed-buurten.csv', encoding='latin-1', parse_dates=['startdate','enddate'])\n",
    "houses.sort_values(['enddate'], ascending=[True], inplace=True)"
   ]
  },
  {
   "cell_type": "markdown",
   "metadata": {},
   "source": [
    "**Drop unneeded or unwanted columns**"
   ]
  },
  {
   "cell_type": "code",
   "execution_count": 7,
   "metadata": {
    "ExecuteTime": {
     "end_time": "2018-11-21T12:39:05.141575Z",
     "start_time": "2018-11-21T12:39:04.938663Z"
    }
   },
   "outputs": [],
   "source": [
    "houses = houses.drop(['Unnamed: 0'], axis=1)\n",
    "# Next we drop the duration column to prevent data leakage (we won't know these things beforehand)\n",
    "# Later, we'll also drop enddate but for now we want to keep for sorting\n",
    "houses = houses.drop(['duration'], axis=1)\n",
    "houses = houses.drop(houses[houses.endprice.isnull()].index) # drop rows where the target column is null\n",
    "# Finally, we also drop the startprice column, but first, we store the index of all rows where the end price\n",
    "# was not equal to the start price\n",
    "price_change_index = houses[houses.startprice != houses.endprice].index\n",
    "houses = houses.drop(['startprice'], axis=1)"
   ]
  },
  {
   "cell_type": "markdown",
   "metadata": {},
   "source": [
    "**Inspect the dataset for numericals that should be categorized**"
   ]
  },
  {
   "cell_type": "code",
   "execution_count": 8,
   "metadata": {
    "ExecuteTime": {
     "end_time": "2018-11-21T12:39:09.347894Z",
     "start_time": "2018-11-21T12:39:09.339468Z"
    }
   },
   "outputs": [
    {
     "data": {
      "text/plain": [
       "buurt_code                                                       object\n",
       "V1.x                                                              int64\n",
       "endprice                                                        float64\n",
       "url                                                              object\n",
       "realtor                                                          object\n",
       "buurt_naam                                                       object\n",
       "wijk_code                                                        object\n",
       "bathroom.ligbad                                                   int64\n",
       "bathroom.douche                                                   int64\n",
       "bathroom.toilet                                                   int64\n",
       "bathroom.jacuzzi                                                  int64\n",
       "bathroom.sauna                                                    int64\n",
       "bathroom.zitbad                                                   int64\n",
       "bathroom.stoomcabine                                              int64\n",
       "feature.mechanischeventilatie                                      bool\n",
       "feature.tvkabel                                                    bool\n",
       "feature.rookkanaal                                                 bool\n",
       "feature.lift                                                       bool\n",
       "feature.dakraam                                                    bool\n",
       "feature.elektra                                                    bool\n",
       "feature.vliering                                                   bool\n",
       "feature.zonnecollectoren                                           bool\n",
       "feature.elektrischedeur                                            bool\n",
       "feature.buitenzonwering                                            bool\n",
       "feature.schuifpui                                                  bool\n",
       "feature.stromendwater                                              bool\n",
       "feature.airconditioning                                            bool\n",
       "feature.verwarming                                                 bool\n",
       "feature.alarminstallatie                                           bool\n",
       "feature.zwembad                                                    bool\n",
       "feature.sauna                                                      bool\n",
       "feature.glasvezelkabel                                             bool\n",
       "feature.stoomcabine                                                bool\n",
       "feature.rolluiken                                                  bool\n",
       "feature.jacuzzi                                                    bool\n",
       "feature.satellietschotel                                           bool\n",
       "feature.windmolen                                                  bool\n",
       "housetype                                                        object\n",
       "housesubtype                                                     object\n",
       "housesubsubtype                                                  object\n",
       "tuinoppervlakte                                                 float64\n",
       "tuindiepte                                                      float64\n",
       "tuinbreedte                                                     float64\n",
       "voortuinoppervlakte                                             float64\n",
       "voortuindiepte                                                  float64\n",
       "voortuinbreedte                                                 float64\n",
       "voorlopigenergielabel                                            object\n",
       "energielabel                                                     object\n",
       "orientation.aanvaarwater                                           bool\n",
       "orientation.aanwater                                               bool\n",
       "orientation.incentrum                                              bool\n",
       "orientation.vrijuitzicht                                           bool\n",
       "orientation.inwoonwijk                                             bool\n",
       "orientation.beschutteligging                                       bool\n",
       "orientation.aanrustigeweg                                          bool\n",
       "orientation.openligging                                            bool\n",
       "orientation.aandrukkeweg                                           bool\n",
       "orientation.aanpark                                                bool\n",
       "orientation.aanbosrand                                             bool\n",
       "orientation.inbosrijkeomgeving                                     bool\n",
       "orientation.buitenbebouwdekom                                      bool\n",
       "orientation.landelijkgelegen                                       bool\n",
       "gardenorientation                                                object\n",
       "gardenaccessiblefromtherear                                        bool\n",
       "details.monument                                                   bool\n",
       "details.gedeeltelijkgestoffeerd                                    bool\n",
       "details.gemeubileerd                                               bool\n",
       "details.dubbelebewoningmogelijk                                    bool\n",
       "details.beschermdstadsofdorpsgezicht                               bool\n",
       "details.monumentaalpand                                            bool\n",
       "details.gestoffeerd                                                bool\n",
       "details.kluswoning                                                 bool\n",
       "details.dubbelebewoningaanwezig                                    bool\n",
       "details.gedeeltelijkverhuurd                                       bool\n",
       "parking.betaaldparkeren                                            bool\n",
       "parking.parkeervergunningen                                        bool\n",
       "parking.parkeergarage                                              bool\n",
       "parking.openbaarparkeren                                           bool\n",
       "garage.parkeerkelder                                               bool\n",
       "garage.parkeerplaats                                               bool\n",
       "garage.inpandig                                                    bool\n",
       "garage.garagemogelijk                                              bool\n",
       "garage.garagebox                                                   bool\n",
       "garage.nietaanwezig                                                bool\n",
       "garage.welmogelijk                                                 bool\n",
       "garage.carport                                                     bool\n",
       "garage.souterrain                                                  bool\n",
       "garage.aangebouwdestenengarage                                     bool\n",
       "garage.vrijstaandestenengarage                                     bool\n",
       "garage.vrijstaandehoutengarage                                     bool\n",
       "garage.garagemetcarport                                            bool\n",
       "garage.aangebouwdehouten                                           bool\n",
       "rooftype                                                         object\n",
       "roofmaterial                                                     object\n",
       "soortbouw                                                        object\n",
       "storage                                                          object\n",
       "insulation.vollediggesoleerd                                       bool\n",
       "insulation.dakisolatie                                             bool\n",
       "insulation.muurisolatie                                            bool\n",
       "insulation.vloerisolatie                                           bool\n",
       "insulation.dubbelglas                                              bool\n",
       "insulation.gedeeltelijkdubbelglas                                  bool\n",
       "insulation.voorzetramen                                            bool\n",
       "insulation.geenspouw                                               bool\n",
       "insulation.ecobouw                                                 bool\n",
       "insulation.geenisolatie                                            bool\n",
       "certificate.kiwaveiligwonenkeurmerk                                bool\n",
       "certificate.energieprestatieadvies                                 bool\n",
       "certificate.politiekeurmerk                                        bool\n",
       "certificate.giwwaarborgcertificaat                                 bool\n",
       "certificate.woningborggarantiecertificaat                          bool\n",
       "certificate.swkgarantiecertificaat                                 bool\n",
       "certificate.algemenewoningkeur                                     bool\n",
       "certificate.brandveiligheid                                        bool\n",
       "certificate.                                                       bool\n",
       "certificate.ergieprestatieadvies                                   bool\n",
       "certificate.bouwkundigekeuring                                     bool\n",
       "certificate.huisgarantie                                           bool\n",
       "autoplekken                                                     float64\n",
       "balcony.fransbalkon                                                bool\n",
       "balcony.dakterras                                                  bool\n",
       "balcony.balkon                                                     bool\n",
       "rooms                                                           float64\n",
       "bedrooms                                                        float64\n",
       "bathroom.badkamer                                                 int64\n",
       "bathroom.aparte toilet                                            int64\n",
       "province                                                         object\n",
       "municipality                                                     object\n",
       "postcode                                                         object\n",
       "livingspace                                                     float64\n",
       "lotsurface                                                      float64\n",
       "volume                                                          float64\n",
       "housenumber                                                       int64\n",
       "postcodenummerdeel                                                int64\n",
       "address                                                          object\n",
       "startdate                                                datetime64[ns]\n",
       "enddate                                                  datetime64[ns]\n",
       "latitude                                                        float64\n",
       "longitude                                                       float64\n",
       "constructionperiod                                               object\n",
       "yearofconstruction                                              float64\n",
       "V1.y                                                              int64\n",
       "Onderwerpen:Wijken en buurten                                    object\n",
       "Meest voorkomende postcode:code                                 float64\n",
       "Gemeentenaam:naam                                                object\n",
       "Mate van stedelijkheid:code                                     float64\n",
       "Soort regio:omschrijving                                         object\n",
       "Afstand tot huisartsenpraktijk:km                               float64\n",
       "Afstand tot grote supermarkt:km                                 float64\n",
       "Afstand tot kinderdagverblijf:km                                float64\n",
       "Afstand tot school:km                                           float64\n",
       "Scholen binnen 3 km:aantal                                      float64\n",
       "Personen per soort uitkering; Bijstand:aantal                   float64\n",
       "Personen per soort uitkering; AO:aantal                         float64\n",
       "Personen per soort uitkering; WW:aantal                         float64\n",
       "Personen per soort uitkering; AOW:aantal                        float64\n",
       "Aantal inkomensontvangers  :aantal                                int64\n",
       "Gemiddeld inkomen per inkomensontvanger :x 1 000 euro           float64\n",
       "Gemiddeld inkomen per inwoner :x 1 000 euro                     float64\n",
       "40% personen met laagste inkomen:%                              float64\n",
       "20% personen met hoogste inkomen:%                              float64\n",
       "Actieven 15-75 jaar:%                                           float64\n",
       "40% huishoudens met laagste inkomen:%                           float64\n",
       "20% huishoudens met hoogste inkomen:%                           float64\n",
       "Huishoudens met een laag inkomen:%                              float64\n",
       "Huish. onder of rond sociaal minimum:%                          float64\n",
       "Woningvoorraad:aantal                                             int64\n",
       "Gemiddelde woningwaarde:x 1 000 euro                            float64\n",
       "Percentage eengezinswoning:%                                    float64\n",
       "Percentage bewoond:%                                            float64\n",
       "Koopwoningen:%                                                  float64\n",
       "In bezit woningcorporatie:%                                     float64\n",
       "In bezit overige verhuurders:%                                  float64\n",
       "Bouwjaar vanaf 2000:%                                           float64\n",
       "Westers totaal:aantal                                             int64\n",
       "Niet-westers totaal:aantal                                        int64\n",
       "Geboorte totaal:aantal                                            int64\n",
       "Sterfte totaal:aantal                                             int64\n",
       "Eenpersoonshuishoudens:aantal                                     int64\n",
       "Huishoudens zonder kinderen:aantal                                int64\n",
       "Huishoudens met kinderen:aantal                                   int64\n",
       "Gemiddelde huishoudensgrootte:aantal                            float64\n",
       "Bevolkingsdichtheid:aantal inwoners per km²                     float64\n",
       "Aantal inwoners:aantal                                            int64\n",
       "Mannen:aantal                                                     int64\n",
       "0 tot 15 jaar:aantal                                              int64\n",
       "15 tot 25 jaar:aantal                                             int64\n",
       "25 tot 45 jaar:aantal                                             int64\n",
       "45 tot 65 jaar:aantal                                             int64\n",
       "65 jaar of ouder:aantal                                           int64\n",
       "Ongehuwd:aantal                                                   int64\n",
       "Gehuwd:aantal                                                     int64\n",
       "Gescheiden:aantal                                                 int64\n",
       "Verweduwd:aantal                                                  int64\n",
       "Indelingswijziging wijken en buurten:code                         int64\n",
       "Bedrijfsvestigingen totaal:aantal                               float64\n",
       "A Landbouw, bosbouw en visserij:aantal                          float64\n",
       "B-F Nijverheid en energie:aantal                                float64\n",
       "G+I Handel en horeca:aantal                                     float64\n",
       "H+J Vervoer, informatie en communicatie:aantal                  float64\n",
       "K-L Financiële diensten, onroerend goed:aantal                  float64\n",
       "M-N Zakelijke dienstverlening:aantal                            float64\n",
       "R-U Cultuur, recreatie, overige diensten:aantal                 float64\n",
       "Oppervlakte totaal:ha                                             int64\n",
       "Oppervlakte land:ha                                               int64\n",
       "Oppervlakte water:ha                                              int64\n",
       "Afstand tot oprit hoofdverkeersweg:km                           float64\n",
       "Afstand tot treinstations totaal:km                             float64\n",
       "Afstand tot belangrijk overstapstation:km                       float64\n",
       "dtype: object"
      ]
     },
     "metadata": {},
     "output_type": "display_data"
    }
   ],
   "source": [
    "display_all(houses.dtypes)"
   ]
  },
  {
   "cell_type": "code",
   "execution_count": 9,
   "metadata": {
    "ExecuteTime": {
     "end_time": "2018-11-21T12:39:26.999917Z",
     "start_time": "2018-11-21T12:39:26.750685Z"
    }
   },
   "outputs": [],
   "source": [
    "houses['housenumber'] = houses['housenumber'].apply(lambda x: str(x))\n",
    "houses['postcodealphadeel'] = houses['postcode'].apply(lambda x: x[4:])\n",
    "houses['postcodenummerdeel'] = houses['postcodenummerdeel'].apply(lambda x: str(x))\n",
    "houses['Meest voorkomende postcode:code'] = houses['Meest voorkomende postcode:code'].apply(lambda x: str(x))\n",
    "\n",
    "houses = houses.drop(['postcode'],axis=1) # drop as it's no longer needed"
   ]
  },
  {
   "cell_type": "markdown",
   "metadata": {},
   "source": [
    "**Inspect for suspicious values and set to null**"
   ]
  },
  {
   "cell_type": "code",
   "execution_count": 4,
   "metadata": {
    "ExecuteTime": {
     "end_time": "2018-12-02T15:17:31.165930Z",
     "start_time": "2018-12-02T15:17:31.143456Z"
    }
   },
   "outputs": [
    {
     "data": {
      "text/plain": [
       "count                   78800\n",
       "unique                    754\n",
       "top       2017-02-01 00:00:00\n",
       "freq                      778\n",
       "first     2013-01-01 00:00:00\n",
       "last      2018-05-03 00:00:00\n",
       "Name: enddate, dtype: object"
      ]
     },
     "metadata": {},
     "output_type": "display_data"
    }
   ],
   "source": [
    "# We are looking for things like values with 9999... or negative values where they don't make sense\n",
    "display_all(houses['enddate'].describe())"
   ]
  },
  {
   "cell_type": "markdown",
   "metadata": {},
   "source": [
    "suspicious columns:\n",
    "- tuinoppervlakte \n",
    "- autoplekken\n",
    "- bedrooms (this turned out to be benign)\n",
    "- bathroom.aparte toilet\n",
    "- lotsurface"
   ]
  },
  {
   "cell_type": "code",
   "execution_count": 11,
   "metadata": {
    "ExecuteTime": {
     "end_time": "2018-11-21T12:39:46.659343Z",
     "start_time": "2018-11-21T12:39:46.553424Z"
    }
   },
   "outputs": [],
   "source": [
    "# tuinoppervlakte\n",
    "idx = houses[houses.tuinoppervlakte == 999].index\n",
    "houses.loc[idx,'tuinoppervlakte'] = None\n",
    "\n",
    "# autoplekken\n",
    "idx = houses[houses.autoplekken == 99].index\n",
    "houses.loc[idx,'autoplekken'] = None\n",
    "\n",
    "# bathroom.apart toilet\n",
    "idx = houses[houses['bathroom.aparte toilet'] == 9].index\n",
    "houses.loc[idx,'bathroom.aparte toilet'] = None\n",
    "\n",
    "# lotsurface\n",
    "idx = houses[houses['lotsurface'] == 999999].index\n",
    "houses.loc[idx,'lotsurface'] = None\n",
    "idx = houses[houses['lotsurface'] == 99999].index\n",
    "houses.loc[idx,'lotsurface'] = None"
   ]
  },
  {
   "cell_type": "markdown",
   "metadata": {},
   "source": [
    "**Creating features from the startdate column**"
   ]
  },
  {
   "cell_type": "code",
   "execution_count": 12,
   "metadata": {
    "ExecuteTime": {
     "end_time": "2018-11-21T12:39:50.960839Z",
     "start_time": "2018-11-21T12:39:50.308356Z"
    }
   },
   "outputs": [],
   "source": [
    "add_datepart(houses, 'startdate') # creates features such as dayofweek, month, year, quarter, etc."
   ]
  },
  {
   "cell_type": "markdown",
   "metadata": {},
   "source": [
    "**Create features from the realtors dataset**"
   ]
  },
  {
   "cell_type": "markdown",
   "metadata": {
    "ExecuteTime": {
     "end_time": "2018-11-21T12:39:53.228068Z",
     "start_time": "2018-11-21T12:39:53.176942Z"
    }
   },
   "source": [
    "realtors = pd.read_csv('../Datarealtors.csv', encoding='latin-1')\n",
    "realtors = realtors.drop(['house'],axis=1)\n",
    "reviews = pd.read_csv('reviews.csv', encoding='latin-1')\n",
    "review_mean = reviews.groupby('url')['Deskundigheid', 'Lokale marktkennis', 'Prijs/kwaliteit',\n",
    "       'Service/begeleiding'].mean() # computes mean for all reviews grouped by realtor\n",
    "review_mean.columns = review_mean.columns + '_mean'\n",
    "review_std = reviews.groupby('url')[\n",
    "    'Bereikbaarheid en communicatie','Deskundigheid', 'Lokale marktkennis', 'Prijs/kwaliteit','Service/begeleiding',\n",
    "    'Onderhandeling en resultaat'\n",
    "].std() # computes standard deviation for all reviews grouped by realtor\n",
    "review_std.columns = review_std.columns + '_std'\n",
    "realtors = pd.merge(realtors, review_mean, left_on='realtor', right_index=True)\n",
    "realtors = pd.merge(realtors, review_std, left_on='realtor', right_index=True)\n",
    "\n",
    "missing = houses[~houses.realtor.isin(realtors.realtor)].realtor.unique()\n",
    "extra=np.array([[missing[i]] + [None for n in range(17)] for i in range(len(missing))])\n",
    "realtors_extra = pd.DataFrame(data=extra, columns=realtors.columns)\n",
    "realtors = realtors.append(realtors_extra)\n",
    "realtors = realtors.set_index(np.arange(len(realtors)))\n",
    "\n",
    "houses = pd.merge(houses, realtors, left_on='realtor', right_on='realtor')"
   ]
  },
  {
   "cell_type": "markdown",
   "metadata": {},
   "source": [
    "**Convert all categorical features to the pandas 'cat' data type**"
   ]
  },
  {
   "cell_type": "code",
   "execution_count": 14,
   "metadata": {
    "ExecuteTime": {
     "end_time": "2018-11-21T12:40:15.365459Z",
     "start_time": "2018-11-21T12:40:14.492891Z"
    }
   },
   "outputs": [],
   "source": [
    "# This makes them easy to process by the random forest algorithm\n",
    "train_cats(houses)"
   ]
  },
  {
   "cell_type": "markdown",
   "metadata": {},
   "source": [
    "**Finally transform the target variable using np.log**"
   ]
  },
  {
   "cell_type": "code",
   "execution_count": 15,
   "metadata": {
    "ExecuteTime": {
     "end_time": "2018-11-21T12:40:17.354723Z",
     "start_time": "2018-11-21T12:40:17.335744Z"
    }
   },
   "outputs": [],
   "source": [
    "# The advantage of this is we found it to give more accurate predictions, the disadvantage is that those\n",
    "# numbers will be less round than if left untransformed, meaning it won't be a \"normal\" house price, so to speak\n",
    "houses.endprice = np.log(houses.endprice)"
   ]
  },
  {
   "cell_type": "markdown",
   "metadata": {},
   "source": [
    "**Impute all missing values using the mean for numerical features and mode for categorical ones**"
   ]
  },
  {
   "cell_type": "code",
   "execution_count": 16,
   "metadata": {
    "ExecuteTime": {
     "end_time": "2018-11-21T12:40:18.092221Z",
     "start_time": "2018-11-21T12:40:18.068163Z"
    }
   },
   "outputs": [],
   "source": [
    "houses = houses.drop(['enddate'], axis=1)"
   ]
  },
  {
   "cell_type": "code",
   "execution_count": 17,
   "metadata": {
    "ExecuteTime": {
     "end_time": "2018-11-21T12:40:18.997959Z",
     "start_time": "2018-11-21T12:40:18.481805Z"
    }
   },
   "outputs": [],
   "source": [
    "X, y, nas = proc_df(houses, 'endprice')"
   ]
  },
  {
   "cell_type": "markdown",
   "metadata": {},
   "source": [
    "**Pickle files for later**"
   ]
  },
  {
   "cell_type": "code",
   "execution_count": 18,
   "metadata": {
    "ExecuteTime": {
     "end_time": "2018-11-21T12:40:19.656666Z",
     "start_time": "2018-11-21T12:40:19.499247Z"
    }
   },
   "outputs": [],
   "source": [
    "pickle.dump(X,open('X.p','wb'))\n",
    "pickle.dump(y,open('y.p','wb'))\n",
    "pickle.dump(nas,open('nas.p','wb'))\n",
    "pickle.dump(price_change_index,open('pci.p','wb'))"
   ]
  },
  {
   "cell_type": "code",
   "execution_count": 19,
   "metadata": {
    "ExecuteTime": {
     "end_time": "2018-11-21T12:40:20.931999Z",
     "start_time": "2018-11-21T12:40:20.786389Z"
    }
   },
   "outputs": [],
   "source": [
    "pickle.dump(houses, open('houses.p','wb'))"
   ]
  }
 ],
 "metadata": {
  "kernelspec": {
   "display_name": "Python 3",
   "language": "python",
   "name": "python3"
  },
  "language_info": {
   "codemirror_mode": {
    "name": "ipython",
    "version": 3
   },
   "file_extension": ".py",
   "mimetype": "text/x-python",
   "name": "python",
   "nbconvert_exporter": "python",
   "pygments_lexer": "ipython3",
   "version": "3.6.4"
  },
  "latex_envs": {
   "LaTeX_envs_menu_present": true,
   "autoclose": false,
   "autocomplete": true,
   "bibliofile": "biblio.bib",
   "cite_by": "apalike",
   "current_citInitial": 1,
   "eqLabelWithNumbers": true,
   "eqNumInitial": 1,
   "hotkeys": {
    "equation": "Ctrl-E",
    "itemize": "Ctrl-I"
   },
   "labels_anchors": false,
   "latex_user_defs": false,
   "report_style_numbering": false,
   "user_envs_cfg": false
  },
  "toc": {
   "nav_menu": {},
   "number_sections": false,
   "sideBar": true,
   "skip_h1_title": false,
   "toc_cell": false,
   "toc_position": {},
   "toc_section_display": "block",
   "toc_window_display": false
  },
  "varInspector": {
   "cols": {
    "lenName": 16,
    "lenType": 16,
    "lenVar": 40
   },
   "kernels_config": {
    "python": {
     "delete_cmd_postfix": "",
     "delete_cmd_prefix": "del ",
     "library": "var_list.py",
     "varRefreshCmd": "print(var_dic_list())"
    },
    "r": {
     "delete_cmd_postfix": ") ",
     "delete_cmd_prefix": "rm(",
     "library": "var_list.r",
     "varRefreshCmd": "cat(var_dic_list()) "
    }
   },
   "types_to_exclude": [
    "module",
    "function",
    "builtin_function_or_method",
    "instance",
    "_Feature"
   ],
   "window_display": false
  }
 },
 "nbformat": 4,
 "nbformat_minor": 2
}
