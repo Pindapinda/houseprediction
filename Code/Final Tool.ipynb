{
 "cells": [
  {
   "cell_type": "code",
   "execution_count": 1,
   "metadata": {
    "ExecuteTime": {
     "end_time": "2018-12-05T07:17:17.945642Z",
     "start_time": "2018-12-05T07:17:17.421090Z"
    }
   },
   "outputs": [
    {
     "name": "stderr",
     "output_type": "stream",
     "text": [
      "Failed to import duecredit due to No module named 'duecredit'\n"
     ]
    }
   ],
   "source": [
    "import pandas as pd\n",
    "import numpy as np\n",
    "import pickle\n",
    "\n",
    "from preprocessing import *\n",
    "from scipy import spatial\n",
    "from sklearn.ensemble import RandomForestRegressor as RFR\n",
    "import forestci as fci"
   ]
  },
  {
   "cell_type": "markdown",
   "metadata": {},
   "source": [
    "# Data\n",
    "The data contains only columns that we determined to be relevant for the randomforestregressor as well as a couple of potential comparable features, each of these are specified below.\n",
    "\n",
    "Since the model had some disappointing results for logarithmic price, we also see how well it performs on regular price"
   ]
  },
  {
   "cell_type": "code",
   "execution_count": 2,
   "metadata": {
    "ExecuteTime": {
     "end_time": "2018-12-05T07:17:17.987287Z",
     "start_time": "2018-12-05T07:17:17.947421Z"
    }
   },
   "outputs": [],
   "source": [
    "df = pickle.load(open('../Data/reduced_df.p','rb'))\n",
    "df = df.rename(columns={'V1.x': 'Postcode5'})\n",
    "df2 = df.copy(deep=True)\n",
    "df2['endprice'] = np.exp(df['endprice'])"
   ]
  },
  {
   "cell_type": "code",
   "execution_count": 3,
   "metadata": {
    "ExecuteTime": {
     "end_time": "2018-12-05T07:17:18.019856Z",
     "start_time": "2018-12-05T07:17:17.989120Z"
    }
   },
   "outputs": [
    {
     "name": "stdout",
     "output_type": "stream",
     "text": [
      "<class 'pandas.core.frame.DataFrame'>\n",
      "Int64Index: 66239 entries, 57585 to 43850\n",
      "Data columns (total 16 columns):\n",
      "livingspace                             66239 non-null float64\n",
      "Gemiddelde woningwaarde:x 1 000 euro    66239 non-null float64\n",
      "housetype                               66239 non-null category\n",
      "Postcode5                               66239 non-null int64\n",
      "lotsurface                              66239 non-null float64\n",
      "yearofconstruction                      66239 non-null float64\n",
      "longitude                               66239 non-null float64\n",
      "latitude                                66239 non-null float64\n",
      "housesubtype                            66239 non-null category\n",
      "rooms                                   66239 non-null float64\n",
      "bathroom.badkamer                       66239 non-null int64\n",
      "feature.zwembad                         66239 non-null bool\n",
      "bathroom.aparte toilet                  66239 non-null float64\n",
      "balcony.balkon                          66239 non-null bool\n",
      "feature.sauna                           66239 non-null bool\n",
      "endprice                                66239 non-null float64\n",
      "dtypes: bool(3), category(2), float64(9), int64(2)\n",
      "memory usage: 6.4 MB\n"
     ]
    }
   ],
   "source": [
    "df.info()"
   ]
  },
  {
   "cell_type": "markdown",
   "metadata": {},
   "source": [
    "# Relevant Features\n",
    "These are the 10 features that are most relevant for the random forest regressor as determined in previous notebooks. The user can enter these features manually, but for the purpose of this test, we pick them from the data."
   ]
  },
  {
   "cell_type": "code",
   "execution_count": 4,
   "metadata": {
    "ExecuteTime": {
     "end_time": "2018-12-05T07:17:18.027914Z",
     "start_time": "2018-12-05T07:17:18.022603Z"
    }
   },
   "outputs": [],
   "source": [
    "RF = ['livingspace', 'Gemiddelde woningwaarde:x 1 000 euro', 'housetype', 'Postcode5',\n",
    "      'lotsurface', 'yearofconstruction', 'longitude', 'latitude', 'housesubtype', 'rooms']"
   ]
  },
  {
   "cell_type": "markdown",
   "metadata": {},
   "source": [
    "For the purpose of this notebook, we only look at 1 potential upgradable feature, namely the presence of a seperate toilet in the bathroom."
   ]
  },
  {
   "cell_type": "code",
   "execution_count": 5,
   "metadata": {
    "ExecuteTime": {
     "end_time": "2018-12-05T07:17:18.034371Z",
     "start_time": "2018-12-05T07:17:18.029548Z"
    }
   },
   "outputs": [],
   "source": [
    "PUF = ['bathroom.aparte toilet']"
   ]
  },
  {
   "cell_type": "markdown",
   "metadata": {},
   "source": [
    "Finally of course, we need the endprice as a target feature, to train our model and check our performance"
   ]
  },
  {
   "cell_type": "code",
   "execution_count": 6,
   "metadata": {
    "ExecuteTime": {
     "end_time": "2018-12-05T07:17:18.038748Z",
     "start_time": "2018-12-05T07:17:18.035822Z"
    }
   },
   "outputs": [],
   "source": [
    "TF = ['endprice']"
   ]
  },
  {
   "cell_type": "markdown",
   "metadata": {},
   "source": [
    "We only keep the relevant features in our dataframe"
   ]
  },
  {
   "cell_type": "code",
   "execution_count": 7,
   "metadata": {
    "ExecuteTime": {
     "end_time": "2018-12-05T07:17:18.049478Z",
     "start_time": "2018-12-05T07:17:18.040544Z"
    }
   },
   "outputs": [],
   "source": [
    "df = df[RF+PUF+TF]\n",
    "df2 = df2[RF+PUF+TF]"
   ]
  },
  {
   "cell_type": "markdown",
   "metadata": {
    "ExecuteTime": {
     "end_time": "2018-12-04T19:43:13.515256Z",
     "start_time": "2018-12-04T19:43:13.508314Z"
    }
   },
   "source": [
    "## Calculating values from user input\n",
    "One of the most important features for our predictive algorithm is de average value of houses in the neighbourhood. The user might not be aware of this value, but fortunately, we can predict it quite accurately by finding the house with the closest longitude, latitude and Postcode5 and simply taking their value instead."
   ]
  },
  {
   "cell_type": "code",
   "execution_count": 8,
   "metadata": {
    "ExecuteTime": {
     "end_time": "2018-12-05T07:17:18.056812Z",
     "start_time": "2018-12-05T07:17:18.050991Z"
    }
   },
   "outputs": [],
   "source": [
    "CF = ['longitude', 'latitude', 'Postcode5']\n",
    "\n",
    "def calculate_avg_housevalue(long, lat, post, data=df):\n",
    "    tree = spatial.KDTree(data[CF].values)\n",
    "    _, index = tree.query(np.array([long, lat, post]))\n",
    "    return data.iloc[index]['Gemiddelde woningwaarde:x 1 000 euro']"
   ]
  },
  {
   "cell_type": "markdown",
   "metadata": {},
   "source": [
    "# The model\n",
    "We use a a random forest regression which was also used in previous notebooks to find the most important features."
   ]
  },
  {
   "cell_type": "code",
   "execution_count": 9,
   "metadata": {
    "ExecuteTime": {
     "end_time": "2018-12-05T07:17:18.061777Z",
     "start_time": "2018-12-05T07:17:18.058507Z"
    }
   },
   "outputs": [],
   "source": [
    "m = RFR(n_estimators=500, min_samples_leaf=3, max_features=0.5, n_jobs=-1, oob_score=True)\n",
    "m2 = RFR(n_estimators=500, min_samples_leaf=3, max_features=0.5, n_jobs=-1, oob_score=True)"
   ]
  },
  {
   "cell_type": "code",
   "execution_count": 10,
   "metadata": {
    "ExecuteTime": {
     "end_time": "2018-12-05T07:17:18.119633Z",
     "start_time": "2018-12-05T07:17:18.063480Z"
    }
   },
   "outputs": [],
   "source": [
    "X, y, _ = proc_df(df, 'endprice')\n",
    "\n",
    "n_trn = len(X) // 2\n",
    "n_valid = n_trn + (len(X) // 2) - 100\n",
    "X_train, X_valid, X_test = split_vals_test(X, n_trn, n_valid)\n",
    "y_train, y_valid, y_test = split_vals_test(y, n_trn, n_valid)"
   ]
  },
  {
   "cell_type": "code",
   "execution_count": 11,
   "metadata": {
    "ExecuteTime": {
     "end_time": "2018-12-05T07:17:29.686198Z",
     "start_time": "2018-12-05T07:17:18.121628Z"
    }
   },
   "outputs": [
    {
     "name": "stdout",
     "output_type": "stream",
     "text": [
      "[0.10240404143778216, 0.1963656084057479, 0.9528021754129408, 0.8359865313666437, 0.8672822733937626]\n"
     ]
    }
   ],
   "source": [
    "m.fit(X_train, y_train)\n",
    "print_score(m, X_train, y_train, X_valid, y_valid)"
   ]
  },
  {
   "cell_type": "code",
   "execution_count": 12,
   "metadata": {
    "ExecuteTime": {
     "end_time": "2018-12-05T07:17:29.726542Z",
     "start_time": "2018-12-05T07:17:29.687615Z"
    }
   },
   "outputs": [],
   "source": [
    "X2, y2, _ = proc_df(df2, 'endprice')\n",
    "\n",
    "n_trn2 = len(X2) // 2\n",
    "n_valid2 = n_trn2 + (len(X2) // 2) - 100\n",
    "X_train2, X_valid2, X_test2 = split_vals_test(X2, n_trn2, n_valid2)\n",
    "y_train2, y_valid2, y_test2 = split_vals_test(y2, n_trn2, n_valid2)"
   ]
  },
  {
   "cell_type": "code",
   "execution_count": 13,
   "metadata": {
    "ExecuteTime": {
     "end_time": "2018-12-05T07:17:41.398298Z",
     "start_time": "2018-12-05T07:17:29.728186Z"
    }
   },
   "outputs": [
    {
     "name": "stdout",
     "output_type": "stream",
     "text": [
      "[39029.88773560832, 93299.89026706254, 0.9397583342202875, 0.7525322608487028, 0.8329020317874675]\n"
     ]
    }
   ],
   "source": [
    "m2.fit(X_train2, y_train2)\n",
    "print_score(m2, X_train2, y_train2, X_valid2, y_valid2)"
   ]
  },
  {
   "cell_type": "markdown",
   "metadata": {},
   "source": [
    "# Predicting\n",
    "Given the initial 10 values of our house + the number of seperate toilets in bathrooms, we make a prediction of the end price with the current number of toilets and with one extra toilet.\n",
    "\n",
    "Our validation set has 76 houses with 0 toilets and 25 houses with 1 toilet."
   ]
  },
  {
   "cell_type": "code",
   "execution_count": 14,
   "metadata": {
    "ExecuteTime": {
     "end_time": "2018-12-05T07:17:41.417568Z",
     "start_time": "2018-12-05T07:17:41.401241Z"
    }
   },
   "outputs": [
    {
     "data": {
      "text/plain": [
       "0.0    76\n",
       "1.0    25\n",
       "Name: bathroom.aparte toilet, dtype: int64"
      ]
     },
     "execution_count": 14,
     "metadata": {},
     "output_type": "execute_result"
    }
   ],
   "source": [
    "X_test['bathroom.aparte toilet'].value_counts()"
   ]
  },
  {
   "cell_type": "markdown",
   "metadata": {},
   "source": [
    "Below code demonstrates what would happen for a single house (e.g. one entered by the user)\n",
    "\n",
    "First we look at our prediction for the house with the actual number of toilets it has (0)"
   ]
  },
  {
   "cell_type": "code",
   "execution_count": 15,
   "metadata": {
    "ExecuteTime": {
     "end_time": "2018-12-05T07:17:41.449144Z",
     "start_time": "2018-12-05T07:17:41.422909Z"
    }
   },
   "outputs": [],
   "source": [
    "user_house = X_test.iloc[0]\n",
    "test = X_valid.append(user_house).copy()"
   ]
  },
  {
   "cell_type": "code",
   "execution_count": 16,
   "metadata": {
    "ExecuteTime": {
     "end_time": "2018-12-05T07:18:16.996563Z",
     "start_time": "2018-12-05T07:17:41.454504Z"
    }
   },
   "outputs": [],
   "source": [
    "pred_log_price = m.predict(np.array([user_house]))[0]\n",
    "log_price = y_test[0]\n",
    "error_margin = fci.random_forest_error(m, X_train, test)[-1]"
   ]
  },
  {
   "cell_type": "markdown",
   "metadata": {
    "ExecuteTime": {
     "end_time": "2018-12-04T20:52:53.459341Z",
     "start_time": "2018-12-04T20:52:53.455325Z"
    }
   },
   "source": [
    "We now expect our prediction to be somewhere between pred_price + error_margin and pred_price - error_margin. Note that these error margins correspond to single sigma so a ~65% confidence interval, for a ~95% confidence interval, we would need to do the error_margins times 2."
   ]
  },
  {
   "cell_type": "code",
   "execution_count": 21,
   "metadata": {
    "ExecuteTime": {
     "end_time": "2018-12-05T07:18:17.040368Z",
     "start_time": "2018-12-05T07:18:17.036159Z"
    }
   },
   "outputs": [
    {
     "name": "stdout",
     "output_type": "stream",
     "text": [
      "Lower bound:  384074.63265285676\n",
      "Actual price:  499000.0000000004\n",
      "Upper bound:  922063.4536208038\n"
     ]
    }
   ],
   "source": [
    "print(\"Lower bound: \", np.exp(pred_log_price-error_margin))\n",
    "print(\"Actual price: \", np.exp(log_price))\n",
    "print(\"Upper bound: \", np.exp(pred_log_price+error_margin))"
   ]
  },
  {
   "cell_type": "markdown",
   "metadata": {},
   "source": [
    "Next we look at our predicion if it the user house had an extra toilet (1)"
   ]
  },
  {
   "cell_type": "code",
   "execution_count": 22,
   "metadata": {
    "ExecuteTime": {
     "end_time": "2018-12-05T07:18:17.049932Z",
     "start_time": "2018-12-05T07:18:17.042356Z"
    }
   },
   "outputs": [],
   "source": [
    "user_house_et = user_house.copy()\n",
    "user_house_et['bathroom.aparte toilet'] += 1\n",
    "test_et = X_test.append(user_house_et).copy()"
   ]
  },
  {
   "cell_type": "code",
   "execution_count": 23,
   "metadata": {
    "ExecuteTime": {
     "end_time": "2018-12-05T07:18:18.394605Z",
     "start_time": "2018-12-05T07:18:17.051637Z"
    }
   },
   "outputs": [],
   "source": [
    "pred_log_price = m.predict(np.array([user_house_et]))[0]\n",
    "error_margin = fci.random_forest_error(m, X_train, test_et)[-1]"
   ]
  },
  {
   "cell_type": "code",
   "execution_count": 25,
   "metadata": {
    "ExecuteTime": {
     "end_time": "2018-12-05T07:18:18.405013Z",
     "start_time": "2018-12-05T07:18:18.399952Z"
    }
   },
   "outputs": [
    {
     "name": "stdout",
     "output_type": "stream",
     "text": [
      "Lower bound:  502204.87959021307\n",
      "Predicted price:  600210.9240890922\n",
      "Upper bound:  717342.996925557\n"
     ]
    }
   ],
   "source": [
    "print(\"Lower bound: \", np.exp(pred_log_price-error_margin))\n",
    "print(\"Predicted price: \", np.exp(pred_log_price))\n",
    "print(\"Upper bound: \", np.exp(pred_log_price+error_margin))"
   ]
  },
  {
   "cell_type": "markdown",
   "metadata": {},
   "source": [
    "## Testing the model for the full validation set"
   ]
  },
  {
   "cell_type": "code",
   "execution_count": null,
   "metadata": {},
   "outputs": [],
   "source": []
  }
 ],
 "metadata": {
  "kernelspec": {
   "display_name": "Python 3",
   "language": "python",
   "name": "python3"
  },
  "language_info": {
   "codemirror_mode": {
    "name": "ipython",
    "version": 3
   },
   "file_extension": ".py",
   "mimetype": "text/x-python",
   "name": "python",
   "nbconvert_exporter": "python",
   "pygments_lexer": "ipython3",
   "version": "3.6.4"
  },
  "latex_envs": {
   "LaTeX_envs_menu_present": true,
   "autoclose": false,
   "autocomplete": true,
   "bibliofile": "biblio.bib",
   "cite_by": "apalike",
   "current_citInitial": 1,
   "eqLabelWithNumbers": true,
   "eqNumInitial": 1,
   "hotkeys": {
    "equation": "Ctrl-E",
    "itemize": "Ctrl-I"
   },
   "labels_anchors": false,
   "latex_user_defs": false,
   "report_style_numbering": false,
   "user_envs_cfg": false
  },
  "toc": {
   "nav_menu": {},
   "number_sections": false,
   "sideBar": true,
   "skip_h1_title": false,
   "toc_cell": false,
   "toc_position": {},
   "toc_section_display": "block",
   "toc_window_display": false
  },
  "varInspector": {
   "cols": {
    "lenName": 16,
    "lenType": 16,
    "lenVar": 40
   },
   "kernels_config": {
    "python": {
     "delete_cmd_postfix": "",
     "delete_cmd_prefix": "del ",
     "library": "var_list.py",
     "varRefreshCmd": "print(var_dic_list())"
    },
    "r": {
     "delete_cmd_postfix": ") ",
     "delete_cmd_prefix": "rm(",
     "library": "var_list.r",
     "varRefreshCmd": "cat(var_dic_list()) "
    }
   },
   "types_to_exclude": [
    "module",
    "function",
    "builtin_function_or_method",
    "instance",
    "_Feature"
   ],
   "window_display": false
  }
 },
 "nbformat": 4,
 "nbformat_minor": 2
}
