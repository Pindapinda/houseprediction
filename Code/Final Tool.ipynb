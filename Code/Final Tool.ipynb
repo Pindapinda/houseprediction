{
 "cells": [
  {
   "cell_type": "code",
   "execution_count": 1,
   "metadata": {
    "ExecuteTime": {
     "end_time": "2018-12-05T21:34:20.637016Z",
     "start_time": "2018-12-05T21:34:20.071753Z"
    }
   },
   "outputs": [
    {
     "name": "stderr",
     "output_type": "stream",
     "text": [
      "Failed to import duecredit due to No module named 'duecredit'\n"
     ]
    }
   ],
   "source": [
    "import pandas as pd\n",
    "import numpy as np\n",
    "import pickle\n",
    "\n",
    "from preprocessing import *\n",
    "from scipy import spatial\n",
    "from sklearn.ensemble import RandomForestRegressor as RFR\n",
    "import forestci as fci"
   ]
  },
  {
   "cell_type": "markdown",
   "metadata": {},
   "source": [
    "# Data\n",
    "The data contains only columns that we determined to be relevant for the randomforestregressor as well as a couple of potential comparable features, each of these are specified below.\n",
    "\n",
    "Since the model had some disappointing results for logarithmic price, we also see how well it performs on regular price"
   ]
  },
  {
   "cell_type": "code",
   "execution_count": 2,
   "metadata": {
    "ExecuteTime": {
     "end_time": "2018-12-05T21:34:20.676065Z",
     "start_time": "2018-12-05T21:34:20.638503Z"
    }
   },
   "outputs": [],
   "source": [
    "df = pickle.load(open('../Data/reduced_df.p','rb'))\n",
    "df = df.rename(columns={'V1.x': 'Postcode5'})\n",
    "# df['endprice'] = np.exp(df['endprice'])"
   ]
  },
  {
   "cell_type": "code",
   "execution_count": 3,
   "metadata": {
    "ExecuteTime": {
     "end_time": "2018-12-05T21:34:20.711381Z",
     "start_time": "2018-12-05T21:34:20.677486Z"
    }
   },
   "outputs": [
    {
     "name": "stdout",
     "output_type": "stream",
     "text": [
      "<class 'pandas.core.frame.DataFrame'>\n",
      "Int64Index: 66239 entries, 57585 to 43850\n",
      "Data columns (total 17 columns):\n",
      "livingspace                             66239 non-null float64\n",
      "Gemiddelde woningwaarde:x 1 000 euro    66239 non-null float64\n",
      "housetype                               66239 non-null category\n",
      "Postcode5                               66239 non-null int64\n",
      "lotsurface                              66239 non-null float64\n",
      "yearofconstruction                      66239 non-null float64\n",
      "longitude                               66239 non-null float64\n",
      "latitude                                66239 non-null float64\n",
      "housesubtype                            66239 non-null category\n",
      "rooms                                   66239 non-null float64\n",
      "bathroom.badkamer                       66239 non-null int64\n",
      "feature.zwembad                         66239 non-null bool\n",
      "bathroom.aparte toilet                  66239 non-null float64\n",
      "balcony.balkon                          66239 non-null bool\n",
      "feature.sauna                           66239 non-null bool\n",
      "bathroom.toilet                         66239 non-null int64\n",
      "endprice                                66239 non-null float64\n",
      "dtypes: bool(3), category(2), float64(9), int64(3)\n",
      "memory usage: 6.9 MB\n"
     ]
    }
   ],
   "source": [
    "df.info()"
   ]
  },
  {
   "cell_type": "markdown",
   "metadata": {},
   "source": [
    "# Relevant Features\n",
    "These are the 10 features that are most relevant for the random forest regressor as determined in previous notebooks. The user can enter these features manually, but for the purpose of this test, we pick them from the data."
   ]
  },
  {
   "cell_type": "code",
   "execution_count": 4,
   "metadata": {
    "ExecuteTime": {
     "end_time": "2018-12-05T21:34:20.715955Z",
     "start_time": "2018-12-05T21:34:20.713580Z"
    }
   },
   "outputs": [],
   "source": [
    "RF = ['livingspace', 'Gemiddelde woningwaarde:x 1 000 euro', 'housetype', 'Postcode5',\n",
    "      'lotsurface', 'yearofconstruction', 'longitude', 'latitude', 'housesubtype', 'rooms']"
   ]
  },
  {
   "cell_type": "markdown",
   "metadata": {},
   "source": [
    "For the purpose of this notebook, we only look at 1 potential upgradable feature, namely the presence of a seperate toilet in the bathroom."
   ]
  },
  {
   "cell_type": "code",
   "execution_count": 5,
   "metadata": {
    "ExecuteTime": {
     "end_time": "2018-12-05T21:34:20.724871Z",
     "start_time": "2018-12-05T21:34:20.722480Z"
    }
   },
   "outputs": [],
   "source": [
    "PUF = ['bathroom.toilet']"
   ]
  },
  {
   "cell_type": "markdown",
   "metadata": {},
   "source": [
    "Finally of course, we need the endprice as a target feature, to train our model and check our performance"
   ]
  },
  {
   "cell_type": "code",
   "execution_count": 6,
   "metadata": {
    "ExecuteTime": {
     "end_time": "2018-12-05T21:34:20.921206Z",
     "start_time": "2018-12-05T21:34:20.918689Z"
    }
   },
   "outputs": [],
   "source": [
    "TF = ['endprice']"
   ]
  },
  {
   "cell_type": "markdown",
   "metadata": {},
   "source": [
    "We only keep the relevant features in our dataframe"
   ]
  },
  {
   "cell_type": "code",
   "execution_count": 7,
   "metadata": {
    "ExecuteTime": {
     "end_time": "2018-12-05T21:34:21.117202Z",
     "start_time": "2018-12-05T21:34:21.111333Z"
    }
   },
   "outputs": [],
   "source": [
    "df = df[RF+PUF+TF]\n",
    "# df = df[RF+TF]"
   ]
  },
  {
   "cell_type": "markdown",
   "metadata": {
    "ExecuteTime": {
     "end_time": "2018-12-04T19:43:13.515256Z",
     "start_time": "2018-12-04T19:43:13.508314Z"
    }
   },
   "source": [
    "## Calculating values from user input\n",
    "One of the most important features for our predictive algorithm is de average value of houses in the neighbourhood. The user might not be aware of this value, but fortunately, we can predict it quite accurately by finding the house with the closest longitude, latitude and Postcode5 and simply taking their value instead."
   ]
  },
  {
   "cell_type": "code",
   "execution_count": 8,
   "metadata": {
    "ExecuteTime": {
     "end_time": "2018-12-05T21:34:21.307029Z",
     "start_time": "2018-12-05T21:34:21.302592Z"
    }
   },
   "outputs": [],
   "source": [
    "CF = ['longitude', 'latitude', 'Postcode5']\n",
    "\n",
    "def calculate_avg_housevalue(long, lat, post, data=df):\n",
    "    tree = spatial.KDTree(data[CF].values)\n",
    "    _, index = tree.query(np.array([long, lat, post]))\n",
    "    return data.iloc[index]['Gemiddelde woningwaarde:x 1 000 euro']"
   ]
  },
  {
   "cell_type": "markdown",
   "metadata": {},
   "source": [
    "# The model\n",
    "We use a a random forest regression which was also used in previous notebooks to find the most important features."
   ]
  },
  {
   "cell_type": "code",
   "execution_count": 9,
   "metadata": {
    "ExecuteTime": {
     "end_time": "2018-12-05T21:34:21.493553Z",
     "start_time": "2018-12-05T21:34:21.490740Z"
    }
   },
   "outputs": [],
   "source": [
    "m = RFR(n_estimators=500, min_samples_leaf=3, max_features=0.5, n_jobs=-1, oob_score=True)\n",
    "m2 = RFR(n_estimators=500, min_samples_leaf=3, max_features=0.5, n_jobs=-1, oob_score=True)"
   ]
  },
  {
   "cell_type": "code",
   "execution_count": 10,
   "metadata": {
    "ExecuteTime": {
     "end_time": "2018-12-05T21:34:21.545251Z",
     "start_time": "2018-12-05T21:34:21.495200Z"
    }
   },
   "outputs": [],
   "source": [
    "X, y, _ = proc_df(df, 'endprice')\n",
    "\n",
    "n_trn = len(X) // 2\n",
    "n_valid = n_trn + (len(X) // 4)\n",
    "X_train, X_valid, X_test = split_vals_test(X, n_trn, n_valid)\n",
    "y_train, y_valid, y_test = split_vals_test(y, n_trn, n_valid)"
   ]
  },
  {
   "cell_type": "code",
   "execution_count": 11,
   "metadata": {
    "ExecuteTime": {
     "end_time": "2018-12-05T21:34:33.595768Z",
     "start_time": "2018-12-05T21:34:21.547033Z"
    }
   },
   "outputs": [
    {
     "name": "stdout",
     "output_type": "stream",
     "text": [
      "[0.10222628675204434, 0.19078702056728092, 0.9529658867845587, 0.8449251019087404, 0.8675266252812308]\n"
     ]
    }
   ],
   "source": [
    "m.fit(X_train, y_train)\n",
    "print_score(m, X_train, y_train, X_valid, y_valid)"
   ]
  },
  {
   "cell_type": "code",
   "execution_count": 12,
   "metadata": {
    "ExecuteTime": {
     "end_time": "2018-12-05T21:34:44.399458Z",
     "start_time": "2018-12-05T21:34:33.601844Z"
    }
   },
   "outputs": [
    {
     "name": "stdout",
     "output_type": "stream",
     "text": [
      "[0.10214532465905223, 0.19057170705627877, 0.9530403582816598, 0.8452749252837346, 0.8678086301872148]\n"
     ]
    }
   ],
   "source": [
    "m.fit(X_train, y_train)\n",
    "print_score(m, X_train, y_train, X_valid, y_valid)"
   ]
  },
  {
   "cell_type": "markdown",
   "metadata": {},
   "source": [
    "# Predicting\n",
    "Given the initial 10 values of our house + the number of seperate toilets in bathbathroom.toilet, we make a prediction of the end price with the current number of toilets and with one extra toilet.\n",
    "\n",
    "Our validation set has 76 houses with 0 toilets and 25 houses with 1 toilet."
   ]
  },
  {
   "cell_type": "markdown",
   "metadata": {},
   "source": [
    "Below code demonstrates what would happen for a single house (e.g. one entered by the user)\n",
    "\n",
    "First we look at our prediction for the house with the actual number of toilets it has (0)"
   ]
  },
  {
   "cell_type": "code",
   "execution_count": 13,
   "metadata": {
    "ExecuteTime": {
     "end_time": "2018-12-05T21:34:44.811403Z",
     "start_time": "2018-12-05T21:34:44.401056Z"
    }
   },
   "outputs": [],
   "source": [
    "pred_log_price = m.predict(X_test)\n",
    "log_price = y_test\n",
    "# error_margin = fci.random_forest_error(m, X_train, test, calibrate=False)[-1]"
   ]
  },
  {
   "cell_type": "markdown",
   "metadata": {
    "ExecuteTime": {
     "end_time": "2018-12-04T20:52:53.459341Z",
     "start_time": "2018-12-04T20:52:53.455325Z"
    }
   },
   "source": [
    "We now expect our prediction to be somewhere between pred_price + error_margin and pred_price - error_margin. Note that these error margins correspond to single sigma so a ~65% confidence interval, for a ~95% confidence interval, we would need to do the error_margins times 2."
   ]
  },
  {
   "cell_type": "markdown",
   "metadata": {
    "ExecuteTime": {
     "end_time": "2018-12-05T15:16:23.132464Z",
     "start_time": "2018-12-05T15:16:23.127768Z"
    }
   },
   "source": [
    "print(\"Lower bound: \", pred_log_price-abs(error_margin))\n",
    "print(\"Actual price: \", log_price)\n",
    "print(\"Predicted price: \", pred_log_price)\n",
    "print(\"Upper bound: \", pred_log_price+abs(error_margin))"
   ]
  },
  {
   "cell_type": "markdown",
   "metadata": {},
   "source": [
    "Next we look at our predicion if it the user house had an extra toilet (1)"
   ]
  },
  {
   "cell_type": "code",
   "execution_count": 14,
   "metadata": {
    "ExecuteTime": {
     "end_time": "2018-12-05T21:34:44.818733Z",
     "start_time": "2018-12-05T21:34:44.813423Z"
    }
   },
   "outputs": [],
   "source": [
    "X_test2 = X_test.copy()\n",
    "X_test2['bathroom.toilet'] += 1"
   ]
  },
  {
   "cell_type": "code",
   "execution_count": 15,
   "metadata": {
    "ExecuteTime": {
     "end_time": "2018-12-05T21:34:45.229379Z",
     "start_time": "2018-12-05T21:34:44.821045Z"
    }
   },
   "outputs": [],
   "source": [
    "pred_log_price_2 = m.predict(X_test2)\n",
    "# error_margin_2 = fci.random_forest_error(m, X_train, X_test2)"
   ]
  },
  {
   "cell_type": "markdown",
   "metadata": {
    "ExecuteTime": {
     "end_time": "2018-12-05T15:16:24.738586Z",
     "start_time": "2018-12-05T15:16:24.733905Z"
    }
   },
   "source": [
    "print(\"Lower bound: \", pred_log_price)\n",
    "print(\"Predicted price: \", pred_log_price)\n",
    "print(\"Upper bound: \", pred_log_price)"
   ]
  },
  {
   "cell_type": "code",
   "execution_count": 22,
   "metadata": {
    "ExecuteTime": {
     "end_time": "2018-12-05T21:35:48.389930Z",
     "start_time": "2018-12-05T21:35:48.386458Z"
    }
   },
   "outputs": [
    {
     "data": {
      "text/plain": [
       "1638.5595855727677"
      ]
     },
     "execution_count": 22,
     "metadata": {},
     "output_type": "execute_result"
    }
   ],
   "source": [
    "(np.exp(pred_log_price_2) - np.exp(pred_log_price)).mean()"
   ]
  },
  {
   "cell_type": "code",
   "execution_count": 17,
   "metadata": {
    "ExecuteTime": {
     "end_time": "2018-12-05T21:34:45.348026Z",
     "start_time": "2018-12-05T21:34:45.237355Z"
    }
   },
   "outputs": [],
   "source": [
    "fi = rf_feat_importance(m, X_train)"
   ]
  },
  {
   "cell_type": "code",
   "execution_count": 18,
   "metadata": {
    "ExecuteTime": {
     "end_time": "2018-12-05T21:34:45.390549Z",
     "start_time": "2018-12-05T21:34:45.353699Z"
    }
   },
   "outputs": [
    {
     "data": {
      "text/html": [
       "<div>\n",
       "<style scoped>\n",
       "    .dataframe tbody tr th:only-of-type {\n",
       "        vertical-align: middle;\n",
       "    }\n",
       "\n",
       "    .dataframe tbody tr th {\n",
       "        vertical-align: top;\n",
       "    }\n",
       "\n",
       "    .dataframe thead th {\n",
       "        text-align: right;\n",
       "    }\n",
       "</style>\n",
       "<table border=\"1\" class=\"dataframe\">\n",
       "  <thead>\n",
       "    <tr style=\"text-align: right;\">\n",
       "      <th></th>\n",
       "      <th>cols</th>\n",
       "      <th>imp</th>\n",
       "    </tr>\n",
       "  </thead>\n",
       "  <tbody>\n",
       "    <tr>\n",
       "      <th>0</th>\n",
       "      <td>livingspace</td>\n",
       "      <td>0.426091</td>\n",
       "    </tr>\n",
       "    <tr>\n",
       "      <th>1</th>\n",
       "      <td>Gemiddelde woningwaarde:x 1 000 euro</td>\n",
       "      <td>0.155899</td>\n",
       "    </tr>\n",
       "    <tr>\n",
       "      <th>2</th>\n",
       "      <td>housetype</td>\n",
       "      <td>0.103665</td>\n",
       "    </tr>\n",
       "    <tr>\n",
       "      <th>4</th>\n",
       "      <td>lotsurface</td>\n",
       "      <td>0.082115</td>\n",
       "    </tr>\n",
       "    <tr>\n",
       "      <th>3</th>\n",
       "      <td>Postcode5</td>\n",
       "      <td>0.055502</td>\n",
       "    </tr>\n",
       "    <tr>\n",
       "      <th>5</th>\n",
       "      <td>yearofconstruction</td>\n",
       "      <td>0.048882</td>\n",
       "    </tr>\n",
       "    <tr>\n",
       "      <th>6</th>\n",
       "      <td>longitude</td>\n",
       "      <td>0.040367</td>\n",
       "    </tr>\n",
       "    <tr>\n",
       "      <th>7</th>\n",
       "      <td>latitude</td>\n",
       "      <td>0.038325</td>\n",
       "    </tr>\n",
       "    <tr>\n",
       "      <th>8</th>\n",
       "      <td>housesubtype</td>\n",
       "      <td>0.025422</td>\n",
       "    </tr>\n",
       "    <tr>\n",
       "      <th>9</th>\n",
       "      <td>rooms</td>\n",
       "      <td>0.020160</td>\n",
       "    </tr>\n",
       "    <tr>\n",
       "      <th>10</th>\n",
       "      <td>bathroom.toilet</td>\n",
       "      <td>0.003572</td>\n",
       "    </tr>\n",
       "  </tbody>\n",
       "</table>\n",
       "</div>"
      ],
      "text/plain": [
       "                                    cols       imp\n",
       "0                            livingspace  0.426091\n",
       "1   Gemiddelde woningwaarde:x 1 000 euro  0.155899\n",
       "2                              housetype  0.103665\n",
       "4                             lotsurface  0.082115\n",
       "3                              Postcode5  0.055502\n",
       "5                     yearofconstruction  0.048882\n",
       "6                              longitude  0.040367\n",
       "7                               latitude  0.038325\n",
       "8                           housesubtype  0.025422\n",
       "9                                  rooms  0.020160\n",
       "10                       bathroom.toilet  0.003572"
      ]
     },
     "execution_count": 18,
     "metadata": {},
     "output_type": "execute_result"
    }
   ],
   "source": [
    "fi"
   ]
  },
  {
   "cell_type": "markdown",
   "metadata": {},
   "source": [
    "## Testing the model for the full validation set"
   ]
  },
  {
   "cell_type": "code",
   "execution_count": 19,
   "metadata": {
    "ExecuteTime": {
     "end_time": "2018-12-05T21:34:45.469233Z",
     "start_time": "2018-12-05T21:34:45.397149Z"
    },
    "scrolled": false
   },
   "outputs": [
    {
     "name": "stdout",
     "output_type": "stream",
     "text": [
      "<class 'pandas.core.frame.DataFrame'>\n",
      "Int64Index: 66239 entries, 57585 to 43850\n",
      "Data columns (total 12 columns):\n",
      "livingspace                             66239 non-null float64\n",
      "Gemiddelde woningwaarde:x 1 000 euro    66239 non-null float64\n",
      "housetype                               66239 non-null category\n",
      "Postcode5                               66239 non-null int64\n",
      "lotsurface                              66239 non-null float64\n",
      "yearofconstruction                      66239 non-null float64\n",
      "longitude                               66239 non-null float64\n",
      "latitude                                66239 non-null float64\n",
      "housesubtype                            66239 non-null category\n",
      "rooms                                   66239 non-null float64\n",
      "bathroom.toilet                         66239 non-null int64\n",
      "endprice                                66239 non-null float64\n",
      "dtypes: category(2), float64(8), int64(2)\n",
      "memory usage: 5.7 MB\n"
     ]
    }
   ],
   "source": [
    "df.info()"
   ]
  },
  {
   "cell_type": "code",
   "execution_count": 20,
   "metadata": {
    "ExecuteTime": {
     "end_time": "2018-12-05T21:34:45.497989Z",
     "start_time": "2018-12-05T21:34:45.474922Z"
    }
   },
   "outputs": [
    {
     "data": {
      "text/plain": [
       "eengezinswoning    41473\n",
       "appartement        17094\n",
       "herenhuis           2792\n",
       "villa               2065\n",
       "bungalow            1394\n",
       "woonboerderij        948\n",
       "landhuis             370\n",
       "grachtenpand          79\n",
       "woonboot              13\n",
       "landgoed               8\n",
       "stacaravan             3\n",
       "Name: housetype, dtype: int64"
      ]
     },
     "execution_count": 20,
     "metadata": {},
     "output_type": "execute_result"
    }
   ],
   "source": [
    "df.housetype.value_counts()"
   ]
  }
 ],
 "metadata": {
  "kernelspec": {
   "display_name": "Python 3",
   "language": "python",
   "name": "python3"
  },
  "language_info": {
   "codemirror_mode": {
    "name": "ipython",
    "version": 3
   },
   "file_extension": ".py",
   "mimetype": "text/x-python",
   "name": "python",
   "nbconvert_exporter": "python",
   "pygments_lexer": "ipython3",
   "version": "3.6.4"
  },
  "latex_envs": {
   "LaTeX_envs_menu_present": true,
   "autoclose": false,
   "autocomplete": true,
   "bibliofile": "biblio.bib",
   "cite_by": "apalike",
   "current_citInitial": 1,
   "eqLabelWithNumbers": true,
   "eqNumInitial": 1,
   "hotkeys": {
    "equation": "Ctrl-E",
    "itemize": "Ctrl-I"
   },
   "labels_anchors": false,
   "latex_user_defs": false,
   "report_style_numbering": false,
   "user_envs_cfg": false
  },
  "toc": {
   "nav_menu": {},
   "number_sections": false,
   "sideBar": true,
   "skip_h1_title": false,
   "toc_cell": false,
   "toc_position": {},
   "toc_section_display": "block",
   "toc_window_display": false
  },
  "varInspector": {
   "cols": {
    "lenName": 16,
    "lenType": 16,
    "lenVar": 40
   },
   "kernels_config": {
    "python": {
     "delete_cmd_postfix": "",
     "delete_cmd_prefix": "del ",
     "library": "var_list.py",
     "varRefreshCmd": "print(var_dic_list())"
    },
    "r": {
     "delete_cmd_postfix": ") ",
     "delete_cmd_prefix": "rm(",
     "library": "var_list.r",
     "varRefreshCmd": "cat(var_dic_list()) "
    }
   },
   "types_to_exclude": [
    "module",
    "function",
    "builtin_function_or_method",
    "instance",
    "_Feature"
   ],
   "window_display": false
  }
 },
 "nbformat": 4,
 "nbformat_minor": 2
}
