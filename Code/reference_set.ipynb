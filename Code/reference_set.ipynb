{
 "cells": [
  {
   "cell_type": "code",
   "execution_count": 346,
   "metadata": {},
   "outputs": [],
   "source": [
    "import numpy as np\n",
    "import pandas as pd\n",
    "import pickle\n",
    "import numbers\n",
    "from sklearn.preprocessing import StandardScaler, MinMaxScaler\n",
    "from sklearn.decomposition import PCA\n",
    "from tkinter import *"
   ]
  },
  {
   "cell_type": "code",
   "execution_count": 3,
   "metadata": {},
   "outputs": [],
   "source": [
    "df = pickle.load(open('houses.p','rb'))"
   ]
  },
  {
   "cell_type": "code",
   "execution_count": 4,
   "metadata": {},
   "outputs": [
    {
     "data": {
      "text/html": [
       "<div>\n",
       "<style scoped>\n",
       "    .dataframe tbody tr th:only-of-type {\n",
       "        vertical-align: middle;\n",
       "    }\n",
       "\n",
       "    .dataframe tbody tr th {\n",
       "        vertical-align: top;\n",
       "    }\n",
       "\n",
       "    .dataframe thead th {\n",
       "        text-align: right;\n",
       "    }\n",
       "</style>\n",
       "<table border=\"1\" class=\"dataframe\">\n",
       "  <thead>\n",
       "    <tr style=\"text-align: right;\">\n",
       "      <th></th>\n",
       "      <th>buurt_code</th>\n",
       "      <th>V1.x</th>\n",
       "      <th>endprice</th>\n",
       "      <th>url</th>\n",
       "      <th>realtor</th>\n",
       "      <th>buurt_naam</th>\n",
       "      <th>wijk_code</th>\n",
       "      <th>bathroom.ligbad</th>\n",
       "      <th>bathroom.douche</th>\n",
       "      <th>bathroom.toilet</th>\n",
       "      <th>...</th>\n",
       "      <th>startDay</th>\n",
       "      <th>startDayofweek</th>\n",
       "      <th>startDayofyear</th>\n",
       "      <th>startIs_month_end</th>\n",
       "      <th>startIs_month_start</th>\n",
       "      <th>startIs_quarter_end</th>\n",
       "      <th>startIs_quarter_start</th>\n",
       "      <th>startIs_year_end</th>\n",
       "      <th>startIs_year_start</th>\n",
       "      <th>startElapsed</th>\n",
       "    </tr>\n",
       "  </thead>\n",
       "  <tbody>\n",
       "    <tr>\n",
       "      <th>57585</th>\n",
       "      <td>BU07980000</td>\n",
       "      <td>48990</td>\n",
       "      <td>12.464583</td>\n",
       "      <td>/koop/verkocht/hilvarenbeek/appartement-473706...</td>\n",
       "      <td>/makelaars/tilburg/19266-lupker-makelaardij/</td>\n",
       "      <td>Hilvarenbeek</td>\n",
       "      <td>WK079800</td>\n",
       "      <td>1</td>\n",
       "      <td>1</td>\n",
       "      <td>0</td>\n",
       "      <td>...</td>\n",
       "      <td>27.0</td>\n",
       "      <td>4.0</td>\n",
       "      <td>27.0</td>\n",
       "      <td>False</td>\n",
       "      <td>False</td>\n",
       "      <td>False</td>\n",
       "      <td>False</td>\n",
       "      <td>False</td>\n",
       "      <td>False</td>\n",
       "      <td>2293.0</td>\n",
       "    </tr>\n",
       "    <tr>\n",
       "      <th>57584</th>\n",
       "      <td>BU07980000</td>\n",
       "      <td>48989</td>\n",
       "      <td>12.549662</td>\n",
       "      <td>/koop/verkocht/hilvarenbeek/appartement-473706...</td>\n",
       "      <td>/makelaars/tilburg/19266-lupker-makelaardij/</td>\n",
       "      <td>Hilvarenbeek</td>\n",
       "      <td>WK079800</td>\n",
       "      <td>1</td>\n",
       "      <td>0</td>\n",
       "      <td>1</td>\n",
       "      <td>...</td>\n",
       "      <td>27.0</td>\n",
       "      <td>4.0</td>\n",
       "      <td>27.0</td>\n",
       "      <td>False</td>\n",
       "      <td>False</td>\n",
       "      <td>False</td>\n",
       "      <td>False</td>\n",
       "      <td>False</td>\n",
       "      <td>False</td>\n",
       "      <td>2293.0</td>\n",
       "    </tr>\n",
       "    <tr>\n",
       "      <th>50443</th>\n",
       "      <td>BU06870000</td>\n",
       "      <td>42289</td>\n",
       "      <td>12.205573</td>\n",
       "      <td>/koop/verkocht/middelburg/appartement-47228274...</td>\n",
       "      <td>/makelaars/goes/20112-kuub-makelaars/</td>\n",
       "      <td>Binnenstad</td>\n",
       "      <td>WK068700</td>\n",
       "      <td>0</td>\n",
       "      <td>1</td>\n",
       "      <td>0</td>\n",
       "      <td>...</td>\n",
       "      <td>26.0</td>\n",
       "      <td>5.0</td>\n",
       "      <td>330.0</td>\n",
       "      <td>False</td>\n",
       "      <td>False</td>\n",
       "      <td>False</td>\n",
       "      <td>False</td>\n",
       "      <td>False</td>\n",
       "      <td>False</td>\n",
       "      <td>2231.0</td>\n",
       "    </tr>\n",
       "    <tr>\n",
       "      <th>74786</th>\n",
       "      <td>BU18830502</td>\n",
       "      <td>59549</td>\n",
       "      <td>12.037654</td>\n",
       "      <td>/koop/verkocht/geleen/huis-84185703-slotmakers...</td>\n",
       "      <td>/makelaars/munstergeleen/62973-quaden-makelaar...</td>\n",
       "      <td>Geleen-Noord</td>\n",
       "      <td>WK188305</td>\n",
       "      <td>0</td>\n",
       "      <td>0</td>\n",
       "      <td>0</td>\n",
       "      <td>...</td>\n",
       "      <td>13.0</td>\n",
       "      <td>3.0</td>\n",
       "      <td>164.0</td>\n",
       "      <td>False</td>\n",
       "      <td>False</td>\n",
       "      <td>False</td>\n",
       "      <td>False</td>\n",
       "      <td>False</td>\n",
       "      <td>False</td>\n",
       "      <td>2796.0</td>\n",
       "    </tr>\n",
       "    <tr>\n",
       "      <th>57583</th>\n",
       "      <td>BU07980000</td>\n",
       "      <td>48988</td>\n",
       "      <td>12.896717</td>\n",
       "      <td>/koop/verkocht/hilvarenbeek/appartement-473706...</td>\n",
       "      <td>/makelaars/tilburg/19266-lupker-makelaardij/</td>\n",
       "      <td>Hilvarenbeek</td>\n",
       "      <td>WK079800</td>\n",
       "      <td>1</td>\n",
       "      <td>2</td>\n",
       "      <td>0</td>\n",
       "      <td>...</td>\n",
       "      <td>27.0</td>\n",
       "      <td>4.0</td>\n",
       "      <td>27.0</td>\n",
       "      <td>False</td>\n",
       "      <td>False</td>\n",
       "      <td>False</td>\n",
       "      <td>False</td>\n",
       "      <td>False</td>\n",
       "      <td>False</td>\n",
       "      <td>2293.0</td>\n",
       "    </tr>\n",
       "  </tbody>\n",
       "</table>\n",
       "<p>5 rows × 221 columns</p>\n",
       "</div>"
      ],
      "text/plain": [
       "       buurt_code   V1.x   endprice  \\\n",
       "57585  BU07980000  48990  12.464583   \n",
       "57584  BU07980000  48989  12.549662   \n",
       "50443  BU06870000  42289  12.205573   \n",
       "74786  BU18830502  59549  12.037654   \n",
       "57583  BU07980000  48988  12.896717   \n",
       "\n",
       "                                                     url  \\\n",
       "57585  /koop/verkocht/hilvarenbeek/appartement-473706...   \n",
       "57584  /koop/verkocht/hilvarenbeek/appartement-473706...   \n",
       "50443  /koop/verkocht/middelburg/appartement-47228274...   \n",
       "74786  /koop/verkocht/geleen/huis-84185703-slotmakers...   \n",
       "57583  /koop/verkocht/hilvarenbeek/appartement-473706...   \n",
       "\n",
       "                                                 realtor    buurt_naam  \\\n",
       "57585       /makelaars/tilburg/19266-lupker-makelaardij/  Hilvarenbeek   \n",
       "57584       /makelaars/tilburg/19266-lupker-makelaardij/  Hilvarenbeek   \n",
       "50443              /makelaars/goes/20112-kuub-makelaars/    Binnenstad   \n",
       "74786  /makelaars/munstergeleen/62973-quaden-makelaar...  Geleen-Noord   \n",
       "57583       /makelaars/tilburg/19266-lupker-makelaardij/  Hilvarenbeek   \n",
       "\n",
       "      wijk_code  bathroom.ligbad  bathroom.douche  bathroom.toilet  \\\n",
       "57585  WK079800                1                1                0   \n",
       "57584  WK079800                1                0                1   \n",
       "50443  WK068700                0                1                0   \n",
       "74786  WK188305                0                0                0   \n",
       "57583  WK079800                1                2                0   \n",
       "\n",
       "           ...       startDay  startDayofweek  startDayofyear  \\\n",
       "57585      ...           27.0             4.0            27.0   \n",
       "57584      ...           27.0             4.0            27.0   \n",
       "50443      ...           26.0             5.0           330.0   \n",
       "74786      ...           13.0             3.0           164.0   \n",
       "57583      ...           27.0             4.0            27.0   \n",
       "\n",
       "       startIs_month_end  startIs_month_start  startIs_quarter_end  \\\n",
       "57585              False                False                False   \n",
       "57584              False                False                False   \n",
       "50443              False                False                False   \n",
       "74786              False                False                False   \n",
       "57583              False                False                False   \n",
       "\n",
       "       startIs_quarter_start  startIs_year_end  startIs_year_start  \\\n",
       "57585                  False             False               False   \n",
       "57584                  False             False               False   \n",
       "50443                  False             False               False   \n",
       "74786                  False             False               False   \n",
       "57583                  False             False               False   \n",
       "\n",
       "       startElapsed  \n",
       "57585        2293.0  \n",
       "57584        2293.0  \n",
       "50443        2231.0  \n",
       "74786        2796.0  \n",
       "57583        2293.0  \n",
       "\n",
       "[5 rows x 221 columns]"
      ]
     },
     "execution_count": 4,
     "metadata": {},
     "output_type": "execute_result"
    }
   ],
   "source": [
    "df.head()"
   ]
  },
  {
   "cell_type": "code",
   "execution_count": 209,
   "metadata": {},
   "outputs": [],
   "source": [
    "df['lotsurface'] = df['lotsurface'].fillna(-1)"
   ]
  },
  {
   "cell_type": "code",
   "execution_count": 348,
   "metadata": {},
   "outputs": [
    {
     "data": {
      "text/plain": [
       "False"
      ]
     },
     "execution_count": 348,
     "metadata": {},
     "output_type": "execute_result"
    }
   ],
   "source": [
    "isinstance('a', numbers.Number)"
   ]
  },
  {
   "cell_type": "code",
   "execution_count": 370,
   "metadata": {},
   "outputs": [],
   "source": [
    "# weights --> dictionary of feature name to importance\n",
    "# data --> pandas datafram of houses with all relevant features\n",
    "# rcf --> list of all relevant features \n",
    "# puf --> list of all potentially upgradable features -should be a subset of relevant features \n",
    "# thres --> maximum distance a house can have from the target house if it is to be put in a reference set \n",
    "# target_house\n",
    "\n",
    "def normalize_column(x):\n",
    "    min_max_scaler = MinMaxScaler()\n",
    "    x_scaled = min_max_scaler.fit_transform(x)\n",
    "    return x_scaled, min_max_scaler\n",
    "\n",
    "def weightedL2(a,b,w):\n",
    "    q = a-b\n",
    "    return np.sqrt((w*q*q).sum())\n",
    "\n",
    "# rcf --> relevent comparable features rcfv--> relevant comparable feature values puf --> potential upgradable features\n",
    "def get_reference_indices(weights, data, thres, target_values):\n",
    "    reference_indices = []\n",
    "    for i, house in enumerate(data):\n",
    "#         print(weightedL2(target_values, house,weights))\n",
    "        if weightedL2(target_values, house,weights) <  thres:\n",
    "#             print(weightedL2(target_values, house,weights))\n",
    "            reference_indices.append(i)\n",
    "    return reference_indices\n",
    "\n",
    "def get_reference_sets(weights, rcf, ccf, data, target_house, thres=1):\n",
    "    df_ans = data.copy()\n",
    "    df = data[rcf+ccf] # We only look only at the columns that were determined to be relevant for comparison\n",
    "    t_house = target_house[rcf+ccf]\n",
    "    for col in ccf:\n",
    "        val = t_house[col].iloc[0]\n",
    "        df = df[df[col]==val]\n",
    "    for col in df[rcf].columns:\n",
    "        if (df[col].dtype in [bool,float,int,np.int64]):\n",
    "            a, b = normalize_column(df[[col]].values.astype(float))\n",
    "            df[col] = a\n",
    "            t_house[col] = b.transform(t_house[[col]].values.astype(float))\n",
    "    target_values = t_house[rcf].values\n",
    "    data_array = df[rcf].values\n",
    "#     return target_values\n",
    "    weights_arr = np.array(list(weights.copy().values()))\n",
    "    reference_index = get_reference_indices(weights_arr, data_array, thres, target_values)\n",
    "    return df_ans.iloc[reference_index]"
   ]
  },
  {
   "cell_type": "code",
   "execution_count": 386,
   "metadata": {},
   "outputs": [],
   "source": [
    "weights = {\"volume\" : 0.275818,\n",
    "            \"livingspace\" : 0.251524,\n",
    "            \"Gemiddelde woningwaarde:x 1 000 euro\" : 0.113488,\n",
    "#            \"housetype\" : 0.054045,\n",
    "           \"V1.x\":0.036266,\n",
    "           \"lotsurface\":0.029131,\n",
    "           \"yearofconstruction\":0.020824,\n",
    "           \"longitude\":0.017308,\n",
    "           'latitude':0.012521}\n",
    "#            'housesubtype':0.011934}\n",
    "\n",
    "#Normalize weights \n",
    "sum_vals = sum(weights.values())\n",
    "for key in weights.keys():\n",
    "    weights[key] = weights[key] / sum_vals\n",
    "    \n",
    "rcf = list(weights.keys())\n",
    "ccf = [\"housesubtype\",\"housetype\"]\n",
    "thresh = 0.1\n",
    "t_house = pd.DataFrame(df.iloc[0]).T"
   ]
  },
  {
   "cell_type": "code",
   "execution_count": 387,
   "metadata": {},
   "outputs": [
    {
     "name": "stderr",
     "output_type": "stream",
     "text": [
      "C:\\ProgramData\\Anaconda3\\lib\\site-packages\\ipykernel\\__main__.py:38: SettingWithCopyWarning: \n",
      "A value is trying to be set on a copy of a slice from a DataFrame.\n",
      "Try using .loc[row_indexer,col_indexer] = value instead\n",
      "\n",
      "See the caveats in the documentation: http://pandas.pydata.org/pandas-docs/stable/indexing.html#indexing-view-versus-copy\n",
      "C:\\ProgramData\\Anaconda3\\lib\\site-packages\\ipykernel\\__main__.py:38: SettingWithCopyWarning: \n",
      "A value is trying to be set on a copy of a slice from a DataFrame.\n",
      "Try using .loc[row_indexer,col_indexer] = value instead\n",
      "\n",
      "See the caveats in the documentation: http://pandas.pydata.org/pandas-docs/stable/indexing.html#indexing-view-versus-copy\n",
      "C:\\ProgramData\\Anaconda3\\lib\\site-packages\\ipykernel\\__main__.py:38: SettingWithCopyWarning: \n",
      "A value is trying to be set on a copy of a slice from a DataFrame.\n",
      "Try using .loc[row_indexer,col_indexer] = value instead\n",
      "\n",
      "See the caveats in the documentation: http://pandas.pydata.org/pandas-docs/stable/indexing.html#indexing-view-versus-copy\n",
      "C:\\ProgramData\\Anaconda3\\lib\\site-packages\\ipykernel\\__main__.py:38: SettingWithCopyWarning: \n",
      "A value is trying to be set on a copy of a slice from a DataFrame.\n",
      "Try using .loc[row_indexer,col_indexer] = value instead\n",
      "\n",
      "See the caveats in the documentation: http://pandas.pydata.org/pandas-docs/stable/indexing.html#indexing-view-versus-copy\n",
      "C:\\ProgramData\\Anaconda3\\lib\\site-packages\\ipykernel\\__main__.py:38: SettingWithCopyWarning: \n",
      "A value is trying to be set on a copy of a slice from a DataFrame.\n",
      "Try using .loc[row_indexer,col_indexer] = value instead\n",
      "\n",
      "See the caveats in the documentation: http://pandas.pydata.org/pandas-docs/stable/indexing.html#indexing-view-versus-copy\n",
      "C:\\ProgramData\\Anaconda3\\lib\\site-packages\\ipykernel\\__main__.py:38: SettingWithCopyWarning: \n",
      "A value is trying to be set on a copy of a slice from a DataFrame.\n",
      "Try using .loc[row_indexer,col_indexer] = value instead\n",
      "\n",
      "See the caveats in the documentation: http://pandas.pydata.org/pandas-docs/stable/indexing.html#indexing-view-versus-copy\n",
      "C:\\ProgramData\\Anaconda3\\lib\\site-packages\\ipykernel\\__main__.py:38: SettingWithCopyWarning: \n",
      "A value is trying to be set on a copy of a slice from a DataFrame.\n",
      "Try using .loc[row_indexer,col_indexer] = value instead\n",
      "\n",
      "See the caveats in the documentation: http://pandas.pydata.org/pandas-docs/stable/indexing.html#indexing-view-versus-copy\n",
      "C:\\ProgramData\\Anaconda3\\lib\\site-packages\\ipykernel\\__main__.py:38: SettingWithCopyWarning: \n",
      "A value is trying to be set on a copy of a slice from a DataFrame.\n",
      "Try using .loc[row_indexer,col_indexer] = value instead\n",
      "\n",
      "See the caveats in the documentation: http://pandas.pydata.org/pandas-docs/stable/indexing.html#indexing-view-versus-copy\n"
     ]
    }
   ],
   "source": [
    "result_1 = get_reference_sets(weights=weights, rcf = rcf, ccf = ccf, data= df, target_house= t_house,thres=thresh)"
   ]
  },
  {
   "cell_type": "code",
   "execution_count": 388,
   "metadata": {},
   "outputs": [
    {
     "data": {
      "text/plain": [
       "2416"
      ]
     },
     "execution_count": 388,
     "metadata": {},
     "output_type": "execute_result"
    }
   ],
   "source": [
    "len(result_1)"
   ]
  },
  {
   "cell_type": "code",
   "execution_count": 385,
   "metadata": {},
   "outputs": [
    {
     "name": "stdout",
     "output_type": "stream",
     "text": [
      "Enter House Volume in m3 : ξ\n"
     ]
    },
    {
     "ename": "ValueError",
     "evalue": "could not convert string to float: 'ξ'",
     "output_type": "error",
     "traceback": [
      "\u001b[1;31m---------------------------------------------------------------------------\u001b[0m",
      "\u001b[1;31mValueError\u001b[0m                                Traceback (most recent call last)",
      "\u001b[1;32m<ipython-input-385-6212ddcebfe8>\u001b[0m in \u001b[0;36m<module>\u001b[1;34m()\u001b[0m\n\u001b[0;32m      1\u001b[0m \u001b[1;31m# User input\u001b[0m\u001b[1;33m\u001b[0m\u001b[1;33m\u001b[0m\u001b[0m\n\u001b[1;32m----> 2\u001b[1;33m \u001b[0mVolume\u001b[0m \u001b[1;33m=\u001b[0m \u001b[0mfloat\u001b[0m\u001b[1;33m(\u001b[0m \u001b[0minput\u001b[0m\u001b[1;33m(\u001b[0m\u001b[1;34m\"Enter House Volume in m3 : \"\u001b[0m\u001b[1;33m)\u001b[0m\u001b[1;33m)\u001b[0m\u001b[1;33m\u001b[0m\u001b[0m\n\u001b[0m\u001b[0;32m      3\u001b[0m \u001b[0mLiving_space\u001b[0m \u001b[1;33m=\u001b[0m \u001b[0mfloat\u001b[0m \u001b[1;33m(\u001b[0m\u001b[0minput\u001b[0m\u001b[1;33m(\u001b[0m\u001b[1;34m\"Enter living space in m2 : \"\u001b[0m\u001b[1;33m)\u001b[0m\u001b[1;33m)\u001b[0m\u001b[1;33m\u001b[0m\u001b[0m\n\u001b[0;32m      4\u001b[0m \u001b[0mHouse_type\u001b[0m \u001b[1;33m=\u001b[0m \u001b[0minput\u001b[0m\u001b[1;33m(\u001b[0m\u001b[1;34m\"Please enter the type of the house : \"\u001b[0m\u001b[1;33m)\u001b[0m\u001b[1;33m\u001b[0m\u001b[0m\n\u001b[0;32m      5\u001b[0m \u001b[0mPostal_code\u001b[0m \u001b[1;33m=\u001b[0m \u001b[0minput\u001b[0m\u001b[1;33m(\u001b[0m\u001b[1;34m'Please enter a 4 digit postal code : '\u001b[0m\u001b[1;33m)\u001b[0m\u001b[1;33m\u001b[0m\u001b[0m\n",
      "\u001b[1;31mValueError\u001b[0m: could not convert string to float: 'ξ'"
     ]
    }
   ],
   "source": [
    "# User input \n",
    "Volume = float( input(\"Enter House Volume in m3 : \"))\n",
    "Living_space = float (input(\"Enter living space in m2 : \"))\n",
    "House_type = input(\"Please enter the type of the house : \")\n",
    "Postal_code = input('Please enter a 4 digit postal code : ')\n",
    "Lot_surface = float( input('Please entere the lot surface in m2 : '))\n",
    "Year_consrt = int( input(\"Please enter year of construction : \"))\n",
    "Long = float( input(\"Please enter longtitude : \"))\n",
    "Lang = float( input(\"Please enter Langtitude : \"))\n",
    "House_sub_type = input(\"Please enter house sub type : \")"
   ]
  },
  {
   "cell_type": "code",
   "execution_count": null,
   "metadata": {},
   "outputs": [],
   "source": []
  },
  {
   "cell_type": "code",
   "execution_count": 48,
   "metadata": {},
   "outputs": [
    {
     "data": {
      "text/plain": [
       "CategoricalDtype(categories=['2-onder-1-kapwoning', 'beneden + bovenwoning',\n",
       "                  'benedenwoning', 'bovenwoning', 'dubbel benedenhuis',\n",
       "                  'eindwoning', 'galerijflat',\n",
       "                  'geschakelde 2-onder-1-kapwoning', 'geschakelde woning',\n",
       "                  'halfvrijstaande woning', 'hoekwoning', 'maisonnette',\n",
       "                  'penthouse', 'portiekflat', 'portiekwoning',\n",
       "                  'studentenkamer', 'tussenverdieping', 'tussenwoning',\n",
       "                  'verspringend', 'vrijstaande woning'],\n",
       "                 ordered=True)"
      ]
     },
     "execution_count": 48,
     "metadata": {},
     "output_type": "execute_result"
    }
   ],
   "source": [
    "df.housesubtype.dtype"
   ]
  },
  {
   "cell_type": "code",
   "execution_count": null,
   "metadata": {},
   "outputs": [],
   "source": []
  },
  {
   "cell_type": "code",
   "execution_count": null,
   "metadata": {},
   "outputs": [],
   "source": []
  }
 ],
 "metadata": {
  "hide_input": false,
  "kernelspec": {
   "display_name": "Python [conda root]",
   "language": "python",
   "name": "conda-root-py"
  },
  "language_info": {
   "codemirror_mode": {
    "name": "ipython",
    "version": 3
   },
   "file_extension": ".py",
   "mimetype": "text/x-python",
   "name": "python",
   "nbconvert_exporter": "python",
   "pygments_lexer": "ipython3",
   "version": "3.6.5"
  }
 },
 "nbformat": 4,
 "nbformat_minor": 2
}
