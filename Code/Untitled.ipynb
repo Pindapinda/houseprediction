{
 "cells": [
  {
   "cell_type": "code",
   "execution_count": 1,
   "metadata": {
    "ExecuteTime": {
     "end_time": "2018-11-25T14:36:23.427237Z",
     "start_time": "2018-11-25T14:36:22.951960Z"
    }
   },
   "outputs": [],
   "source": [
    "import pandas as pd\n",
    "import pickle\n",
    "from sklearn.ensemble import RandomForestRegressor as RFR\n",
    "from preprocessing import *"
   ]
  },
  {
   "cell_type": "code",
   "execution_count": 2,
   "metadata": {
    "ExecuteTime": {
     "end_time": "2018-11-25T14:36:23.445828Z",
     "start_time": "2018-11-25T14:36:23.428947Z"
    }
   },
   "outputs": [],
   "source": [
    "df = pickle.load(open('houses_final.p', 'rb'))\n",
    "\n",
    "X_train, y_train = pickle.load(open('train_final.p','rb'))\n",
    "X_valid, y_valid = pickle.load(open('valid_final.p','rb'))\n",
    "X_test, y_test = pickle.load(open('test_final.p','rb'))"
   ]
  },
  {
   "cell_type": "code",
   "execution_count": 3,
   "metadata": {
    "ExecuteTime": {
     "end_time": "2018-11-25T14:36:26.990923Z",
     "start_time": "2018-11-25T14:36:23.447192Z"
    },
    "scrolled": true
   },
   "outputs": [
    {
     "name": "stdout",
     "output_type": "stream",
     "text": [
      "[0.1045429765973855, 0.19651353543256472, 0.952196786037634, 0.8393277445898214, 0.8597276921886612]\n"
     ]
    }
   ],
   "source": [
    "m = RFR(n_estimators=120, min_samples_leaf=3, max_features=0.5, n_jobs=-1, oob_score=True)\n",
    "m.fit(X_train, y_train)\n",
    "print_score(m, X_train, y_train, X_valid, y_valid)"
   ]
  },
  {
   "cell_type": "code",
   "execution_count": 4,
   "metadata": {
    "ExecuteTime": {
     "end_time": "2018-11-25T14:36:27.017179Z",
     "start_time": "2018-11-25T14:36:26.992606Z"
    }
   },
   "outputs": [
    {
     "data": {
      "text/html": [
       "<div>\n",
       "<style scoped>\n",
       "    .dataframe tbody tr th:only-of-type {\n",
       "        vertical-align: middle;\n",
       "    }\n",
       "\n",
       "    .dataframe tbody tr th {\n",
       "        vertical-align: top;\n",
       "    }\n",
       "\n",
       "    .dataframe thead th {\n",
       "        text-align: right;\n",
       "    }\n",
       "</style>\n",
       "<table border=\"1\" class=\"dataframe\">\n",
       "  <thead>\n",
       "    <tr style=\"text-align: right;\">\n",
       "      <th></th>\n",
       "      <th>volume</th>\n",
       "      <th>livingspace</th>\n",
       "      <th>Gemiddelde woningwaarde:x 1 000 euro</th>\n",
       "      <th>housetype</th>\n",
       "      <th>V1.x</th>\n",
       "      <th>lotsurface</th>\n",
       "      <th>yearofconstruction</th>\n",
       "      <th>longitude</th>\n",
       "      <th>latitude</th>\n",
       "      <th>housesubtype</th>\n",
       "    </tr>\n",
       "  </thead>\n",
       "  <tbody>\n",
       "    <tr>\n",
       "      <th>57585</th>\n",
       "      <td>255.0</td>\n",
       "      <td>97.0</td>\n",
       "      <td>270.0</td>\n",
       "      <td>1</td>\n",
       "      <td>48990</td>\n",
       "      <td>215.0</td>\n",
       "      <td>2013.0</td>\n",
       "      <td>5.132951</td>\n",
       "      <td>51.484440</td>\n",
       "      <td>14</td>\n",
       "    </tr>\n",
       "    <tr>\n",
       "      <th>57584</th>\n",
       "      <td>264.0</td>\n",
       "      <td>106.0</td>\n",
       "      <td>270.0</td>\n",
       "      <td>1</td>\n",
       "      <td>48989</td>\n",
       "      <td>215.0</td>\n",
       "      <td>2013.0</td>\n",
       "      <td>5.132951</td>\n",
       "      <td>51.484440</td>\n",
       "      <td>14</td>\n",
       "    </tr>\n",
       "    <tr>\n",
       "      <th>50443</th>\n",
       "      <td>213.0</td>\n",
       "      <td>82.0</td>\n",
       "      <td>171.0</td>\n",
       "      <td>1</td>\n",
       "      <td>42289</td>\n",
       "      <td>215.0</td>\n",
       "      <td>2011.0</td>\n",
       "      <td>3.617541</td>\n",
       "      <td>51.497042</td>\n",
       "      <td>7</td>\n",
       "    </tr>\n",
       "    <tr>\n",
       "      <th>74786</th>\n",
       "      <td>480.0</td>\n",
       "      <td>115.0</td>\n",
       "      <td>149.0</td>\n",
       "      <td>3</td>\n",
       "      <td>59549</td>\n",
       "      <td>215.0</td>\n",
       "      <td>1987.0</td>\n",
       "      <td>5.835048</td>\n",
       "      <td>50.979161</td>\n",
       "      <td>10</td>\n",
       "    </tr>\n",
       "    <tr>\n",
       "      <th>57583</th>\n",
       "      <td>335.0</td>\n",
       "      <td>127.0</td>\n",
       "      <td>270.0</td>\n",
       "      <td>1</td>\n",
       "      <td>48988</td>\n",
       "      <td>215.0</td>\n",
       "      <td>2013.0</td>\n",
       "      <td>5.132951</td>\n",
       "      <td>51.484440</td>\n",
       "      <td>14</td>\n",
       "    </tr>\n",
       "  </tbody>\n",
       "</table>\n",
       "</div>"
      ],
      "text/plain": [
       "       volume  livingspace  Gemiddelde woningwaarde:x 1 000 euro  housetype  \\\n",
       "57585   255.0         97.0                                 270.0          1   \n",
       "57584   264.0        106.0                                 270.0          1   \n",
       "50443   213.0         82.0                                 171.0          1   \n",
       "74786   480.0        115.0                                 149.0          3   \n",
       "57583   335.0        127.0                                 270.0          1   \n",
       "\n",
       "        V1.x  lotsurface  yearofconstruction  longitude   latitude  \\\n",
       "57585  48990       215.0              2013.0   5.132951  51.484440   \n",
       "57584  48989       215.0              2013.0   5.132951  51.484440   \n",
       "50443  42289       215.0              2011.0   3.617541  51.497042   \n",
       "74786  59549       215.0              1987.0   5.835048  50.979161   \n",
       "57583  48988       215.0              2013.0   5.132951  51.484440   \n",
       "\n",
       "       housesubtype  \n",
       "57585            14  \n",
       "57584            14  \n",
       "50443             7  \n",
       "74786            10  \n",
       "57583            14  "
      ]
     },
     "execution_count": 4,
     "metadata": {},
     "output_type": "execute_result"
    }
   ],
   "source": [
    "X_train.head()"
   ]
  },
  {
   "cell_type": "code",
   "execution_count": 5,
   "metadata": {
    "ExecuteTime": {
     "end_time": "2018-11-25T14:36:27.077067Z",
     "start_time": "2018-11-25T14:36:27.020653Z"
    }
   },
   "outputs": [],
   "source": [
    "X_train_housetype_3_old_index = X_train[X_train['housetype'] == 3].index\n",
    "X_valid_housetype_3_old_index = X_valid[X_valid['housetype'] == 3].index\n",
    "X_test_housetype_3_old_index = X_test[X_test['housetype'] == 3].index\n",
    "\n",
    "X_train_housetype_1_old_index = X_train[X_train['housetype'] == 1].index\n",
    "X_valid_housetype_1_old_index = X_valid[X_valid['housetype'] == 1].index\n",
    "X_test_housetype_1_old_index = X_test[X_test['housetype'] == 1].index\n",
    "\n",
    "X_train_housetype_3_index = X_train.reset_index()[X_train.reset_index()['housetype'] == 3].index\n",
    "X_valid_housetype_3_index = X_valid.reset_index()[X_valid.reset_index()['housetype'] == 3].index\n",
    "X_test_housetype_3_index = X_test.reset_index()[X_test.reset_index()['housetype'] == 3].index\n",
    "\n",
    "X_train_housetype_1_index = X_train.reset_index()[X_train.reset_index()['housetype'] == 1].index\n",
    "X_valid_housetype_1_index = X_valid.reset_index()[X_valid.reset_index()['housetype'] == 1].index\n",
    "X_test_housetype_1_index = X_test.reset_index()[X_test.reset_index()['housetype'] == 1].index "
   ]
  },
  {
   "cell_type": "code",
   "execution_count": 6,
   "metadata": {
    "ExecuteTime": {
     "end_time": "2018-11-25T14:36:27.104982Z",
     "start_time": "2018-11-25T14:36:27.078518Z"
    }
   },
   "outputs": [],
   "source": [
    "X_train_housetype_3 = X_train.loc[X_train_housetype_3_old_index]\n",
    "y_train_housetype_3 = y_train[X_train_housetype_3_index]\n",
    "X_valid_housetype_3 = X_valid.loc[X_valid_housetype_3_old_index]\n",
    "y_valid_housetype_3 = y_valid[X_valid_housetype_3_index]\n",
    "X_test_housetype_3 = X_test.loc[X_test_housetype_3_old_index]\n",
    "y_test_housetype_3 = y_test[X_test_housetype_3_index]\n",
    "\n",
    "X_train_housetype_1 = X_train.loc[X_train_housetype_1_old_index]\n",
    "y_train_housetype_1 = y_train[X_train_housetype_1_index]\n",
    "X_valid_housetype_1 = X_valid.loc[X_valid_housetype_1_old_index]\n",
    "y_valid_housetype_1 = y_valid[X_valid_housetype_1_index]\n",
    "X_test_housetype_1 = X_test.loc[X_test_housetype_1_old_index]\n",
    "y_test_housetype_1 = y_test[X_test_housetype_1_index]"
   ]
  },
  {
   "cell_type": "code",
   "execution_count": 7,
   "metadata": {
    "ExecuteTime": {
     "end_time": "2018-11-25T14:36:27.117733Z",
     "start_time": "2018-11-25T14:36:27.106247Z"
    }
   },
   "outputs": [],
   "source": [
    "X_train_housetype_3.drop(['housetype'], axis=1, inplace=True)\n",
    "X_valid_housetype_3.drop(['housetype'], axis=1, inplace=True)\n",
    "X_test_housetype_3.drop(['housetype'], axis=1, inplace=True)\n",
    "\n",
    "X_train_housetype_1.drop(['housetype'], axis=1, inplace=True)\n",
    "X_valid_housetype_1.drop(['housetype'], axis=1, inplace=True)\n",
    "X_test_housetype_1.drop(['housetype'], axis=1, inplace=True)"
   ]
  },
  {
   "cell_type": "code",
   "execution_count": 8,
   "metadata": {
    "ExecuteTime": {
     "end_time": "2018-11-25T14:36:29.437098Z",
     "start_time": "2018-11-25T14:36:27.120633Z"
    }
   },
   "outputs": [
    {
     "name": "stdout",
     "output_type": "stream",
     "text": [
      "[0.0978226181997895, 0.17766042477812988, 0.9285562656610585, 0.7825006098172043, 0.7937588045905861]\n"
     ]
    }
   ],
   "source": [
    "m = RFR(n_estimators=120, min_samples_leaf=3, max_features=0.5, n_jobs=-1, oob_score=True)\n",
    "m.fit(X_train_housetype_3, y_train_housetype_3)\n",
    "print_score(m, X_train_housetype_3, y_train_housetype_3, X_valid_housetype_3, y_valid_housetype_3)"
   ]
  },
  {
   "cell_type": "code",
   "execution_count": 9,
   "metadata": {
    "ExecuteTime": {
     "end_time": "2018-11-25T14:36:29.568627Z",
     "start_time": "2018-11-25T14:36:29.440961Z"
    }
   },
   "outputs": [
    {
     "data": {
      "text/html": [
       "<div>\n",
       "<style scoped>\n",
       "    .dataframe tbody tr th:only-of-type {\n",
       "        vertical-align: middle;\n",
       "    }\n",
       "\n",
       "    .dataframe tbody tr th {\n",
       "        vertical-align: top;\n",
       "    }\n",
       "\n",
       "    .dataframe thead th {\n",
       "        text-align: right;\n",
       "    }\n",
       "</style>\n",
       "<table border=\"1\" class=\"dataframe\">\n",
       "  <thead>\n",
       "    <tr style=\"text-align: right;\">\n",
       "      <th></th>\n",
       "      <th>cols</th>\n",
       "      <th>imp</th>\n",
       "    </tr>\n",
       "  </thead>\n",
       "  <tbody>\n",
       "    <tr>\n",
       "      <th>0</th>\n",
       "      <td>volume</td>\n",
       "      <td>0.217094</td>\n",
       "    </tr>\n",
       "    <tr>\n",
       "      <th>1</th>\n",
       "      <td>livingspace</td>\n",
       "      <td>0.215202</td>\n",
       "    </tr>\n",
       "    <tr>\n",
       "      <th>2</th>\n",
       "      <td>Gemiddelde woningwaarde:x 1 000 euro</td>\n",
       "      <td>0.180769</td>\n",
       "    </tr>\n",
       "    <tr>\n",
       "      <th>3</th>\n",
       "      <td>V1.x</td>\n",
       "      <td>0.104029</td>\n",
       "    </tr>\n",
       "    <tr>\n",
       "      <th>7</th>\n",
       "      <td>latitude</td>\n",
       "      <td>0.072706</td>\n",
       "    </tr>\n",
       "    <tr>\n",
       "      <th>4</th>\n",
       "      <td>lotsurface</td>\n",
       "      <td>0.067374</td>\n",
       "    </tr>\n",
       "    <tr>\n",
       "      <th>6</th>\n",
       "      <td>longitude</td>\n",
       "      <td>0.066957</td>\n",
       "    </tr>\n",
       "    <tr>\n",
       "      <th>5</th>\n",
       "      <td>yearofconstruction</td>\n",
       "      <td>0.050389</td>\n",
       "    </tr>\n",
       "    <tr>\n",
       "      <th>8</th>\n",
       "      <td>housesubtype</td>\n",
       "      <td>0.025481</td>\n",
       "    </tr>\n",
       "  </tbody>\n",
       "</table>\n",
       "</div>"
      ],
      "text/plain": [
       "                                   cols       imp\n",
       "0                                volume  0.217094\n",
       "1                           livingspace  0.215202\n",
       "2  Gemiddelde woningwaarde:x 1 000 euro  0.180769\n",
       "3                                  V1.x  0.104029\n",
       "7                              latitude  0.072706\n",
       "4                            lotsurface  0.067374\n",
       "6                             longitude  0.066957\n",
       "5                    yearofconstruction  0.050389\n",
       "8                          housesubtype  0.025481"
      ]
     },
     "execution_count": 9,
     "metadata": {},
     "output_type": "execute_result"
    }
   ],
   "source": [
    "fi = rf_feat_importance(m, X_train_housetype_3)\n",
    "fi"
   ]
  },
  {
   "cell_type": "code",
   "execution_count": 10,
   "metadata": {
    "ExecuteTime": {
     "end_time": "2018-11-25T14:36:30.768081Z",
     "start_time": "2018-11-25T14:36:29.573989Z"
    }
   },
   "outputs": [
    {
     "name": "stdout",
     "output_type": "stream",
     "text": [
      "[0.10812385797622033, 0.21354756216459117, 0.9397308234760353, 0.7998817187235099, 0.8359572291434838]\n"
     ]
    }
   ],
   "source": [
    "m = RFR(n_estimators=120, min_samples_leaf=3, max_features=0.5, n_jobs=-1, oob_score=True)\n",
    "m.fit(X_train_housetype_1, y_train_housetype_1)\n",
    "print_score(m, X_train_housetype_1, y_train_housetype_1, X_valid_housetype_1, y_valid_housetype_1)"
   ]
  },
  {
   "cell_type": "code",
   "execution_count": 11,
   "metadata": {
    "ExecuteTime": {
     "end_time": "2018-11-25T14:36:30.900304Z",
     "start_time": "2018-11-25T14:36:30.774257Z"
    }
   },
   "outputs": [
    {
     "data": {
      "text/html": [
       "<div>\n",
       "<style scoped>\n",
       "    .dataframe tbody tr th:only-of-type {\n",
       "        vertical-align: middle;\n",
       "    }\n",
       "\n",
       "    .dataframe tbody tr th {\n",
       "        vertical-align: top;\n",
       "    }\n",
       "\n",
       "    .dataframe thead th {\n",
       "        text-align: right;\n",
       "    }\n",
       "</style>\n",
       "<table border=\"1\" class=\"dataframe\">\n",
       "  <thead>\n",
       "    <tr style=\"text-align: right;\">\n",
       "      <th></th>\n",
       "      <th>cols</th>\n",
       "      <th>imp</th>\n",
       "    </tr>\n",
       "  </thead>\n",
       "  <tbody>\n",
       "    <tr>\n",
       "      <th>0</th>\n",
       "      <td>volume</td>\n",
       "      <td>0.339668</td>\n",
       "    </tr>\n",
       "    <tr>\n",
       "      <th>1</th>\n",
       "      <td>livingspace</td>\n",
       "      <td>0.255460</td>\n",
       "    </tr>\n",
       "    <tr>\n",
       "      <th>2</th>\n",
       "      <td>Gemiddelde woningwaarde:x 1 000 euro</td>\n",
       "      <td>0.128683</td>\n",
       "    </tr>\n",
       "    <tr>\n",
       "      <th>5</th>\n",
       "      <td>yearofconstruction</td>\n",
       "      <td>0.127388</td>\n",
       "    </tr>\n",
       "    <tr>\n",
       "      <th>3</th>\n",
       "      <td>V1.x</td>\n",
       "      <td>0.049355</td>\n",
       "    </tr>\n",
       "    <tr>\n",
       "      <th>6</th>\n",
       "      <td>longitude</td>\n",
       "      <td>0.040888</td>\n",
       "    </tr>\n",
       "    <tr>\n",
       "      <th>7</th>\n",
       "      <td>latitude</td>\n",
       "      <td>0.040443</td>\n",
       "    </tr>\n",
       "    <tr>\n",
       "      <th>8</th>\n",
       "      <td>housesubtype</td>\n",
       "      <td>0.018113</td>\n",
       "    </tr>\n",
       "    <tr>\n",
       "      <th>4</th>\n",
       "      <td>lotsurface</td>\n",
       "      <td>0.000000</td>\n",
       "    </tr>\n",
       "  </tbody>\n",
       "</table>\n",
       "</div>"
      ],
      "text/plain": [
       "                                   cols       imp\n",
       "0                                volume  0.339668\n",
       "1                           livingspace  0.255460\n",
       "2  Gemiddelde woningwaarde:x 1 000 euro  0.128683\n",
       "5                    yearofconstruction  0.127388\n",
       "3                                  V1.x  0.049355\n",
       "6                             longitude  0.040888\n",
       "7                              latitude  0.040443\n",
       "8                          housesubtype  0.018113\n",
       "4                            lotsurface  0.000000"
      ]
     },
     "execution_count": 11,
     "metadata": {},
     "output_type": "execute_result"
    }
   ],
   "source": [
    "fi = rf_feat_importance(m, X_train_housetype_1)\n",
    "fi"
   ]
  }
 ],
 "metadata": {
  "kernelspec": {
   "display_name": "Python 3",
   "language": "python",
   "name": "python3"
  },
  "language_info": {
   "codemirror_mode": {
    "name": "ipython",
    "version": 3
   },
   "file_extension": ".py",
   "mimetype": "text/x-python",
   "name": "python",
   "nbconvert_exporter": "python",
   "pygments_lexer": "ipython3",
   "version": "3.6.4"
  },
  "latex_envs": {
   "LaTeX_envs_menu_present": true,
   "autoclose": false,
   "autocomplete": true,
   "bibliofile": "biblio.bib",
   "cite_by": "apalike",
   "current_citInitial": 1,
   "eqLabelWithNumbers": true,
   "eqNumInitial": 1,
   "hotkeys": {
    "equation": "Ctrl-E",
    "itemize": "Ctrl-I"
   },
   "labels_anchors": false,
   "latex_user_defs": false,
   "report_style_numbering": false,
   "user_envs_cfg": false
  },
  "toc": {
   "nav_menu": {},
   "number_sections": false,
   "sideBar": true,
   "skip_h1_title": false,
   "toc_cell": false,
   "toc_position": {},
   "toc_section_display": "block",
   "toc_window_display": false
  },
  "varInspector": {
   "cols": {
    "lenName": 16,
    "lenType": 16,
    "lenVar": 40
   },
   "kernels_config": {
    "python": {
     "delete_cmd_postfix": "",
     "delete_cmd_prefix": "del ",
     "library": "var_list.py",
     "varRefreshCmd": "print(var_dic_list())"
    },
    "r": {
     "delete_cmd_postfix": ") ",
     "delete_cmd_prefix": "rm(",
     "library": "var_list.r",
     "varRefreshCmd": "cat(var_dic_list()) "
    }
   },
   "types_to_exclude": [
    "module",
    "function",
    "builtin_function_or_method",
    "instance",
    "_Feature"
   ],
   "window_display": false
  }
 },
 "nbformat": 4,
 "nbformat_minor": 2
}
